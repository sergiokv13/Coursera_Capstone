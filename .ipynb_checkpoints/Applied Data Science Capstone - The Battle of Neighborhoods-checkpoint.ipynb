{
 "cells": [
  {
   "cell_type": "markdown",
   "metadata": {},
   "source": [
    "# The Battle of Neighborhoods\n",
    "Sergio Koller"
   ]
  },
  {
   "cell_type": "markdown",
   "metadata": {},
   "source": [
    "The city of Buenos Aires has to cathegorize their neighborhoods in order recognize the commercial areas from the living areas. This is mainly to see how the town hall is going to allocate the funds destined for commercial growth and for living subsidies.\n",
    "\n",
    "The objective of this project is to segment the neighborhoods in 5 different categories:\n",
    "\n",
    "1. Very High Commercial Area\n",
    "2. High Commercial Area\n",
    "3. Mid level Commercial Area\n",
    "4. Low Commercial Area\n",
    "5. Very Low Commercial Area\n",
    "\n",
    "So that the City of Buenos Aires will be able to allocate the 2020 funds to mantain \"Very High Commercial Areas\", Grow \"High Commercial Areas\", and invest in living areas in the other categories.\n",
    "\n",
    "Also the project will provide a visual prove of the information gathered, so that the allocation decisions can be analyzed taking in consideration the location of the nieghborhoods. \n",
    "\n",
    "For this project the following data will be used:\n",
    "\n",
    "- Buenos Aires Neighborhoods data set - https://data.buenosaires.gob.ar/dataset/barrios\n",
    "- Foursquare near venues - https://es.foursquare.com/\n",
    "\n",
    "This data will be used to analyze the density of commercial venues in all the neighborhoods from Buenos Aires and segment them into the previously mentioned cathegories."
   ]
  },
  {
   "cell_type": "markdown",
   "metadata": {},
   "source": [
    "## Solution to the problem"
   ]
  },
  {
   "cell_type": "markdown",
   "metadata": {},
   "source": [
    "Needed libraries"
   ]
  },
  {
   "cell_type": "code",
   "execution_count": 62,
   "metadata": {},
   "outputs": [],
   "source": [
    "import pandas as pd\n",
    "import numpy as np\n",
    "# For web scrapping\n",
    "# pip install lxml html5lib beautifulsoup4\n",
    "# pd.options.mode.chained_assignment = None  # default='warn'\n",
    "\n",
    "import requests # library to handle requests\n",
    "\n",
    "# Matplotlib and associated plotting modules\n",
    "import matplotlib.pyplot as plt\n",
    "import matplotlib.cm as cm\n",
    "import matplotlib.colors as colors\n",
    "\n",
    "# import seaborn\n",
    "import seaborn as sns\n",
    "\n",
    "# import k-means from clustering stage\n",
    "from sklearn.cluster import KMeans\n",
    "from sklearn.preprocessing import StandardScaler\n",
    "\n",
    "#!conda install -c conda-forge folium=0.5.0 --yes # uncomment this line if you haven't completed the Foursquare API lab\n",
    "import folium # map rendering library"
   ]
  },
  {
   "cell_type": "markdown",
   "metadata": {},
   "source": [
    "## Get the data and prepare it"
   ]
  },
  {
   "cell_type": "markdown",
   "metadata": {},
   "source": [
    "Read the neighborhoods information for buenos aires"
   ]
  },
  {
   "cell_type": "code",
   "execution_count": 32,
   "metadata": {},
   "outputs": [
    {
     "data": {
      "text/html": [
       "<div>\n",
       "<style scoped>\n",
       "    .dataframe tbody tr th:only-of-type {\n",
       "        vertical-align: middle;\n",
       "    }\n",
       "\n",
       "    .dataframe tbody tr th {\n",
       "        vertical-align: top;\n",
       "    }\n",
       "\n",
       "    .dataframe thead th {\n",
       "        text-align: right;\n",
       "    }\n",
       "</style>\n",
       "<table border=\"1\" class=\"dataframe\">\n",
       "  <thead>\n",
       "    <tr style=\"text-align: right;\">\n",
       "      <th></th>\n",
       "      <th>WKT</th>\n",
       "      <th>barrio</th>\n",
       "      <th>comuna</th>\n",
       "      <th>perimetro</th>\n",
       "      <th>area</th>\n",
       "    </tr>\n",
       "  </thead>\n",
       "  <tbody>\n",
       "    <tr>\n",
       "      <th>0</th>\n",
       "      <td>POLYGON ((-58.4528200492791 -34.5959886570639,...</td>\n",
       "      <td>CHACARITA</td>\n",
       "      <td>15</td>\n",
       "      <td>7724.852955</td>\n",
       "      <td>3.115707e+06</td>\n",
       "    </tr>\n",
       "    <tr>\n",
       "      <th>1</th>\n",
       "      <td>POLYGON ((-58.4655768128541 -34.5965577078058,...</td>\n",
       "      <td>PATERNAL</td>\n",
       "      <td>15</td>\n",
       "      <td>7087.513295</td>\n",
       "      <td>2.229829e+06</td>\n",
       "    </tr>\n",
       "    <tr>\n",
       "      <th>2</th>\n",
       "      <td>POLYGON ((-58.4237529813037 -34.5978273383243,...</td>\n",
       "      <td>VILLA CRESPO</td>\n",
       "      <td>15</td>\n",
       "      <td>8131.857075</td>\n",
       "      <td>3.615978e+06</td>\n",
       "    </tr>\n",
       "    <tr>\n",
       "      <th>3</th>\n",
       "      <td>POLYGON ((-58.4946097568899 -34.6148652395239,...</td>\n",
       "      <td>VILLA DEL PARQUE</td>\n",
       "      <td>11</td>\n",
       "      <td>7705.389797</td>\n",
       "      <td>3.399596e+06</td>\n",
       "    </tr>\n",
       "    <tr>\n",
       "      <th>4</th>\n",
       "      <td>POLYGON ((-58.4128700313089 -34.6141162515854,...</td>\n",
       "      <td>ALMAGRO</td>\n",
       "      <td>5</td>\n",
       "      <td>8537.901368</td>\n",
       "      <td>4.050752e+06</td>\n",
       "    </tr>\n",
       "  </tbody>\n",
       "</table>\n",
       "</div>"
      ],
      "text/plain": [
       "                                                 WKT            barrio  \\\n",
       "0  POLYGON ((-58.4528200492791 -34.5959886570639,...         CHACARITA   \n",
       "1  POLYGON ((-58.4655768128541 -34.5965577078058,...          PATERNAL   \n",
       "2  POLYGON ((-58.4237529813037 -34.5978273383243,...      VILLA CRESPO   \n",
       "3  POLYGON ((-58.4946097568899 -34.6148652395239,...  VILLA DEL PARQUE   \n",
       "4  POLYGON ((-58.4128700313089 -34.6141162515854,...           ALMAGRO   \n",
       "\n",
       "   comuna    perimetro          area  \n",
       "0      15  7724.852955  3.115707e+06  \n",
       "1      15  7087.513295  2.229829e+06  \n",
       "2      15  8131.857075  3.615978e+06  \n",
       "3      11  7705.389797  3.399596e+06  \n",
       "4       5  8537.901368  4.050752e+06  "
      ]
     },
     "execution_count": 32,
     "metadata": {},
     "output_type": "execute_result"
    }
   ],
   "source": [
    "neigh_bs = pd.read_csv('Barrios.csv')\n",
    "neigh_bs.head()"
   ]
  },
  {
   "cell_type": "markdown",
   "metadata": {},
   "source": [
    "Get Latitude and Longitude for each neighborhood with a accuracy of 6 points after the dot"
   ]
  },
  {
   "cell_type": "code",
   "execution_count": 33,
   "metadata": {},
   "outputs": [
    {
     "data": {
      "text/html": [
       "<div>\n",
       "<style scoped>\n",
       "    .dataframe tbody tr th:only-of-type {\n",
       "        vertical-align: middle;\n",
       "    }\n",
       "\n",
       "    .dataframe tbody tr th {\n",
       "        vertical-align: top;\n",
       "    }\n",
       "\n",
       "    .dataframe thead th {\n",
       "        text-align: right;\n",
       "    }\n",
       "</style>\n",
       "<table border=\"1\" class=\"dataframe\">\n",
       "  <thead>\n",
       "    <tr style=\"text-align: right;\">\n",
       "      <th></th>\n",
       "      <th>WKT</th>\n",
       "      <th>barrio</th>\n",
       "      <th>comuna</th>\n",
       "      <th>perimetro</th>\n",
       "      <th>area</th>\n",
       "      <th>Coordinates</th>\n",
       "      <th>Latitude</th>\n",
       "      <th>Longitude</th>\n",
       "    </tr>\n",
       "  </thead>\n",
       "  <tbody>\n",
       "    <tr>\n",
       "      <th>0</th>\n",
       "      <td>POLYGON ((-58.4528200492791 -34.5959886570639,...</td>\n",
       "      <td>CHACARITA</td>\n",
       "      <td>15</td>\n",
       "      <td>7724.852955</td>\n",
       "      <td>3.115707e+06</td>\n",
       "      <td>[-58.452820, -34.595988]</td>\n",
       "      <td>-34.595988</td>\n",
       "      <td>-58.452820</td>\n",
       "    </tr>\n",
       "    <tr>\n",
       "      <th>1</th>\n",
       "      <td>POLYGON ((-58.4655768128541 -34.5965577078058,...</td>\n",
       "      <td>PATERNAL</td>\n",
       "      <td>15</td>\n",
       "      <td>7087.513295</td>\n",
       "      <td>2.229829e+06</td>\n",
       "      <td>[-58.465576, -34.596557]</td>\n",
       "      <td>-34.596557</td>\n",
       "      <td>-58.465576</td>\n",
       "    </tr>\n",
       "    <tr>\n",
       "      <th>2</th>\n",
       "      <td>POLYGON ((-58.4237529813037 -34.5978273383243,...</td>\n",
       "      <td>VILLA CRESPO</td>\n",
       "      <td>15</td>\n",
       "      <td>8131.857075</td>\n",
       "      <td>3.615978e+06</td>\n",
       "      <td>[-58.423752, -34.597827]</td>\n",
       "      <td>-34.597827</td>\n",
       "      <td>-58.423752</td>\n",
       "    </tr>\n",
       "    <tr>\n",
       "      <th>3</th>\n",
       "      <td>POLYGON ((-58.4946097568899 -34.6148652395239,...</td>\n",
       "      <td>VILLA DEL PARQUE</td>\n",
       "      <td>11</td>\n",
       "      <td>7705.389797</td>\n",
       "      <td>3.399596e+06</td>\n",
       "      <td>[-58.494609, -34.614865]</td>\n",
       "      <td>-34.614865</td>\n",
       "      <td>-58.494609</td>\n",
       "    </tr>\n",
       "    <tr>\n",
       "      <th>4</th>\n",
       "      <td>POLYGON ((-58.4128700313089 -34.6141162515854,...</td>\n",
       "      <td>ALMAGRO</td>\n",
       "      <td>5</td>\n",
       "      <td>8537.901368</td>\n",
       "      <td>4.050752e+06</td>\n",
       "      <td>[-58.412870, -34.614116]</td>\n",
       "      <td>-34.614116</td>\n",
       "      <td>-58.412870</td>\n",
       "    </tr>\n",
       "  </tbody>\n",
       "</table>\n",
       "</div>"
      ],
      "text/plain": [
       "                                                 WKT            barrio  \\\n",
       "0  POLYGON ((-58.4528200492791 -34.5959886570639,...         CHACARITA   \n",
       "1  POLYGON ((-58.4655768128541 -34.5965577078058,...          PATERNAL   \n",
       "2  POLYGON ((-58.4237529813037 -34.5978273383243,...      VILLA CRESPO   \n",
       "3  POLYGON ((-58.4946097568899 -34.6148652395239,...  VILLA DEL PARQUE   \n",
       "4  POLYGON ((-58.4128700313089 -34.6141162515854,...           ALMAGRO   \n",
       "\n",
       "   comuna    perimetro          area               Coordinates    Latitude  \\\n",
       "0      15  7724.852955  3.115707e+06  [-58.452820, -34.595988]  -34.595988   \n",
       "1      15  7087.513295  2.229829e+06  [-58.465576, -34.596557]  -34.596557   \n",
       "2      15  8131.857075  3.615978e+06  [-58.423752, -34.597827]  -34.597827   \n",
       "3      11  7705.389797  3.399596e+06  [-58.494609, -34.614865]  -34.614865   \n",
       "4       5  8537.901368  4.050752e+06  [-58.412870, -34.614116]  -34.614116   \n",
       "\n",
       "    Longitude  \n",
       "0  -58.452820  \n",
       "1  -58.465576  \n",
       "2  -58.423752  \n",
       "3  -58.494609  \n",
       "4  -58.412870  "
      ]
     },
     "execution_count": 33,
     "metadata": {},
     "output_type": "execute_result"
    }
   ],
   "source": [
    "neigh_bs['Coordinates'] = neigh_bs['WKT'].apply(lambda x:[x[10:20],x[28:38]])\n",
    "neigh_bs['Latitude'] = neigh_bs['Coordinates'].apply(lambda x:x[1])\n",
    "neigh_bs['Longitude'] = neigh_bs['Coordinates'].apply(lambda x:x[0])\n",
    "\n",
    "neigh_bs.head()"
   ]
  },
  {
   "cell_type": "markdown",
   "metadata": {},
   "source": [
    "Remove unnecesary columns and use english for naming conventions"
   ]
  },
  {
   "cell_type": "code",
   "execution_count": 34,
   "metadata": {},
   "outputs": [
    {
     "data": {
      "text/html": [
       "<div>\n",
       "<style scoped>\n",
       "    .dataframe tbody tr th:only-of-type {\n",
       "        vertical-align: middle;\n",
       "    }\n",
       "\n",
       "    .dataframe tbody tr th {\n",
       "        vertical-align: top;\n",
       "    }\n",
       "\n",
       "    .dataframe thead th {\n",
       "        text-align: right;\n",
       "    }\n",
       "</style>\n",
       "<table border=\"1\" class=\"dataframe\">\n",
       "  <thead>\n",
       "    <tr style=\"text-align: right;\">\n",
       "      <th></th>\n",
       "      <th>Neighborhood</th>\n",
       "      <th>Latitude</th>\n",
       "      <th>Longitude</th>\n",
       "    </tr>\n",
       "  </thead>\n",
       "  <tbody>\n",
       "    <tr>\n",
       "      <th>0</th>\n",
       "      <td>CHACARITA</td>\n",
       "      <td>-34.595988</td>\n",
       "      <td>-58.452820</td>\n",
       "    </tr>\n",
       "    <tr>\n",
       "      <th>1</th>\n",
       "      <td>PATERNAL</td>\n",
       "      <td>-34.596557</td>\n",
       "      <td>-58.465576</td>\n",
       "    </tr>\n",
       "    <tr>\n",
       "      <th>2</th>\n",
       "      <td>VILLA CRESPO</td>\n",
       "      <td>-34.597827</td>\n",
       "      <td>-58.423752</td>\n",
       "    </tr>\n",
       "    <tr>\n",
       "      <th>3</th>\n",
       "      <td>VILLA DEL PARQUE</td>\n",
       "      <td>-34.614865</td>\n",
       "      <td>-58.494609</td>\n",
       "    </tr>\n",
       "    <tr>\n",
       "      <th>4</th>\n",
       "      <td>ALMAGRO</td>\n",
       "      <td>-34.614116</td>\n",
       "      <td>-58.412870</td>\n",
       "    </tr>\n",
       "  </tbody>\n",
       "</table>\n",
       "</div>"
      ],
      "text/plain": [
       "       Neighborhood    Latitude   Longitude\n",
       "0         CHACARITA  -34.595988  -58.452820\n",
       "1          PATERNAL  -34.596557  -58.465576\n",
       "2      VILLA CRESPO  -34.597827  -58.423752\n",
       "3  VILLA DEL PARQUE  -34.614865  -58.494609\n",
       "4           ALMAGRO  -34.614116  -58.412870"
      ]
     },
     "execution_count": 34,
     "metadata": {},
     "output_type": "execute_result"
    }
   ],
   "source": [
    "neigh_bs.drop(['WKT','comuna','perimetro','area','Coordinates'], axis=1, inplace = True)\n",
    "neigh_bs.columns = ['Neighborhood','Latitude','Longitude']\n",
    "neigh_bs.head()"
   ]
  },
  {
   "cell_type": "markdown",
   "metadata": {},
   "source": [
    "Cast Latitude and Longitude to float"
   ]
  },
  {
   "cell_type": "code",
   "execution_count": 35,
   "metadata": {},
   "outputs": [
    {
     "data": {
      "text/plain": [
       "Neighborhood     object\n",
       "Latitude        float64\n",
       "Longitude       float64\n",
       "dtype: object"
      ]
     },
     "execution_count": 35,
     "metadata": {},
     "output_type": "execute_result"
    }
   ],
   "source": [
    "neigh_bs['Latitude'] = neigh_bs['Latitude'].astype(float)\n",
    "neigh_bs['Longitude'] = neigh_bs['Longitude'].astype(float)\n",
    "neigh_bs.dtypes"
   ]
  },
  {
   "cell_type": "markdown",
   "metadata": {},
   "source": [
    "Plot the points over the map of buenos aires"
   ]
  },
  {
   "cell_type": "code",
   "execution_count": 36,
   "metadata": {},
   "outputs": [
    {
     "data": {
      "text/html": [
       "<div style=\"width:100%;\"><div style=\"position:relative;width:100%;height:0;padding-bottom:60%;\"><span style=\"color:#565656\">Make this Notebook Trusted to load map: File -> Trust Notebook</span><iframe src=\"about:blank\" style=\"position:absolute;width:100%;height:100%;left:0;top:0;border:none !important;\" data-html=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 onload=\"this.contentDocument.open();this.contentDocument.write(atob(this.getAttribute('data-html')));this.contentDocument.close();\" allowfullscreen webkitallowfullscreen mozallowfullscreen></iframe></div></div>"
      ],
      "text/plain": [
       "<folium.folium.Map at 0x7fcf9b586cd0>"
      ]
     },
     "execution_count": 36,
     "metadata": {},
     "output_type": "execute_result"
    }
   ],
   "source": [
    "map_bs = folium.Map(location=[-34.6131516, -58.3772316], zoom_start=10)\n",
    "\n",
    "for lat, lng, neighborhood in zip(neigh_bs['Latitude'], neigh_bs['Longitude'], neigh_bs['Neighborhood']):\n",
    "    label = '{}'.format(neighborhood)\n",
    "    label = folium.Popup(label, parse_html=True)\n",
    "    folium.CircleMarker(\n",
    "        [lat, lng],\n",
    "        radius=5,\n",
    "        popup=label,\n",
    "        color='blue',\n",
    "        fill=True,\n",
    "        fill_color='#3186cc',\n",
    "        fill_opacity=0.7,\n",
    "        parse_html=False).add_to(map_bs)  \n",
    "    \n",
    "map_bs"
   ]
  },
  {
   "cell_type": "markdown",
   "metadata": {},
   "source": [
    "## Get the number of venues for each neighborhood"
   ]
  },
  {
   "cell_type": "code",
   "execution_count": 37,
   "metadata": {},
   "outputs": [],
   "source": [
    "CLIENT_ID = 'E251QN2CRIXCPQUWZZJS3PNUPM2XSMWHTW4KPOQ0VF11E1WG' # your Foursquare ID\n",
    "CLIENT_SECRET = 'AFC1LVRBBMAKFXHUI0KKJJZXSZFHH1LRW4S0OUX1ICBVEHEX' # your Foursquare Secret\n",
    "VERSION = '20180605' # Foursquare API version"
   ]
  },
  {
   "cell_type": "markdown",
   "metadata": {},
   "source": [
    "Function the get the venues for each neighborhood"
   ]
  },
  {
   "cell_type": "code",
   "execution_count": 40,
   "metadata": {},
   "outputs": [],
   "source": [
    "LIMIT = 100 # limit of number of venues returned by Foursquare API\n",
    "\n",
    "radius = 500 # define radius\n",
    "\n",
    "def getNearbyVenues(names, latitudes, longitudes, radius=500):\n",
    "    \n",
    "    venues_list=[]\n",
    "    for name, lat, lng in zip(names, latitudes, longitudes):            \n",
    "        # create the API request URL\n",
    "        url = 'https://api.foursquare.com/v2/venues/explore?&client_id={}&client_secret={}&v={}&ll={},{}&radius={}&limit={}'.format(\n",
    "            CLIENT_ID, \n",
    "            CLIENT_SECRET, \n",
    "            VERSION, \n",
    "            lat, \n",
    "            lng, \n",
    "            radius, \n",
    "            LIMIT)\n",
    "            \n",
    "        # make the GET request\n",
    "        results = requests.get(url).json()[\"response\"]['groups'][0]['items']\n",
    "        \n",
    "        # return only relevant information for each nearby venue\n",
    "        venues_list.append([(\n",
    "            name, \n",
    "            lat, \n",
    "            lng, \n",
    "            v['venue']['name'], \n",
    "            v['venue']['location']['lat'], \n",
    "            v['venue']['location']['lng'],  \n",
    "            v['venue']['categories'][0]['name']) for v in results])\n",
    "\n",
    "    nearby_venues = pd.DataFrame([item for venue_list in venues_list for item in venue_list])\n",
    "    nearby_venues.columns = ['Neighborhood', \n",
    "                  'Neighborhood Latitude', \n",
    "                  'Neighborhood Longitude', \n",
    "                  'Venue', \n",
    "                  'Venue Latitude', \n",
    "                  'Venue Longitude', \n",
    "                  'Venue Category']\n",
    "    \n",
    "    return(nearby_venues)"
   ]
  },
  {
   "cell_type": "code",
   "execution_count": 41,
   "metadata": {},
   "outputs": [
    {
     "data": {
      "text/html": [
       "<div>\n",
       "<style scoped>\n",
       "    .dataframe tbody tr th:only-of-type {\n",
       "        vertical-align: middle;\n",
       "    }\n",
       "\n",
       "    .dataframe tbody tr th {\n",
       "        vertical-align: top;\n",
       "    }\n",
       "\n",
       "    .dataframe thead th {\n",
       "        text-align: right;\n",
       "    }\n",
       "</style>\n",
       "<table border=\"1\" class=\"dataframe\">\n",
       "  <thead>\n",
       "    <tr style=\"text-align: right;\">\n",
       "      <th></th>\n",
       "      <th>Neighborhood</th>\n",
       "      <th>Neighborhood Latitude</th>\n",
       "      <th>Neighborhood Longitude</th>\n",
       "      <th>Venue</th>\n",
       "      <th>Venue Latitude</th>\n",
       "      <th>Venue Longitude</th>\n",
       "      <th>Venue Category</th>\n",
       "    </tr>\n",
       "  </thead>\n",
       "  <tbody>\n",
       "    <tr>\n",
       "      <th>0</th>\n",
       "      <td>CHACARITA</td>\n",
       "      <td>-34.595988</td>\n",
       "      <td>-58.45282</td>\n",
       "      <td>Yeite</td>\n",
       "      <td>-34.596012</td>\n",
       "      <td>-58.449280</td>\n",
       "      <td>Deli / Bodega</td>\n",
       "    </tr>\n",
       "    <tr>\n",
       "      <th>1</th>\n",
       "      <td>CHACARITA</td>\n",
       "      <td>-34.595988</td>\n",
       "      <td>-58.45282</td>\n",
       "      <td>Movistar Arena</td>\n",
       "      <td>-34.594348</td>\n",
       "      <td>-58.448033</td>\n",
       "      <td>Stadium</td>\n",
       "    </tr>\n",
       "    <tr>\n",
       "      <th>2</th>\n",
       "      <td>CHACARITA</td>\n",
       "      <td>-34.595988</td>\n",
       "      <td>-58.45282</td>\n",
       "      <td>Margen del Mundo</td>\n",
       "      <td>-34.596987</td>\n",
       "      <td>-58.456835</td>\n",
       "      <td>Museum</td>\n",
       "    </tr>\n",
       "    <tr>\n",
       "      <th>3</th>\n",
       "      <td>CHACARITA</td>\n",
       "      <td>-34.595988</td>\n",
       "      <td>-58.45282</td>\n",
       "      <td>Tiro Loco</td>\n",
       "      <td>-34.598935</td>\n",
       "      <td>-58.452126</td>\n",
       "      <td>Café</td>\n",
       "    </tr>\n",
       "    <tr>\n",
       "      <th>4</th>\n",
       "      <td>CHACARITA</td>\n",
       "      <td>-34.595988</td>\n",
       "      <td>-58.45282</td>\n",
       "      <td>Alumni Fútbol 5</td>\n",
       "      <td>-34.597889</td>\n",
       "      <td>-58.451936</td>\n",
       "      <td>Soccer Field</td>\n",
       "    </tr>\n",
       "  </tbody>\n",
       "</table>\n",
       "</div>"
      ],
      "text/plain": [
       "  Neighborhood  Neighborhood Latitude  Neighborhood Longitude  \\\n",
       "0    CHACARITA             -34.595988               -58.45282   \n",
       "1    CHACARITA             -34.595988               -58.45282   \n",
       "2    CHACARITA             -34.595988               -58.45282   \n",
       "3    CHACARITA             -34.595988               -58.45282   \n",
       "4    CHACARITA             -34.595988               -58.45282   \n",
       "\n",
       "              Venue  Venue Latitude  Venue Longitude Venue Category  \n",
       "0             Yeite      -34.596012       -58.449280  Deli / Bodega  \n",
       "1    Movistar Arena      -34.594348       -58.448033        Stadium  \n",
       "2  Margen del Mundo      -34.596987       -58.456835         Museum  \n",
       "3         Tiro Loco      -34.598935       -58.452126           Café  \n",
       "4   Alumni Fútbol 5      -34.597889       -58.451936   Soccer Field  "
      ]
     },
     "execution_count": 41,
     "metadata": {},
     "output_type": "execute_result"
    }
   ],
   "source": [
    "bs_venues = getNearbyVenues(names=neigh_bs['Neighborhood'],\n",
    "                            latitudes=neigh_bs['Latitude'],\n",
    "                            longitudes=neigh_bs['Longitude'])\n",
    "bs_venues.head()"
   ]
  },
  {
   "cell_type": "markdown",
   "metadata": {},
   "source": [
    "Count venues for neighborhood and atach it to neigh_bs dataframe"
   ]
  },
  {
   "cell_type": "code",
   "execution_count": 43,
   "metadata": {},
   "outputs": [
    {
     "data": {
      "text/html": [
       "<div>\n",
       "<style scoped>\n",
       "    .dataframe tbody tr th:only-of-type {\n",
       "        vertical-align: middle;\n",
       "    }\n",
       "\n",
       "    .dataframe tbody tr th {\n",
       "        vertical-align: top;\n",
       "    }\n",
       "\n",
       "    .dataframe thead th {\n",
       "        text-align: right;\n",
       "    }\n",
       "</style>\n",
       "<table border=\"1\" class=\"dataframe\">\n",
       "  <thead>\n",
       "    <tr style=\"text-align: right;\">\n",
       "      <th></th>\n",
       "      <th>Neighborhood</th>\n",
       "      <th>Latitude</th>\n",
       "      <th>Longitude</th>\n",
       "      <th>Number of Venues</th>\n",
       "    </tr>\n",
       "  </thead>\n",
       "  <tbody>\n",
       "    <tr>\n",
       "      <th>0</th>\n",
       "      <td>CHACARITA</td>\n",
       "      <td>-34.595988</td>\n",
       "      <td>-58.452820</td>\n",
       "      <td>7</td>\n",
       "    </tr>\n",
       "    <tr>\n",
       "      <th>1</th>\n",
       "      <td>PATERNAL</td>\n",
       "      <td>-34.596557</td>\n",
       "      <td>-58.465576</td>\n",
       "      <td>5</td>\n",
       "    </tr>\n",
       "    <tr>\n",
       "      <th>2</th>\n",
       "      <td>VILLA CRESPO</td>\n",
       "      <td>-34.597827</td>\n",
       "      <td>-58.423752</td>\n",
       "      <td>26</td>\n",
       "    </tr>\n",
       "    <tr>\n",
       "      <th>3</th>\n",
       "      <td>VILLA DEL PARQUE</td>\n",
       "      <td>-34.614865</td>\n",
       "      <td>-58.494609</td>\n",
       "      <td>8</td>\n",
       "    </tr>\n",
       "    <tr>\n",
       "      <th>4</th>\n",
       "      <td>ALMAGRO</td>\n",
       "      <td>-34.614116</td>\n",
       "      <td>-58.412870</td>\n",
       "      <td>17</td>\n",
       "    </tr>\n",
       "  </tbody>\n",
       "</table>\n",
       "</div>"
      ],
      "text/plain": [
       "       Neighborhood   Latitude  Longitude  Number of Venues\n",
       "0         CHACARITA -34.595988 -58.452820                 7\n",
       "1          PATERNAL -34.596557 -58.465576                 5\n",
       "2      VILLA CRESPO -34.597827 -58.423752                26\n",
       "3  VILLA DEL PARQUE -34.614865 -58.494609                 8\n",
       "4           ALMAGRO -34.614116 -58.412870                17"
      ]
     },
     "execution_count": 43,
     "metadata": {},
     "output_type": "execute_result"
    }
   ],
   "source": [
    "venues_for_neighborhood = bs_venues.groupby(['Neighborhood']).count()['Venue']\n",
    "# there are some neighborhoods without venues (forsquare doesn't work so good for south america)\n",
    "# so will use this method that will check if the key exists in venues_for_neighborhood\n",
    "def get_venues_count(x):\n",
    "    if x in venues_for_neighborhood:\n",
    "        return venues_for_neighborhood[x]\n",
    "    else:\n",
    "        return 0\n",
    "\n",
    "neigh_bs['Number of Venues'] = neigh_bs['Neighborhood'].apply(lambda x:get_venues_count(x))\n",
    "neigh_bs.head()"
   ]
  },
  {
   "cell_type": "code",
   "execution_count": 47,
   "metadata": {},
   "outputs": [
    {
     "data": {
      "text/html": [
       "<div>\n",
       "<style scoped>\n",
       "    .dataframe tbody tr th:only-of-type {\n",
       "        vertical-align: middle;\n",
       "    }\n",
       "\n",
       "    .dataframe tbody tr th {\n",
       "        vertical-align: top;\n",
       "    }\n",
       "\n",
       "    .dataframe thead th {\n",
       "        text-align: right;\n",
       "    }\n",
       "</style>\n",
       "<table border=\"1\" class=\"dataframe\">\n",
       "  <thead>\n",
       "    <tr style=\"text-align: right;\">\n",
       "      <th></th>\n",
       "      <th>Latitude</th>\n",
       "      <th>Longitude</th>\n",
       "      <th>Number of Venues</th>\n",
       "    </tr>\n",
       "  </thead>\n",
       "  <tbody>\n",
       "    <tr>\n",
       "      <th>count</th>\n",
       "      <td>48.000000</td>\n",
       "      <td>48.000000</td>\n",
       "      <td>48.000000</td>\n",
       "    </tr>\n",
       "    <tr>\n",
       "      <th>mean</th>\n",
       "      <td>-31.725983</td>\n",
       "      <td>-58.445459</td>\n",
       "      <td>12.312500</td>\n",
       "    </tr>\n",
       "    <tr>\n",
       "      <th>std</th>\n",
       "      <td>13.980989</td>\n",
       "      <td>0.049159</td>\n",
       "      <td>11.599993</td>\n",
       "    </tr>\n",
       "    <tr>\n",
       "      <th>min</th>\n",
       "      <td>-34.680610</td>\n",
       "      <td>-58.525116</td>\n",
       "      <td>0.000000</td>\n",
       "    </tr>\n",
       "    <tr>\n",
       "      <th>25%</th>\n",
       "      <td>-34.632015</td>\n",
       "      <td>-58.482287</td>\n",
       "      <td>4.000000</td>\n",
       "    </tr>\n",
       "    <tr>\n",
       "      <th>50%</th>\n",
       "      <td>-34.614018</td>\n",
       "      <td>-58.455768</td>\n",
       "      <td>8.000000</td>\n",
       "    </tr>\n",
       "    <tr>\n",
       "      <th>75%</th>\n",
       "      <td>-34.585260</td>\n",
       "      <td>-58.411883</td>\n",
       "      <td>17.000000</td>\n",
       "    </tr>\n",
       "    <tr>\n",
       "      <th>max</th>\n",
       "      <td>34.630356</td>\n",
       "      <td>-58.351957</td>\n",
       "      <td>46.000000</td>\n",
       "    </tr>\n",
       "  </tbody>\n",
       "</table>\n",
       "</div>"
      ],
      "text/plain": [
       "        Latitude  Longitude  Number of Venues\n",
       "count  48.000000  48.000000         48.000000\n",
       "mean  -31.725983 -58.445459         12.312500\n",
       "std    13.980989   0.049159         11.599993\n",
       "min   -34.680610 -58.525116          0.000000\n",
       "25%   -34.632015 -58.482287          4.000000\n",
       "50%   -34.614018 -58.455768          8.000000\n",
       "75%   -34.585260 -58.411883         17.000000\n",
       "max    34.630356 -58.351957         46.000000"
      ]
     },
     "execution_count": 47,
     "metadata": {},
     "output_type": "execute_result"
    }
   ],
   "source": [
    "neigh_bs.describe()"
   ]
  },
  {
   "cell_type": "markdown",
   "metadata": {},
   "source": [
    "## Standarize the data and perform cluster the neighborhoods"
   ]
  },
  {
   "cell_type": "markdown",
   "metadata": {},
   "source": [
    "Implement the scandard scaler for the number of venues attribute"
   ]
  },
  {
   "cell_type": "code",
   "execution_count": 48,
   "metadata": {},
   "outputs": [
    {
     "data": {
      "text/html": [
       "<div>\n",
       "<style scoped>\n",
       "    .dataframe tbody tr th:only-of-type {\n",
       "        vertical-align: middle;\n",
       "    }\n",
       "\n",
       "    .dataframe tbody tr th {\n",
       "        vertical-align: top;\n",
       "    }\n",
       "\n",
       "    .dataframe thead th {\n",
       "        text-align: right;\n",
       "    }\n",
       "</style>\n",
       "<table border=\"1\" class=\"dataframe\">\n",
       "  <thead>\n",
       "    <tr style=\"text-align: right;\">\n",
       "      <th></th>\n",
       "      <th>Neighborhood</th>\n",
       "      <th>Latitude</th>\n",
       "      <th>Longitude</th>\n",
       "      <th>Number of Venues</th>\n",
       "    </tr>\n",
       "  </thead>\n",
       "  <tbody>\n",
       "    <tr>\n",
       "      <th>0</th>\n",
       "      <td>CHACARITA</td>\n",
       "      <td>-34.595988</td>\n",
       "      <td>-58.452820</td>\n",
       "      <td>-0.462821</td>\n",
       "    </tr>\n",
       "    <tr>\n",
       "      <th>1</th>\n",
       "      <td>PATERNAL</td>\n",
       "      <td>-34.596557</td>\n",
       "      <td>-58.465576</td>\n",
       "      <td>-0.637059</td>\n",
       "    </tr>\n",
       "    <tr>\n",
       "      <th>2</th>\n",
       "      <td>VILLA CRESPO</td>\n",
       "      <td>-34.597827</td>\n",
       "      <td>-58.423752</td>\n",
       "      <td>1.192444</td>\n",
       "    </tr>\n",
       "    <tr>\n",
       "      <th>3</th>\n",
       "      <td>VILLA DEL PARQUE</td>\n",
       "      <td>-34.614865</td>\n",
       "      <td>-58.494609</td>\n",
       "      <td>-0.375702</td>\n",
       "    </tr>\n",
       "    <tr>\n",
       "      <th>4</th>\n",
       "      <td>ALMAGRO</td>\n",
       "      <td>-34.614116</td>\n",
       "      <td>-58.412870</td>\n",
       "      <td>0.408371</td>\n",
       "    </tr>\n",
       "  </tbody>\n",
       "</table>\n",
       "</div>"
      ],
      "text/plain": [
       "       Neighborhood   Latitude  Longitude  Number of Venues\n",
       "0         CHACARITA -34.595988 -58.452820         -0.462821\n",
       "1          PATERNAL -34.596557 -58.465576         -0.637059\n",
       "2      VILLA CRESPO -34.597827 -58.423752          1.192444\n",
       "3  VILLA DEL PARQUE -34.614865 -58.494609         -0.375702\n",
       "4           ALMAGRO -34.614116 -58.412870          0.408371"
      ]
     },
     "execution_count": 48,
     "metadata": {},
     "output_type": "execute_result"
    }
   ],
   "source": [
    "sc_X = StandardScaler()\n",
    "neigh_bs['Number of Venues'] = sc_X.fit_transform(neigh_bs[['Number of Venues']])\n",
    "neigh_bs.head()"
   ]
  },
  {
   "cell_type": "markdown",
   "metadata": {},
   "source": [
    "Perform K-means"
   ]
  },
  {
   "cell_type": "code",
   "execution_count": 49,
   "metadata": {},
   "outputs": [
    {
     "data": {
      "text/plain": [
       "array([4, 0, 1, 4, 2, 2, 4, 0, 0, 0], dtype=int32)"
      ]
     },
     "execution_count": 49,
     "metadata": {},
     "output_type": "execute_result"
    }
   ],
   "source": [
    "# set number of clusters\n",
    "kclusters = 5\n",
    "\n",
    "neigh_bs_clustering = neigh_bs.drop(['Neighborhood','Latitude','Longitude'], 1)\n",
    "\n",
    "# run k-means clustering\n",
    "kmeans = KMeans(n_clusters=kclusters, random_state=0).fit(neigh_bs_clustering)\n",
    "\n",
    "# check cluster labels generated for each row in the dataframe\n",
    "kmeans.labels_[0:10] "
   ]
  },
  {
   "cell_type": "markdown",
   "metadata": {},
   "source": [
    "Check if all the clusters are filled to see if our random state is correct"
   ]
  },
  {
   "cell_type": "code",
   "execution_count": 50,
   "metadata": {},
   "outputs": [
    {
     "data": {
      "text/plain": [
       "array([4, 0, 1, 2, 3], dtype=int32)"
      ]
     },
     "execution_count": 50,
     "metadata": {},
     "output_type": "execute_result"
    }
   ],
   "source": [
    "pd.Series(kmeans.labels_).unique()"
   ]
  },
  {
   "cell_type": "markdown",
   "metadata": {},
   "source": [
    "Add clusters to neigh_bs dataframe and change names"
   ]
  },
  {
   "cell_type": "code",
   "execution_count": 51,
   "metadata": {},
   "outputs": [
    {
     "data": {
      "text/html": [
       "<div>\n",
       "<style scoped>\n",
       "    .dataframe tbody tr th:only-of-type {\n",
       "        vertical-align: middle;\n",
       "    }\n",
       "\n",
       "    .dataframe tbody tr th {\n",
       "        vertical-align: top;\n",
       "    }\n",
       "\n",
       "    .dataframe thead th {\n",
       "        text-align: right;\n",
       "    }\n",
       "</style>\n",
       "<table border=\"1\" class=\"dataframe\">\n",
       "  <thead>\n",
       "    <tr style=\"text-align: right;\">\n",
       "      <th></th>\n",
       "      <th>Neighborhood</th>\n",
       "      <th>Latitude</th>\n",
       "      <th>Longitude</th>\n",
       "      <th>Number of Venues</th>\n",
       "      <th>Cluster</th>\n",
       "      <th>Cluster Label</th>\n",
       "    </tr>\n",
       "  </thead>\n",
       "  <tbody>\n",
       "    <tr>\n",
       "      <th>0</th>\n",
       "      <td>CHACARITA</td>\n",
       "      <td>-34.595988</td>\n",
       "      <td>-58.452820</td>\n",
       "      <td>-0.462821</td>\n",
       "      <td>4</td>\n",
       "      <td>Very Low Shopping Area</td>\n",
       "    </tr>\n",
       "    <tr>\n",
       "      <th>1</th>\n",
       "      <td>PATERNAL</td>\n",
       "      <td>-34.596557</td>\n",
       "      <td>-58.465576</td>\n",
       "      <td>-0.637059</td>\n",
       "      <td>0</td>\n",
       "      <td>Very High shopping Area</td>\n",
       "    </tr>\n",
       "    <tr>\n",
       "      <th>2</th>\n",
       "      <td>VILLA CRESPO</td>\n",
       "      <td>-34.597827</td>\n",
       "      <td>-58.423752</td>\n",
       "      <td>1.192444</td>\n",
       "      <td>1</td>\n",
       "      <td>High Shopping Area</td>\n",
       "    </tr>\n",
       "    <tr>\n",
       "      <th>3</th>\n",
       "      <td>VILLA DEL PARQUE</td>\n",
       "      <td>-34.614865</td>\n",
       "      <td>-58.494609</td>\n",
       "      <td>-0.375702</td>\n",
       "      <td>4</td>\n",
       "      <td>Very Low Shopping Area</td>\n",
       "    </tr>\n",
       "    <tr>\n",
       "      <th>4</th>\n",
       "      <td>ALMAGRO</td>\n",
       "      <td>-34.614116</td>\n",
       "      <td>-58.412870</td>\n",
       "      <td>0.408371</td>\n",
       "      <td>2</td>\n",
       "      <td>Mid Level Shopping Area</td>\n",
       "    </tr>\n",
       "  </tbody>\n",
       "</table>\n",
       "</div>"
      ],
      "text/plain": [
       "       Neighborhood   Latitude  Longitude  Number of Venues  Cluster  \\\n",
       "0         CHACARITA -34.595988 -58.452820         -0.462821        4   \n",
       "1          PATERNAL -34.596557 -58.465576         -0.637059        0   \n",
       "2      VILLA CRESPO -34.597827 -58.423752          1.192444        1   \n",
       "3  VILLA DEL PARQUE -34.614865 -58.494609         -0.375702        4   \n",
       "4           ALMAGRO -34.614116 -58.412870          0.408371        2   \n",
       "\n",
       "             Cluster Label  \n",
       "0   Very Low Shopping Area  \n",
       "1  Very High shopping Area  \n",
       "2       High Shopping Area  \n",
       "3   Very Low Shopping Area  \n",
       "4  Mid Level Shopping Area  "
      ]
     },
     "execution_count": 51,
     "metadata": {},
     "output_type": "execute_result"
    }
   ],
   "source": [
    "neigh_bs['Cluster'] = kmeans.labels_\n",
    "\n",
    "def assign_cluster_label(cluster):\n",
    "    if cluster == 0:\n",
    "        return \"Very High shopping Area\"\n",
    "    if cluster == 1:\n",
    "        return \"High Shopping Area\"\n",
    "    if cluster == 2:\n",
    "        return \"Mid Level Shopping Area\"\n",
    "    if cluster == 3:\n",
    "        return \"Low Shopping Area\"\n",
    "    if cluster == 4:\n",
    "        return \"Very Low Shopping Area\"\n",
    "\n",
    "    \n",
    "neigh_bs['Cluster Label'] = neigh_bs['Cluster'].apply(lambda x:assign_cluster_label(x))\n",
    "neigh_bs.head()"
   ]
  },
  {
   "cell_type": "markdown",
   "metadata": {},
   "source": [
    "Display results in a map"
   ]
  },
  {
   "cell_type": "code",
   "execution_count": 66,
   "metadata": {},
   "outputs": [
    {
     "data": {
      "text/html": [
       "<div style=\"width:100%;\"><div style=\"position:relative;width:100%;height:0;padding-bottom:60%;\"><span style=\"color:#565656\">Make this Notebook Trusted to load map: File -> Trust Notebook</span><iframe src=\"about:blank\" style=\"position:absolute;width:100%;height:100%;left:0;top:0;border:none !important;\" data-html=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 onload=\"this.contentDocument.open();this.contentDocument.write(atob(this.getAttribute('data-html')));this.contentDocument.close();\" allowfullscreen webkitallowfullscreen mozallowfullscreen></iframe></div></div>"
      ],
      "text/plain": [
       "<folium.folium.Map at 0x7fcf9c9586d0>"
      ]
     },
     "execution_count": 66,
     "metadata": {},
     "output_type": "execute_result"
    }
   ],
   "source": [
    "map_clusters = folium.Map(location=[-34.6131516, -58.3772316], zoom_start=10)\n",
    "\n",
    "x = np.arange(kclusters)\n",
    "ys = [i + x + (i*x)**2 for i in range(kclusters)]\n",
    "colors_array = cm.rainbow(np.linspace(0, 1, len(ys)))\n",
    "rainbow = [colors.rgb2hex(i) for i in colors_array]\n",
    "\n",
    "# add markers to the map\n",
    "markers_colors = []\n",
    "for lat, lon, poi, cluster, cluster_label in zip(neigh_bs['Latitude'], neigh_bs['Longitude'], neigh_bs['Neighborhood'], neigh_bs['Cluster'], neigh_bs['Cluster Label']):\n",
    "    label = folium.Popup(str(poi) + ' ' + cluster_label, parse_html=True)\n",
    "    folium.CircleMarker(\n",
    "        [lat, lon],\n",
    "        radius=5,\n",
    "        popup=label,\n",
    "        color=rainbow[cluster-1],\n",
    "        fill=True,\n",
    "        fill_color=rainbow[cluster-1],\n",
    "        fill_opacity=0.7).add_to(map_clusters)\n",
    "       \n",
    "map_clusters"
   ]
  },
  {
   "cell_type": "markdown",
   "metadata": {},
   "source": [
    "Get the number of neighborhoods in each area"
   ]
  },
  {
   "cell_type": "code",
   "execution_count": 57,
   "metadata": {},
   "outputs": [
    {
     "data": {
      "text/html": [
       "<div>\n",
       "<style scoped>\n",
       "    .dataframe tbody tr th:only-of-type {\n",
       "        vertical-align: middle;\n",
       "    }\n",
       "\n",
       "    .dataframe tbody tr th {\n",
       "        vertical-align: top;\n",
       "    }\n",
       "\n",
       "    .dataframe thead th {\n",
       "        text-align: right;\n",
       "    }\n",
       "</style>\n",
       "<table border=\"1\" class=\"dataframe\">\n",
       "  <thead>\n",
       "    <tr style=\"text-align: right;\">\n",
       "      <th></th>\n",
       "      <th>Neighborhood</th>\n",
       "      <th>Latitude</th>\n",
       "      <th>Longitude</th>\n",
       "      <th>Number of Venues</th>\n",
       "      <th>Cluster</th>\n",
       "    </tr>\n",
       "    <tr>\n",
       "      <th>Cluster Label</th>\n",
       "      <th></th>\n",
       "      <th></th>\n",
       "      <th></th>\n",
       "      <th></th>\n",
       "      <th></th>\n",
       "    </tr>\n",
       "  </thead>\n",
       "  <tbody>\n",
       "    <tr>\n",
       "      <th>High Shopping Area</th>\n",
       "      <td>3</td>\n",
       "      <td>3</td>\n",
       "      <td>3</td>\n",
       "      <td>3</td>\n",
       "      <td>3</td>\n",
       "    </tr>\n",
       "    <tr>\n",
       "      <th>Low Shopping Area</th>\n",
       "      <td>5</td>\n",
       "      <td>5</td>\n",
       "      <td>5</td>\n",
       "      <td>5</td>\n",
       "      <td>5</td>\n",
       "    </tr>\n",
       "    <tr>\n",
       "      <th>Mid Level Shopping Area</th>\n",
       "      <td>11</td>\n",
       "      <td>11</td>\n",
       "      <td>11</td>\n",
       "      <td>11</td>\n",
       "      <td>11</td>\n",
       "    </tr>\n",
       "    <tr>\n",
       "      <th>Very High shopping Area</th>\n",
       "      <td>18</td>\n",
       "      <td>18</td>\n",
       "      <td>18</td>\n",
       "      <td>18</td>\n",
       "      <td>18</td>\n",
       "    </tr>\n",
       "    <tr>\n",
       "      <th>Very Low Shopping Area</th>\n",
       "      <td>11</td>\n",
       "      <td>11</td>\n",
       "      <td>11</td>\n",
       "      <td>11</td>\n",
       "      <td>11</td>\n",
       "    </tr>\n",
       "  </tbody>\n",
       "</table>\n",
       "</div>"
      ],
      "text/plain": [
       "                         Neighborhood  Latitude  Longitude  Number of Venues  \\\n",
       "Cluster Label                                                                  \n",
       "High Shopping Area                  3         3          3                 3   \n",
       "Low Shopping Area                   5         5          5                 5   \n",
       "Mid Level Shopping Area            11        11         11                11   \n",
       "Very High shopping Area            18        18         18                18   \n",
       "Very Low Shopping Area             11        11         11                11   \n",
       "\n",
       "                         Cluster  \n",
       "Cluster Label                     \n",
       "High Shopping Area             3  \n",
       "Low Shopping Area              5  \n",
       "Mid Level Shopping Area       11  \n",
       "Very High shopping Area       18  \n",
       "Very Low Shopping Area        11  "
      ]
     },
     "execution_count": 57,
     "metadata": {},
     "output_type": "execute_result"
    }
   ],
   "source": [
    "number_of_neigh = neigh_bs.groupby(['Cluster Label']).count()\n",
    "number_of_neigh"
   ]
  },
  {
   "cell_type": "markdown",
   "metadata": {},
   "source": [
    "Show the number of neighborhoods in each area"
   ]
  },
  {
   "cell_type": "code",
   "execution_count": 65,
   "metadata": {},
   "outputs": [
    {
     "data": {
      "text/plain": [
       "<matplotlib.axes._subplots.AxesSubplot at 0x7fcf9c7f9a10>"
      ]
     },
     "execution_count": 65,
     "metadata": {},
     "output_type": "execute_result"
    },
    {
     "data": {
      "image/png": "[encoded data removed]",
      "text/plain": [
       "<Figure size 864x288 with 1 Axes>"
      ]
     },
     "metadata": {
      "needs_background": "light"
     },
     "output_type": "display_data"
    }
   ],
   "source": [
    "plt.figure(figsize=(12,4)) \n",
    "sns.barplot(x=number_of_neigh.index, y='Neighborhood', data=number_of_neigh)"
   ]
  },
  {
   "cell_type": "code",
   "execution_count": null,
   "metadata": {},
   "outputs": [],
   "source": []
  }
 ],
 "metadata": {
  "kernelspec": {
   "display_name": "Python 3",
   "language": "python",
   "name": "python3"
  },
  "language_info": {
   "codemirror_mode": {
    "name": "ipython",
    "version": 3
   },
   "file_extension": ".py",
   "mimetype": "text/x-python",
   "name": "python",
   "nbconvert_exporter": "python",
   "pygments_lexer": "ipython3",
   "version": "3.7.6"
  }
 },
 "nbformat": 4,
 "nbformat_minor": 4
}
