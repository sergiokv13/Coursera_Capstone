{
 "cells": [
  {
   "cell_type": "markdown",
   "metadata": {},
   "source": [
    "# The Battle of Neighborhoods\n",
    "Sergio Koller"
   ]
  },
  {
   "cell_type": "markdown",
   "metadata": {},
   "source": [
    "The city of Buenos Aires has to cathegorize their neighborhoods in order recognize the commercial areas from the living areas. This is mainly to see how the town hall is going to allocate the funds destined for commercial growth and for living subsidies.\n",
    "\n",
    "The objective of this project is to segment the neighborhoods in 5 different categories:\n",
    "\n",
    "1. Very High Commercial Area\n",
    "2. High Commercial Area\n",
    "3. Mid level Commercial Area\n",
    "4. Low Commercial Area\n",
    "5. Very Low Commercial Area\n",
    "\n",
    "So that the City of Buenos Aires will be able to allocate the 2020 funds to mantain \"Very High Commercial Areas\", Grow \"High Commercial Areas\", and invest in living areas in the other categories.\n",
    "\n",
    "Also the project will provide a visual prove of the information gathered, so that the allocation decisions can be analyzed taking in consideration the location of the nieghborhoods. \n",
    "\n",
    "For this project the following data will be used:\n",
    "\n",
    "- Buenos Aires Neighborhoods data set - https://data.buenosaires.gob.ar/dataset/barrios\n",
    "- Foursquare near venues - https://es.foursquare.com/\n",
    "\n",
    "This data will be used to analyze the density of commercial venues in all the neighborhoods from Buenos Aires and segment them into the previously mentioned cathegories."
   ]
  },
  {
   "cell_type": "markdown",
   "metadata": {},
   "source": [
    "## Solution to the problem"
   ]
  },
  {
   "cell_type": "markdown",
   "metadata": {},
   "source": [
    "Needed libraries"
   ]
  },
  {
   "cell_type": "code",
   "execution_count": 127,
   "metadata": {},
   "outputs": [],
   "source": [
    "import pandas as pd\n",
    "import numpy as np\n",
    "# For web scrapping\n",
    "# pip install lxml html5lib beautifulsoup4\n",
    "# pd.options.mode.chained_assignment = None  # default='warn'\n",
    "\n",
    "import requests # library to handle requests\n",
    "\n",
    "# Matplotlib and associated plotting modules\n",
    "import matplotlib.cm as cm\n",
    "import matplotlib.colors as colors\n",
    "\n",
    "# import k-means from clustering stage\n",
    "from sklearn.cluster import KMeans\n",
    "from sklearn.preprocessing import StandardScaler\n",
    "\n",
    "#!conda install -c conda-forge folium=0.5.0 --yes # uncomment this line if you haven't completed the Foursquare API lab\n",
    "import folium # map rendering library"
   ]
  },
  {
   "cell_type": "markdown",
   "metadata": {},
   "source": [
    "## Get the data and prepare it"
   ]
  },
  {
   "cell_type": "markdown",
   "metadata": {},
   "source": [
    "Read the neighborhoods information for buenos aires"
   ]
  },
  {
   "cell_type": "code",
   "execution_count": 128,
   "metadata": {},
   "outputs": [
    {
     "data": {
      "text/html": [
       "<div>\n",
       "<style scoped>\n",
       "    .dataframe tbody tr th:only-of-type {\n",
       "        vertical-align: middle;\n",
       "    }\n",
       "\n",
       "    .dataframe tbody tr th {\n",
       "        vertical-align: top;\n",
       "    }\n",
       "\n",
       "    .dataframe thead th {\n",
       "        text-align: right;\n",
       "    }\n",
       "</style>\n",
       "<table border=\"1\" class=\"dataframe\">\n",
       "  <thead>\n",
       "    <tr style=\"text-align: right;\">\n",
       "      <th></th>\n",
       "      <th>WKT</th>\n",
       "      <th>barrio</th>\n",
       "      <th>comuna</th>\n",
       "      <th>perimetro</th>\n",
       "      <th>area</th>\n",
       "    </tr>\n",
       "  </thead>\n",
       "  <tbody>\n",
       "    <tr>\n",
       "      <th>0</th>\n",
       "      <td>POLYGON ((-58.4528200492791 -34.5959886570639,...</td>\n",
       "      <td>CHACARITA</td>\n",
       "      <td>15</td>\n",
       "      <td>7724.852955</td>\n",
       "      <td>3.115707e+06</td>\n",
       "    </tr>\n",
       "    <tr>\n",
       "      <th>1</th>\n",
       "      <td>POLYGON ((-58.4655768128541 -34.5965577078058,...</td>\n",
       "      <td>PATERNAL</td>\n",
       "      <td>15</td>\n",
       "      <td>7087.513295</td>\n",
       "      <td>2.229829e+06</td>\n",
       "    </tr>\n",
       "    <tr>\n",
       "      <th>2</th>\n",
       "      <td>POLYGON ((-58.4237529813037 -34.5978273383243,...</td>\n",
       "      <td>VILLA CRESPO</td>\n",
       "      <td>15</td>\n",
       "      <td>8131.857075</td>\n",
       "      <td>3.615978e+06</td>\n",
       "    </tr>\n",
       "    <tr>\n",
       "      <th>3</th>\n",
       "      <td>POLYGON ((-58.4946097568899 -34.6148652395239,...</td>\n",
       "      <td>VILLA DEL PARQUE</td>\n",
       "      <td>11</td>\n",
       "      <td>7705.389797</td>\n",
       "      <td>3.399596e+06</td>\n",
       "    </tr>\n",
       "    <tr>\n",
       "      <th>4</th>\n",
       "      <td>POLYGON ((-58.4128700313089 -34.6141162515854,...</td>\n",
       "      <td>ALMAGRO</td>\n",
       "      <td>5</td>\n",
       "      <td>8537.901368</td>\n",
       "      <td>4.050752e+06</td>\n",
       "    </tr>\n",
       "  </tbody>\n",
       "</table>\n",
       "</div>"
      ],
      "text/plain": [
       "                                                 WKT            barrio  \\\n",
       "0  POLYGON ((-58.4528200492791 -34.5959886570639,...         CHACARITA   \n",
       "1  POLYGON ((-58.4655768128541 -34.5965577078058,...          PATERNAL   \n",
       "2  POLYGON ((-58.4237529813037 -34.5978273383243,...      VILLA CRESPO   \n",
       "3  POLYGON ((-58.4946097568899 -34.6148652395239,...  VILLA DEL PARQUE   \n",
       "4  POLYGON ((-58.4128700313089 -34.6141162515854,...           ALMAGRO   \n",
       "\n",
       "   comuna    perimetro          area  \n",
       "0      15  7724.852955  3.115707e+06  \n",
       "1      15  7087.513295  2.229829e+06  \n",
       "2      15  8131.857075  3.615978e+06  \n",
       "3      11  7705.389797  3.399596e+06  \n",
       "4       5  8537.901368  4.050752e+06  "
      ]
     },
     "execution_count": 128,
     "metadata": {},
     "output_type": "execute_result"
    }
   ],
   "source": [
    "neigh_bs = pd.read_csv('Barrios.csv')\n",
    "neigh_bs.head()"
   ]
  },
  {
   "cell_type": "markdown",
   "metadata": {},
   "source": [
    "Get Latitude and Longitude for each neighborhood with a accuracy of 6 points after the dot"
   ]
  },
  {
   "cell_type": "code",
   "execution_count": 129,
   "metadata": {},
   "outputs": [
    {
     "data": {
      "text/html": [
       "<div>\n",
       "<style scoped>\n",
       "    .dataframe tbody tr th:only-of-type {\n",
       "        vertical-align: middle;\n",
       "    }\n",
       "\n",
       "    .dataframe tbody tr th {\n",
       "        vertical-align: top;\n",
       "    }\n",
       "\n",
       "    .dataframe thead th {\n",
       "        text-align: right;\n",
       "    }\n",
       "</style>\n",
       "<table border=\"1\" class=\"dataframe\">\n",
       "  <thead>\n",
       "    <tr style=\"text-align: right;\">\n",
       "      <th></th>\n",
       "      <th>WKT</th>\n",
       "      <th>barrio</th>\n",
       "      <th>comuna</th>\n",
       "      <th>perimetro</th>\n",
       "      <th>area</th>\n",
       "      <th>Coordinates</th>\n",
       "      <th>Latitude</th>\n",
       "      <th>Longitude</th>\n",
       "    </tr>\n",
       "  </thead>\n",
       "  <tbody>\n",
       "    <tr>\n",
       "      <th>0</th>\n",
       "      <td>POLYGON ((-58.4528200492791 -34.5959886570639,...</td>\n",
       "      <td>CHACARITA</td>\n",
       "      <td>15</td>\n",
       "      <td>7724.852955</td>\n",
       "      <td>3.115707e+06</td>\n",
       "      <td>[-58.452820, -34.595988]</td>\n",
       "      <td>-34.595988</td>\n",
       "      <td>-58.452820</td>\n",
       "    </tr>\n",
       "    <tr>\n",
       "      <th>1</th>\n",
       "      <td>POLYGON ((-58.4655768128541 -34.5965577078058,...</td>\n",
       "      <td>PATERNAL</td>\n",
       "      <td>15</td>\n",
       "      <td>7087.513295</td>\n",
       "      <td>2.229829e+06</td>\n",
       "      <td>[-58.465576, -34.596557]</td>\n",
       "      <td>-34.596557</td>\n",
       "      <td>-58.465576</td>\n",
       "    </tr>\n",
       "    <tr>\n",
       "      <th>2</th>\n",
       "      <td>POLYGON ((-58.4237529813037 -34.5978273383243,...</td>\n",
       "      <td>VILLA CRESPO</td>\n",
       "      <td>15</td>\n",
       "      <td>8131.857075</td>\n",
       "      <td>3.615978e+06</td>\n",
       "      <td>[-58.423752, -34.597827]</td>\n",
       "      <td>-34.597827</td>\n",
       "      <td>-58.423752</td>\n",
       "    </tr>\n",
       "    <tr>\n",
       "      <th>3</th>\n",
       "      <td>POLYGON ((-58.4946097568899 -34.6148652395239,...</td>\n",
       "      <td>VILLA DEL PARQUE</td>\n",
       "      <td>11</td>\n",
       "      <td>7705.389797</td>\n",
       "      <td>3.399596e+06</td>\n",
       "      <td>[-58.494609, -34.614865]</td>\n",
       "      <td>-34.614865</td>\n",
       "      <td>-58.494609</td>\n",
       "    </tr>\n",
       "    <tr>\n",
       "      <th>4</th>\n",
       "      <td>POLYGON ((-58.4128700313089 -34.6141162515854,...</td>\n",
       "      <td>ALMAGRO</td>\n",
       "      <td>5</td>\n",
       "      <td>8537.901368</td>\n",
       "      <td>4.050752e+06</td>\n",
       "      <td>[-58.412870, -34.614116]</td>\n",
       "      <td>-34.614116</td>\n",
       "      <td>-58.412870</td>\n",
       "    </tr>\n",
       "  </tbody>\n",
       "</table>\n",
       "</div>"
      ],
      "text/plain": [
       "                                                 WKT            barrio  \\\n",
       "0  POLYGON ((-58.4528200492791 -34.5959886570639,...         CHACARITA   \n",
       "1  POLYGON ((-58.4655768128541 -34.5965577078058,...          PATERNAL   \n",
       "2  POLYGON ((-58.4237529813037 -34.5978273383243,...      VILLA CRESPO   \n",
       "3  POLYGON ((-58.4946097568899 -34.6148652395239,...  VILLA DEL PARQUE   \n",
       "4  POLYGON ((-58.4128700313089 -34.6141162515854,...           ALMAGRO   \n",
       "\n",
       "   comuna    perimetro          area               Coordinates    Latitude  \\\n",
       "0      15  7724.852955  3.115707e+06  [-58.452820, -34.595988]  -34.595988   \n",
       "1      15  7087.513295  2.229829e+06  [-58.465576, -34.596557]  -34.596557   \n",
       "2      15  8131.857075  3.615978e+06  [-58.423752, -34.597827]  -34.597827   \n",
       "3      11  7705.389797  3.399596e+06  [-58.494609, -34.614865]  -34.614865   \n",
       "4       5  8537.901368  4.050752e+06  [-58.412870, -34.614116]  -34.614116   \n",
       "\n",
       "    Longitude  \n",
       "0  -58.452820  \n",
       "1  -58.465576  \n",
       "2  -58.423752  \n",
       "3  -58.494609  \n",
       "4  -58.412870  "
      ]
     },
     "execution_count": 129,
     "metadata": {},
     "output_type": "execute_result"
    }
   ],
   "source": [
    "neigh_bs['Coordinates'] = neigh_bs['WKT'].apply(lambda x:[x[10:20],x[28:38]])\n",
    "neigh_bs['Latitude'] = neigh_bs['Coordinates'].apply(lambda x:x[1])\n",
    "neigh_bs['Longitude'] = neigh_bs['Coordinates'].apply(lambda x:x[0])\n",
    "\n",
    "neigh_bs.head()"
   ]
  },
  {
   "cell_type": "markdown",
   "metadata": {},
   "source": [
    "Remove unnecesary columns and use english for naming conventions"
   ]
  },
  {
   "cell_type": "code",
   "execution_count": 130,
   "metadata": {},
   "outputs": [
    {
     "data": {
      "text/html": [
       "<div>\n",
       "<style scoped>\n",
       "    .dataframe tbody tr th:only-of-type {\n",
       "        vertical-align: middle;\n",
       "    }\n",
       "\n",
       "    .dataframe tbody tr th {\n",
       "        vertical-align: top;\n",
       "    }\n",
       "\n",
       "    .dataframe thead th {\n",
       "        text-align: right;\n",
       "    }\n",
       "</style>\n",
       "<table border=\"1\" class=\"dataframe\">\n",
       "  <thead>\n",
       "    <tr style=\"text-align: right;\">\n",
       "      <th></th>\n",
       "      <th>Neighborhood</th>\n",
       "      <th>Latitude</th>\n",
       "      <th>Longitude</th>\n",
       "    </tr>\n",
       "  </thead>\n",
       "  <tbody>\n",
       "    <tr>\n",
       "      <th>0</th>\n",
       "      <td>CHACARITA</td>\n",
       "      <td>-34.595988</td>\n",
       "      <td>-58.452820</td>\n",
       "    </tr>\n",
       "    <tr>\n",
       "      <th>1</th>\n",
       "      <td>PATERNAL</td>\n",
       "      <td>-34.596557</td>\n",
       "      <td>-58.465576</td>\n",
       "    </tr>\n",
       "    <tr>\n",
       "      <th>2</th>\n",
       "      <td>VILLA CRESPO</td>\n",
       "      <td>-34.597827</td>\n",
       "      <td>-58.423752</td>\n",
       "    </tr>\n",
       "    <tr>\n",
       "      <th>3</th>\n",
       "      <td>VILLA DEL PARQUE</td>\n",
       "      <td>-34.614865</td>\n",
       "      <td>-58.494609</td>\n",
       "    </tr>\n",
       "    <tr>\n",
       "      <th>4</th>\n",
       "      <td>ALMAGRO</td>\n",
       "      <td>-34.614116</td>\n",
       "      <td>-58.412870</td>\n",
       "    </tr>\n",
       "  </tbody>\n",
       "</table>\n",
       "</div>"
      ],
      "text/plain": [
       "       Neighborhood    Latitude   Longitude\n",
       "0         CHACARITA  -34.595988  -58.452820\n",
       "1          PATERNAL  -34.596557  -58.465576\n",
       "2      VILLA CRESPO  -34.597827  -58.423752\n",
       "3  VILLA DEL PARQUE  -34.614865  -58.494609\n",
       "4           ALMAGRO  -34.614116  -58.412870"
      ]
     },
     "execution_count": 130,
     "metadata": {},
     "output_type": "execute_result"
    }
   ],
   "source": [
    "neigh_bs.drop(['WKT','comuna','perimetro','area','Coordinates'], axis=1, inplace = True)\n",
    "neigh_bs.columns = ['Neighborhood','Latitude','Longitude']\n",
    "neigh_bs.head()"
   ]
  },
  {
   "cell_type": "markdown",
   "metadata": {},
   "source": [
    "Cast Latitude and Longitude to float"
   ]
  },
  {
   "cell_type": "code",
   "execution_count": 131,
   "metadata": {},
   "outputs": [
    {
     "data": {
      "text/plain": [
       "Neighborhood     object\n",
       "Latitude        float64\n",
       "Longitude       float64\n",
       "dtype: object"
      ]
     },
     "execution_count": 131,
     "metadata": {},
     "output_type": "execute_result"
    }
   ],
   "source": [
    "neigh_bs['Latitude'] = neigh_bs['Latitude'].astype(float)\n",
    "neigh_bs['Longitude'] = neigh_bs['Longitude'].astype(float)\n",
    "neigh_bs.dtypes"
   ]
  },
  {
   "cell_type": "markdown",
   "metadata": {},
   "source": [
    "Plot the points over the map of buenos aires"
   ]
  },
  {
   "cell_type": "code",
   "execution_count": 132,
   "metadata": {},
   "outputs": [
    {
     "data": {
      "text/html": [
       "<div style=\"width:100%;\"><div style=\"position:relative;width:100%;height:0;padding-bottom:60%;\"><span style=\"color:#565656\">Make this Notebook Trusted to load map: File -> Trust Notebook</span><iframe src=\"about:blank\" style=\"position:absolute;width:100%;height:100%;left:0;top:0;border:none !important;\" data-html=PCFET0NUWVBFIGh0bWw+CjxoZWFkPiAgICAKICAgIDxtZXRhIGh0dHAtZXF1aXY9ImNvbnRlbnQtdHlwZSIgY29udGVudD0idGV4dC9odG1sOyBjaGFyc2V0PVVURi04IiAvPgogICAgPHNjcmlwdD5MX1BSRUZFUl9DQU5WQVMgPSBmYWxzZTsgTF9OT19UT1VDSCA9IGZhbHNlOyBMX0RJU0FCTEVfM0QgPSBmYWxzZTs8L3NjcmlwdD4KICAgIDxzY3JpcHQgc3JjPSJodHRwczovL2Nkbi5qc2RlbGl2ci5uZXQvbnBtL2xlYWZsZXRAMS4yLjAvZGlzdC9sZWFmbGV0LmpzIj48L3NjcmlwdD4KICAgIDxzY3JpcHQgc3JjPSJodHRwczovL2FqYXguZ29vZ2xlYXBpcy5jb20vYWpheC9saWJzL2pxdWVyeS8xLjExLjEvanF1ZXJ5Lm1pbi5qcyI+PC9zY3JpcHQ+CiAgICA8c2NyaXB0IHNyYz0iaHR0cHM6Ly9tYXhjZG4uYm9vdHN0cmFwY2RuLmNvbS9ib290c3RyYXAvMy4yLjAvanMvYm9vdHN0cmFwLm1pbi5qcyI+PC9zY3JpcHQ+CiAgICA8c2NyaXB0IHNyYz0iaHR0cHM6Ly9jZG5qcy5jbG91ZGZsYXJlLmNvbS9hamF4L2xpYnMvTGVhZmxldC5hd2Vzb21lLW1hcmtlcnMvMi4wLjIvbGVhZmxldC5hd2Vzb21lLW1hcmtlcnMuanMiPjwvc2NyaXB0PgogICAgPGxpbmsgcmVsPSJzdHlsZXNoZWV0IiBocmVmPSJodHRwczovL2Nkbi5qc2RlbGl2ci5uZXQvbnBtL2xlYWZsZXRAMS4yLjAvZGlzdC9sZWFmbGV0LmNzcyIvPgogICAgPGxpbmsgcmVsPSJzdHlsZXNoZWV0IiBocmVmPSJodHRwczovL21heGNkbi5ib290c3RyYXBjZG4uY29tL2Jvb3RzdHJhcC8zLjIuMC9jc3MvYm9vdHN0cmFwLm1pbi5jc3MiLz4KICAgIDxsaW5rIHJlbD0ic3R5bGVzaGVldCIgaHJlZj0iaHR0cHM6Ly9tYXhjZG4uYm9vdHN0cmFwY2RuLmNvbS9ib290c3RyYXAvMy4yLjAvY3NzL2Jvb3RzdHJhcC10aGVtZS5taW4uY3NzIi8+CiAgICA8bGluayByZWw9InN0eWxlc2hlZXQiIGhyZWY9Imh0dHBzOi8vbWF4Y2RuLmJvb3RzdHJhcGNkbi5jb20vZm9udC1hd2Vzb21lLzQuNi4zL2Nzcy9mb250LWF3ZXNvbWUubWluLmNzcyIvPgogICAgPGxpbmsgcmVsPSJzdHlsZXNoZWV0IiBocmVmPSJodHRwczovL2NkbmpzLmNsb3VkZmxhcmUuY29tL2FqYXgvbGlicy9MZWFmbGV0LmF3ZXNvbWUtbWFya2Vycy8yLjAuMi9sZWFmbGV0LmF3ZXNvbWUtbWFya2Vycy5jc3MiLz4KICAgIDxsaW5rIHJlbD0ic3R5bGVzaGVldCIgaHJlZj0iaHR0cHM6Ly9yYXdnaXQuY29tL3B5dGhvbi12aXN1YWxpemF0aW9uL2ZvbGl1bS9tYXN0ZXIvZm9saXVtL3RlbXBsYXRlcy9sZWFmbGV0LmF3ZXNvbWUucm90YXRlLmNzcyIvPgogICAgPHN0eWxlPmh0bWwsIGJvZHkge3dpZHRoOiAxMDAlO2hlaWdodDogMTAwJTttYXJnaW46IDA7cGFkZGluZzogMDt9PC9zdHlsZT4KICAgIDxzdHlsZT4jbWFwIHtwb3NpdGlvbjphYnNvbHV0ZTt0b3A6MDtib3R0b206MDtyaWdodDowO2xlZnQ6MDt9PC9zdHlsZT4KICAgIAogICAgICAgICAgICA8c3R5bGU+ICNtYXBfMjg0OGU1ZjExZTllNDQ1ZGI2MDhkZDU3NjE4YmRhMTAgewogICAgICAgICAgICAgICAgcG9zaXRpb24gOiByZWxhdGl2ZTsKICAgICAgICAgICAgICAgIHdpZHRoIDogMTAwLjAlOwogICAgICAgICAgICAgICAgaGVpZ2h0OiAxMDAuMCU7CiAgICAgICAgICAgICAgICBsZWZ0OiAwLjAlOwogICAgICAgICAgICAgICAgdG9wOiAwLjAlOwogICAgICAgICAgICAgICAgfQogICAgICAgICAgICA8L3N0eWxlPgogICAgICAgIAo8L2hlYWQ+Cjxib2R5PiAgICAKICAgIAogICAgICAgICAgICA8ZGl2IGNsYXNzPSJmb2xpdW0tbWFwIiBpZD0ibWFwXzI4NDhlNWYxMWU5ZTQ0NWRiNjA4ZGQ1NzYxOGJkYTEwIiA+PC9kaXY+CiAgICAgICAgCjwvYm9keT4KPHNjcmlwdD4gICAgCiAgICAKCiAgICAgICAgICAgIAogICAgICAgICAgICAgICAgdmFyIGJvdW5kcyA9IG51bGw7CiAgICAgICAgICAgIAoKICAgICAgICAgICAgdmFyIG1hcF8yODQ4ZTVmMTFlOWU0NDVkYjYwOGRkNTc2MThiZGExMCA9IEwubWFwKAogICAgICAgICAgICAgICAgICAgICAgICAgICAgICAgICAgJ21hcF8yODQ4ZTVmMTFlOWU0NDVkYjYwOGRkNTc2MThiZGExMCcsCiAgICAgICAgICAgICAgICAgICAgICAgICAgICAgICAgICB7Y2VudGVyOiBbLTM0LjYxMzE1MTYsLTU4LjM3NzIzMTZdLAogICAgICAgICAgICAgICAgICAgICAgICAgICAgICAgICAgem9vbTogMTAsCiAgICAgICAgICAgICAgICAgICAgICAgICAgICAgICAgICBtYXhCb3VuZHM6IGJvdW5kcywKICAgICAgICAgICAgICAgICAgICAgICAgICAgICAgICAgIGxheWVyczogW10sCiAgICAgICAgICAgICAgICAgICAgICAgICAgICAgICAgICB3b3JsZENvcHlKdW1wOiBmYWxzZSwKICAgICAgICAgICAgICAgICAgICAgICAgICAgICAgICAgIGNyczogTC5DUlMuRVBTRzM4NTcKICAgICAgICAgICAgICAgICAgICAgICAgICAgICAgICAgfSk7CiAgICAgICAgICAgIAogICAgICAgIAogICAgCiAgICAgICAgICAgIHZhciB0aWxlX2xheWVyX2NmNTAzZThiODE5MjQ0ZDY4OGIzYzk1NzA1NzNlMTYzID0gTC50aWxlTGF5ZXIoCiAgICAgICAgICAgICAgICAnaHR0cHM6Ly97c30udGlsZS5vcGVuc3RyZWV0bWFwLm9yZy97en0ve3h9L3t5fS5wbmcnLAogICAgICAgICAgICAgICAgewogICJhdHRyaWJ1dGlvbiI6IG51bGwsCiAgImRldGVjdFJldGluYSI6IGZhbHNlLAogICJtYXhab29tIjogMTgsCiAgIm1pblpvb20iOiAxLAogICJub1dyYXAiOiBmYWxzZSwKICAic3ViZG9tYWlucyI6ICJhYmMiCn0KICAgICAgICAgICAgICAgICkuYWRkVG8obWFwXzI4NDhlNWYxMWU5ZTQ0NWRiNjA4ZGQ1NzYxOGJkYTEwKTsKICAgICAgICAKICAgIAogICAgICAgICAgICB2YXIgY2lyY2xlX21hcmtlcl9jYTZlMTA2NzcxYWM0MTlmYjc4MGU0NDk1MWMxNGJiYiA9IEwuY2lyY2xlTWFya2VyKAogICAgICAgICAgICAgICAgWy0zNC41OTU5ODgsLTU4LjQ1MjgyXSwKICAgICAgICAgICAgICAgIHsKICAiYnViYmxpbmdNb3VzZUV2ZW50cyI6IHRydWUsCiAgImNvbG9yIjogImJsdWUiLAogICJkYXNoQXJyYXkiOiBudWxsLAogICJkYXNoT2Zmc2V0IjogbnVsbCwKICAiZmlsbCI6IHRydWUsCiAgImZpbGxDb2xvciI6ICIjMzE4NmNjIiwKICAiZmlsbE9wYWNpdHkiOiAwLjcsCiAgImZpbGxSdWxlIjogImV2ZW5vZGQiLAogICJsaW5lQ2FwIjogInJvdW5kIiwKICAibGluZUpvaW4iOiAicm91bmQiLAogICJvcGFjaXR5IjogMS4wLAogICJyYWRpdXMiOiA1LAogICJzdHJva2UiOiB0cnVlLAogICJ3ZWlnaHQiOiAzCn0KICAgICAgICAgICAgICAgICkuYWRkVG8obWFwXzI4NDhlNWYxMWU5ZTQ0NWRiNjA4ZGQ1NzYxOGJkYTEwKTsKICAgICAgICAgICAgCiAgICAKICAgICAgICAgICAgdmFyIHBvcHVwX2M0ZDc0NTc0MzFiMDQwYTlhNGFkMWUzMmVkNGI5ZDI2ID0gTC5wb3B1cCh7bWF4V2lkdGg6ICczMDAnfSk7CgogICAgICAgICAgICAKICAgICAgICAgICAgICAgIHZhciBodG1sX2U0YjA1Nzk2ZDg5MDRmYjlhY2FkN2JkNWVjMTBkZjNlID0gJCgnPGRpdiBpZD0iaHRtbF9lNGIwNTc5NmQ4OTA0ZmI5YWNhZDdiZDVlYzEwZGYzZSIgc3R5bGU9IndpZHRoOiAxMDAuMCU7IGhlaWdodDogMTAwLjAlOyI+Q0hBQ0FSSVRBPC9kaXY+JylbMF07CiAgICAgICAgICAgICAgICBwb3B1cF9jNGQ3NDU3NDMxYjA0MGE5YTRhZDFlMzJlZDRiOWQyNi5zZXRDb250ZW50KGh0bWxfZTRiMDU3OTZkODkwNGZiOWFjYWQ3YmQ1ZWMxMGRmM2UpOwogICAgICAgICAgICAKCiAgICAgICAgICAgIGNpcmNsZV9tYXJrZXJfY2E2ZTEwNjc3MWFjNDE5ZmI3ODBlNDQ5NTFjMTRiYmIuYmluZFBvcHVwKHBvcHVwX2M0ZDc0NTc0MzFiMDQwYTlhNGFkMWUzMmVkNGI5ZDI2KTsKCiAgICAgICAgICAgIAogICAgICAgIAogICAgCiAgICAgICAgICAgIHZhciBjaXJjbGVfbWFya2VyXzY5MmZlYTVjNDhiNDQ4ODZhMGVjZGY1ODUwN2U5YmM1ID0gTC5jaXJjbGVNYXJrZXIoCiAgICAgICAgICAgICAgICBbLTM0LjU5NjU1NywtNTguNDY1NTc2XSwKICAgICAgICAgICAgICAgIHsKICAiYnViYmxpbmdNb3VzZUV2ZW50cyI6IHRydWUsCiAgImNvbG9yIjogImJsdWUiLAogICJkYXNoQXJyYXkiOiBudWxsLAogICJkYXNoT2Zmc2V0IjogbnVsbCwKICAiZmlsbCI6IHRydWUsCiAgImZpbGxDb2xvciI6ICIjMzE4NmNjIiwKICAiZmlsbE9wYWNpdHkiOiAwLjcsCiAgImZpbGxSdWxlIjogImV2ZW5vZGQiLAogICJsaW5lQ2FwIjogInJvdW5kIiwKICAibGluZUpvaW4iOiAicm91bmQiLAogICJvcGFjaXR5IjogMS4wLAogICJyYWRpdXMiOiA1LAogICJzdHJva2UiOiB0cnVlLAogICJ3ZWlnaHQiOiAzCn0KICAgICAgICAgICAgICAgICkuYWRkVG8obWFwXzI4NDhlNWYxMWU5ZTQ0NWRiNjA4ZGQ1NzYxOGJkYTEwKTsKICAgICAgICAgICAgCiAgICAKICAgICAgICAgICAgdmFyIHBvcHVwXzY1YjA1MGYzYjdhODRlMjA5NmJlMmQzYWU3M2I4NWExID0gTC5wb3B1cCh7bWF4V2lkdGg6ICczMDAnfSk7CgogICAgICAgICAgICAKICAgICAgICAgICAgICAgIHZhciBodG1sXzE2YTc4NDBjOWMzNTQ0NGM5MGM3MDE3NWI0MmQ1ZDcxID0gJCgnPGRpdiBpZD0iaHRtbF8xNmE3ODQwYzljMzU0NDRjOTBjNzAxNzViNDJkNWQ3MSIgc3R5bGU9IndpZHRoOiAxMDAuMCU7IGhlaWdodDogMTAwLjAlOyI+UEFURVJOQUw8L2Rpdj4nKVswXTsKICAgICAgICAgICAgICAgIHBvcHVwXzY1YjA1MGYzYjdhODRlMjA5NmJlMmQzYWU3M2I4NWExLnNldENvbnRlbnQoaHRtbF8xNmE3ODQwYzljMzU0NDRjOTBjNzAxNzViNDJkNWQ3MSk7CiAgICAgICAgICAgIAoKICAgICAgICAgICAgY2lyY2xlX21hcmtlcl82OTJmZWE1YzQ4YjQ0ODg2YTBlY2RmNTg1MDdlOWJjNS5iaW5kUG9wdXAocG9wdXBfNjViMDUwZjNiN2E4NGUyMDk2YmUyZDNhZTczYjg1YTEpOwoKICAgICAgICAgICAgCiAgICAgICAgCiAgICAKICAgICAgICAgICAgdmFyIGNpcmNsZV9tYXJrZXJfMzA0NTZhZjE2NDY4NDAzYjkwNWViYWZhMmI1YzM5MTggPSBMLmNpcmNsZU1hcmtlcigKICAgICAgICAgICAgICAgIFstMzQuNTk3ODI3LC01OC40MjM3NTJdLAogICAgICAgICAgICAgICAgewogICJidWJibGluZ01vdXNlRXZlbnRzIjogdHJ1ZSwKICAiY29sb3IiOiAiYmx1ZSIsCiAgImRhc2hBcnJheSI6IG51bGwsCiAgImRhc2hPZmZzZXQiOiBudWxsLAogICJmaWxsIjogdHJ1ZSwKICAiZmlsbENvbG9yIjogIiMzMTg2Y2MiLAogICJmaWxsT3BhY2l0eSI6IDAuNywKICAiZmlsbFJ1bGUiOiAiZXZlbm9kZCIsCiAgImxpbmVDYXAiOiAicm91bmQiLAogICJsaW5lSm9pbiI6ICJyb3VuZCIsCiAgIm9wYWNpdHkiOiAxLjAsCiAgInJhZGl1cyI6IDUsCiAgInN0cm9rZSI6IHRydWUsCiAgIndlaWdodCI6IDMKfQogICAgICAgICAgICAgICAgKS5hZGRUbyhtYXBfMjg0OGU1ZjExZTllNDQ1ZGI2MDhkZDU3NjE4YmRhMTApOwogICAgICAgICAgICAKICAgIAogICAgICAgICAgICB2YXIgcG9wdXBfZTRjZWZkYWU0NGRiNGZjOTgzMzcyMTcyYzlkYTQ3Y2MgPSBMLnBvcHVwKHttYXhXaWR0aDogJzMwMCd9KTsKCiAgICAgICAgICAgIAogICAgICAgICAgICAgICAgdmFyIGh0bWxfZWRlNWI5NGRkYzNjNGQxYzg3MjBhZDNlZmNlNGFjYjEgPSAkKCc8ZGl2IGlkPSJodG1sX2VkZTViOTRkZGMzYzRkMWM4NzIwYWQzZWZjZTRhY2IxIiBzdHlsZT0id2lkdGg6IDEwMC4wJTsgaGVpZ2h0OiAxMDAuMCU7Ij5WSUxMQSBDUkVTUE88L2Rpdj4nKVswXTsKICAgICAgICAgICAgICAgIHBvcHVwX2U0Y2VmZGFlNDRkYjRmYzk4MzM3MjE3MmM5ZGE0N2NjLnNldENvbnRlbnQoaHRtbF9lZGU1Yjk0ZGRjM2M0ZDFjODcyMGFkM2VmY2U0YWNiMSk7CiAgICAgICAgICAgIAoKICAgICAgICAgICAgY2lyY2xlX21hcmtlcl8zMDQ1NmFmMTY0Njg0MDNiOTA1ZWJhZmEyYjVjMzkxOC5iaW5kUG9wdXAocG9wdXBfZTRjZWZkYWU0NGRiNGZjOTgzMzcyMTcyYzlkYTQ3Y2MpOwoKICAgICAgICAgICAgCiAgICAgICAgCiAgICAKICAgICAgICAgICAgdmFyIGNpcmNsZV9tYXJrZXJfOWIyMzg0Mzk2NDdkNDllYmFkYjZiOTdhYWEwZDdmOTEgPSBMLmNpcmNsZU1hcmtlcigKICAgICAgICAgICAgICAgIFstMzQuNjE0ODY1LC01OC40OTQ2MDldLAogICAgICAgICAgICAgICAgewogICJidWJibGluZ01vdXNlRXZlbnRzIjogdHJ1ZSwKICAiY29sb3IiOiAiYmx1ZSIsCiAgImRhc2hBcnJheSI6IG51bGwsCiAgImRhc2hPZmZzZXQiOiBudWxsLAogICJmaWxsIjogdHJ1ZSwKICAiZmlsbENvbG9yIjogIiMzMTg2Y2MiLAogICJmaWxsT3BhY2l0eSI6IDAuNywKICAiZmlsbFJ1bGUiOiAiZXZlbm9kZCIsCiAgImxpbmVDYXAiOiAicm91bmQiLAogICJsaW5lSm9pbiI6ICJyb3VuZCIsCiAgIm9wYWNpdHkiOiAxLjAsCiAgInJhZGl1cyI6IDUsCiAgInN0cm9rZSI6IHRydWUsCiAgIndlaWdodCI6IDMKfQogICAgICAgICAgICAgICAgKS5hZGRUbyhtYXBfMjg0OGU1ZjExZTllNDQ1ZGI2MDhkZDU3NjE4YmRhMTApOwogICAgICAgICAgICAKICAgIAogICAgICAgICAgICB2YXIgcG9wdXBfYjI3NDQ1MDQ3M2UxNGQ3OWI5MzZhMjlmODRhZDRlZmUgPSBMLnBvcHVwKHttYXhXaWR0aDogJzMwMCd9KTsKCiAgICAgICAgICAgIAogICAgICAgICAgICAgICAgdmFyIGh0bWxfYmE4ZjYxMmEyYzUzNDQ4MGI3ODk0ZGViMTRjMjA3MTYgPSAkKCc8ZGl2IGlkPSJodG1sX2JhOGY2MTJhMmM1MzQ0ODBiNzg5NGRlYjE0YzIwNzE2IiBzdHlsZT0id2lkdGg6IDEwMC4wJTsgaGVpZ2h0OiAxMDAuMCU7Ij5WSUxMQSBERUwgUEFSUVVFPC9kaXY+JylbMF07CiAgICAgICAgICAgICAgICBwb3B1cF9iMjc0NDUwNDczZTE0ZDc5YjkzNmEyOWY4NGFkNGVmZS5zZXRDb250ZW50KGh0bWxfYmE4ZjYxMmEyYzUzNDQ4MGI3ODk0ZGViMTRjMjA3MTYpOwogICAgICAgICAgICAKCiAgICAgICAgICAgIGNpcmNsZV9tYXJrZXJfOWIyMzg0Mzk2NDdkNDllYmFkYjZiOTdhYWEwZDdmOTEuYmluZFBvcHVwKHBvcHVwX2IyNzQ0NTA0NzNlMTRkNzliOTM2YTI5Zjg0YWQ0ZWZlKTsKCiAgICAgICAgICAgIAogICAgICAgIAogICAgCiAgICAgICAgICAgIHZhciBjaXJjbGVfbWFya2VyXzhiOTE5YjdkODMxYzQ0MDhhYWZmNTc2OWM2MTYyMmFhID0gTC5jaXJjbGVNYXJrZXIoCiAgICAgICAgICAgICAgICBbLTM0LjYxNDExNiwtNTguNDEyODddLAogICAgICAgICAgICAgICAgewogICJidWJibGluZ01vdXNlRXZlbnRzIjogdHJ1ZSwKICAiY29sb3IiOiAiYmx1ZSIsCiAgImRhc2hBcnJheSI6IG51bGwsCiAgImRhc2hPZmZzZXQiOiBudWxsLAogICJmaWxsIjogdHJ1ZSwKICAiZmlsbENvbG9yIjogIiMzMTg2Y2MiLAogICJmaWxsT3BhY2l0eSI6IDAuNywKICAiZmlsbFJ1bGUiOiAiZXZlbm9kZCIsCiAgImxpbmVDYXAiOiAicm91bmQiLAogICJsaW5lSm9pbiI6ICJyb3VuZCIsCiAgIm9wYWNpdHkiOiAxLjAsCiAgInJhZGl1cyI6IDUsCiAgInN0cm9rZSI6IHRydWUsCiAgIndlaWdodCI6IDMKfQogICAgICAgICAgICAgICAgKS5hZGRUbyhtYXBfMjg0OGU1ZjExZTllNDQ1ZGI2MDhkZDU3NjE4YmRhMTApOwogICAgICAgICAgICAKICAgIAogICAgICAgICAgICB2YXIgcG9wdXBfY2Y0M2YwNWRlY2I2NDY3NjgxOWY5OWM0ZDNiYWVhNzMgPSBMLnBvcHVwKHttYXhXaWR0aDogJzMwMCd9KTsKCiAgICAgICAgICAgIAogICAgICAgICAgICAgICAgdmFyIGh0bWxfMjZmNGYwMTJjYjk1NDdmYTgxZjNmNzBmZWI0ZjZkZjEgPSAkKCc8ZGl2IGlkPSJodG1sXzI2ZjRmMDEyY2I5NTQ3ZmE4MWYzZjcwZmViNGY2ZGYxIiBzdHlsZT0id2lkdGg6IDEwMC4wJTsgaGVpZ2h0OiAxMDAuMCU7Ij5BTE1BR1JPPC9kaXY+JylbMF07CiAgICAgICAgICAgICAgICBwb3B1cF9jZjQzZjA1ZGVjYjY0Njc2ODE5Zjk5YzRkM2JhZWE3My5zZXRDb250ZW50KGh0bWxfMjZmNGYwMTJjYjk1NDdmYTgxZjNmNzBmZWI0ZjZkZjEpOwogICAgICAgICAgICAKCiAgICAgICAgICAgIGNpcmNsZV9tYXJrZXJfOGI5MTliN2Q4MzFjNDQwOGFhZmY1NzY5YzYxNjIyYWEuYmluZFBvcHVwKHBvcHVwX2NmNDNmMDVkZWNiNjQ2NzY4MTlmOTljNGQzYmFlYTczKTsKCiAgICAgICAgICAgIAogICAgICAgIAogICAgCiAgICAgICAgICAgIHZhciBjaXJjbGVfbWFya2VyX2IyOWZmMzFkMDI2ODQ0MGJiYzAzMGJkNmQ3YWNlOWI2ID0gTC5jaXJjbGVNYXJrZXIoCiAgICAgICAgICAgICAgICBbLTM0LjYwNzA0NywtNTguNDMwNjA1XSwKICAgICAgICAgICAgICAgIHsKICAiYnViYmxpbmdNb3VzZUV2ZW50cyI6IHRydWUsCiAgImNvbG9yIjogImJsdWUiLAogICJkYXNoQXJyYXkiOiBudWxsLAogICJkYXNoT2Zmc2V0IjogbnVsbCwKICAiZmlsbCI6IHRydWUsCiAgImZpbGxDb2xvciI6ICIjMzE4NmNjIiwKICAiZmlsbE9wYWNpdHkiOiAwLjcsCiAgImZpbGxSdWxlIjogImV2ZW5vZGQiLAogICJsaW5lQ2FwIjogInJvdW5kIiwKICAibGluZUpvaW4iOiAicm91bmQiLAogICJvcGFjaXR5IjogMS4wLAogICJyYWRpdXMiOiA1LAogICJzdHJva2UiOiB0cnVlLAogICJ3ZWlnaHQiOiAzCn0KICAgICAgICAgICAgICAgICkuYWRkVG8obWFwXzI4NDhlNWYxMWU5ZTQ0NWRiNjA4ZGQ1NzYxOGJkYTEwKTsKICAgICAgICAgICAgCiAgICAKICAgICAgICAgICAgdmFyIHBvcHVwXzczZmRkOWRlYjEwNjQ1NmI4YzM3YjFjMDJlNWI2MGYyID0gTC5wb3B1cCh7bWF4V2lkdGg6ICczMDAnfSk7CgogICAgICAgICAgICAKICAgICAgICAgICAgICAgIHZhciBodG1sXzdjYjZlZDAyMzFmNzQ0OTdhODMwMWFlNTdkOTg4NGZmID0gJCgnPGRpdiBpZD0iaHRtbF83Y2I2ZWQwMjMxZjc0NDk3YTgzMDFhZTU3ZDk4ODRmZiIgc3R5bGU9IndpZHRoOiAxMDAuMCU7IGhlaWdodDogMTAwLjAlOyI+Q0FCQUxMSVRPPC9kaXY+JylbMF07CiAgICAgICAgICAgICAgICBwb3B1cF83M2ZkZDlkZWIxMDY0NTZiOGMzN2IxYzAyZTViNjBmMi5zZXRDb250ZW50KGh0bWxfN2NiNmVkMDIzMWY3NDQ5N2E4MzAxYWU1N2Q5ODg0ZmYpOwogICAgICAgICAgICAKCiAgICAgICAgICAgIGNpcmNsZV9tYXJrZXJfYjI5ZmYzMWQwMjY4NDQwYmJjMDMwYmQ2ZDdhY2U5YjYuYmluZFBvcHVwKHBvcHVwXzczZmRkOWRlYjEwNjQ1NmI4YzM3YjFjMDJlNWI2MGYyKTsKCiAgICAgICAgICAgIAogICAgICAgIAogICAgCiAgICAgICAgICAgIHZhciBjaXJjbGVfbWFya2VyXzQxODgwOGJjOGVhNDRjM2NiZDZmYmNkOTE3MGM3MDk3ID0gTC5jaXJjbGVNYXJrZXIoCiAgICAgICAgICAgICAgICBbLTM0LjYyNDI4NywtNTguNDgxOTJdLAogICAgICAgICAgICAgICAgewogICJidWJibGluZ01vdXNlRXZlbnRzIjogdHJ1ZSwKICAiY29sb3IiOiAiYmx1ZSIsCiAgImRhc2hBcnJheSI6IG51bGwsCiAgImRhc2hPZmZzZXQiOiBudWxsLAogICJmaWxsIjogdHJ1ZSwKICAiZmlsbENvbG9yIjogIiMzMTg2Y2MiLAogICJmaWxsT3BhY2l0eSI6IDAuNywKICAiZmlsbFJ1bGUiOiAiZXZlbm9kZCIsCiAgImxpbmVDYXAiOiAicm91bmQiLAogICJsaW5lSm9pbiI6ICJyb3VuZCIsCiAgIm9wYWNpdHkiOiAxLjAsCiAgInJhZGl1cyI6IDUsCiAgInN0cm9rZSI6IHRydWUsCiAgIndlaWdodCI6IDMKfQogICAgICAgICAgICAgICAgKS5hZGRUbyhtYXBfMjg0OGU1ZjExZTllNDQ1ZGI2MDhkZDU3NjE4YmRhMTApOwogICAgICAgICAgICAKICAgIAogICAgICAgICAgICB2YXIgcG9wdXBfNjk0ODgzMTVjOGYwNDliMmI2YzZlZGNjYzY1ZGI1N2YgPSBMLnBvcHVwKHttYXhXaWR0aDogJzMwMCd9KTsKCiAgICAgICAgICAgIAogICAgICAgICAgICAgICAgdmFyIGh0bWxfZjhiNzhmYzA5Nzg3NDA5YmJjMjAzYWI5ZDcxNWFkNTYgPSAkKCc8ZGl2IGlkPSJodG1sX2Y4Yjc4ZmMwOTc4NzQwOWJiYzIwM2FiOWQ3MTVhZDU2IiBzdHlsZT0id2lkdGg6IDEwMC4wJTsgaGVpZ2h0OiAxMDAuMCU7Ij5WSUxMQSBTQU5UQSBSSVRBPC9kaXY+JylbMF07CiAgICAgICAgICAgICAgICBwb3B1cF82OTQ4ODMxNWM4ZjA0OWIyYjZjNmVkY2NjNjVkYjU3Zi5zZXRDb250ZW50KGh0bWxfZjhiNzhmYzA5Nzg3NDA5YmJjMjAzYWI5ZDcxNWFkNTYpOwogICAgICAgICAgICAKCiAgICAgICAgICAgIGNpcmNsZV9tYXJrZXJfNDE4ODA4YmM4ZWE0NGMzY2JkNmZiY2Q5MTcwYzcwOTcuYmluZFBvcHVwKHBvcHVwXzY5NDg4MzE1YzhmMDQ5YjJiNmM2ZWRjY2M2NWRiNTdmKTsKCiAgICAgICAgICAgIAogICAgICAgIAogICAgCiAgICAgICAgICAgIHZhciBjaXJjbGVfbWFya2VyX2RkNTRiNmUxZGFiZTQyZjQ5NzkxNjUwYjhmNTM3ODNkID0gTC5jaXJjbGVNYXJrZXIoCiAgICAgICAgICAgICAgICBbLTM0LjYyNDAzMiwtNTguNTAzNDkyXSwKICAgICAgICAgICAgICAgIHsKICAiYnViYmxpbmdNb3VzZUV2ZW50cyI6IHRydWUsCiAgImNvbG9yIjogImJsdWUiLAogICJkYXNoQXJyYXkiOiBudWxsLAogICJkYXNoT2Zmc2V0IjogbnVsbCwKICAiZmlsbCI6IHRydWUsCiAgImZpbGxDb2xvciI6ICIjMzE4NmNjIiwKICAiZmlsbE9wYWNpdHkiOiAwLjcsCiAgImZpbGxSdWxlIjogImV2ZW5vZGQiLAogICJsaW5lQ2FwIjogInJvdW5kIiwKICAibGluZUpvaW4iOiAicm91bmQiLAogICJvcGFjaXR5IjogMS4wLAogICJyYWRpdXMiOiA1LAogICJzdHJva2UiOiB0cnVlLAogICJ3ZWlnaHQiOiAzCn0KICAgICAgICAgICAgICAgICkuYWRkVG8obWFwXzI4NDhlNWYxMWU5ZTQ0NWRiNjA4ZGQ1NzYxOGJkYTEwKTsKICAgICAgICAgICAgCiAgICAKICAgICAgICAgICAgdmFyIHBvcHVwXzdjODllOWMwZTMyMDRhY2ViODhiZGI4NmFkYTRmMmFiID0gTC5wb3B1cCh7bWF4V2lkdGg6ICczMDAnfSk7CgogICAgICAgICAgICAKICAgICAgICAgICAgICAgIHZhciBodG1sXzIwYTQyZWMwYmQ0YTRmZmM5NmY0NWExYzJhNGMzOGI3ID0gJCgnPGRpdiBpZD0iaHRtbF8yMGE0MmVjMGJkNGE0ZmZjOTZmNDVhMWMyYTRjMzhiNyIgc3R5bGU9IndpZHRoOiAxMDAuMCU7IGhlaWdodDogMTAwLjAlOyI+TU9OVEUgQ0FTVFJPPC9kaXY+JylbMF07CiAgICAgICAgICAgICAgICBwb3B1cF83Yzg5ZTljMGUzMjA0YWNlYjg4YmRiODZhZGE0ZjJhYi5zZXRDb250ZW50KGh0bWxfMjBhNDJlYzBiZDRhNGZmYzk2ZjQ1YTFjMmE0YzM4YjcpOwogICAgICAgICAgICAKCiAgICAgICAgICAgIGNpcmNsZV9tYXJrZXJfZGQ1NGI2ZTFkYWJlNDJmNDk3OTE2NTBiOGY1Mzc4M2QuYmluZFBvcHVwKHBvcHVwXzdjODllOWMwZTMyMDRhY2ViODhiZGI4NmFkYTRmMmFiKTsKCiAgICAgICAgICAgIAogICAgICAgIAogICAgCiAgICAgICAgICAgIHZhciBjaXJjbGVfbWFya2VyXzUxNTQwZWQ5NDA3MDQ1Y2M4MzllYjFkYTBkNzcyZmQxID0gTC5jaXJjbGVNYXJrZXIoCiAgICAgICAgICAgICAgICBbMzQuNjEzOTk5OSwtNTguNTI1MTE2XSwKICAgICAgICAgICAgICAgIHsKICAiYnViYmxpbmdNb3VzZUV2ZW50cyI6IHRydWUsCiAgImNvbG9yIjogImJsdWUiLAogICJkYXNoQXJyYXkiOiBudWxsLAogICJkYXNoT2Zmc2V0IjogbnVsbCwKICAiZmlsbCI6IHRydWUsCiAgImZpbGxDb2xvciI6ICIjMzE4NmNjIiwKICAiZmlsbE9wYWNpdHkiOiAwLjcsCiAgImZpbGxSdWxlIjogImV2ZW5vZGQiLAogICJsaW5lQ2FwIjogInJvdW5kIiwKICAibGluZUpvaW4iOiAicm91bmQiLAogICJvcGFjaXR5IjogMS4wLAogICJyYWRpdXMiOiA1LAogICJzdHJva2UiOiB0cnVlLAogICJ3ZWlnaHQiOiAzCn0KICAgICAgICAgICAgICAgICkuYWRkVG8obWFwXzI4NDhlNWYxMWU5ZTQ0NWRiNjA4ZGQ1NzYxOGJkYTEwKTsKICAgICAgICAgICAgCiAgICAKICAgICAgICAgICAgdmFyIHBvcHVwXzQ4NTM3NzgyYTYzMDRmMzJiYzQ4MWExMjQ2ZWVjYTAwID0gTC5wb3B1cCh7bWF4V2lkdGg6ICczMDAnfSk7CgogICAgICAgICAgICAKICAgICAgICAgICAgICAgIHZhciBodG1sX2Q2NDgyYmJlMTRhYTQ3YTc4NTNjN2NjZmNjOTFhYTZiID0gJCgnPGRpdiBpZD0iaHRtbF9kNjQ4MmJiZTE0YWE0N2E3ODUzYzdjY2ZjYzkxYWE2YiIgc3R5bGU9IndpZHRoOiAxMDAuMCU7IGhlaWdodDogMTAwLjAlOyI+VklMTEEgUkVBTDwvZGl2PicpWzBdOwogICAgICAgICAgICAgICAgcG9wdXBfNDg1Mzc3ODJhNjMwNGYzMmJjNDgxYTEyNDZlZWNhMDAuc2V0Q29udGVudChodG1sX2Q2NDgyYmJlMTRhYTQ3YTc4NTNjN2NjZmNjOTFhYTZiKTsKICAgICAgICAgICAgCgogICAgICAgICAgICBjaXJjbGVfbWFya2VyXzUxNTQwZWQ5NDA3MDQ1Y2M4MzllYjFkYTBkNzcyZmQxLmJpbmRQb3B1cChwb3B1cF80ODUzNzc4MmE2MzA0ZjMyYmM0ODFhMTI0NmVlY2EwMCk7CgogICAgICAgICAgICAKICAgICAgICAKICAgIAogICAgICAgICAgICB2YXIgY2lyY2xlX21hcmtlcl80MGI5NGU0NWQyZWE0YjdmYjQ2Y2UyNTY2NzRhZGY2ZSA9IEwuY2lyY2xlTWFya2VyKAogICAgICAgICAgICAgICAgWy0zNC42NTY3OTcsLTU4LjQ2MDQxM10sCiAgICAgICAgICAgICAgICB7CiAgImJ1YmJsaW5nTW91c2VFdmVudHMiOiB0cnVlLAogICJjb2xvciI6ICJibHVlIiwKICAiZGFzaEFycmF5IjogbnVsbCwKICAiZGFzaE9mZnNldCI6IG51bGwsCiAgImZpbGwiOiB0cnVlLAogICJmaWxsQ29sb3IiOiAiIzMxODZjYyIsCiAgImZpbGxPcGFjaXR5IjogMC43LAogICJmaWxsUnVsZSI6ICJldmVub2RkIiwKICAibGluZUNhcCI6ICJyb3VuZCIsCiAgImxpbmVKb2luIjogInJvdW5kIiwKICAib3BhY2l0eSI6IDEuMCwKICAicmFkaXVzIjogNSwKICAic3Ryb2tlIjogdHJ1ZSwKICAid2VpZ2h0IjogMwp9CiAgICAgICAgICAgICAgICApLmFkZFRvKG1hcF8yODQ4ZTVmMTFlOWU0NDVkYjYwOGRkNTc2MThiZGExMCk7CiAgICAgICAgICAgIAogICAgCiAgICAgICAgICAgIHZhciBwb3B1cF8yOWU2Y2ZjOGZjOGU0MDhkYWViYTkxZTU5NGRhYTMzNCA9IEwucG9wdXAoe21heFdpZHRoOiAnMzAwJ30pOwoKICAgICAgICAgICAgCiAgICAgICAgICAgICAgICB2YXIgaHRtbF8wMmNlMmMzOGVkM2E0MzFlOTRjOTdkY2E3Mjk0YmFiYyA9ICQoJzxkaXYgaWQ9Imh0bWxfMDJjZTJjMzhlZDNhNDMxZTk0Yzk3ZGNhNzI5NGJhYmMiIHN0eWxlPSJ3aWR0aDogMTAwLjAlOyBoZWlnaHQ6IDEwMC4wJTsiPkZMT1JFUzwvZGl2PicpWzBdOwogICAgICAgICAgICAgICAgcG9wdXBfMjllNmNmYzhmYzhlNDA4ZGFlYmE5MWU1OTRkYWEzMzQuc2V0Q29udGVudChodG1sXzAyY2UyYzM4ZWQzYTQzMWU5NGM5N2RjYTcyOTRiYWJjKTsKICAgICAgICAgICAgCgogICAgICAgICAgICBjaXJjbGVfbWFya2VyXzQwYjk0ZTQ1ZDJlYTRiN2ZiNDZjZTI1NjY3NGFkZjZlLmJpbmRQb3B1cChwb3B1cF8yOWU2Y2ZjOGZjOGU0MDhkYWViYTkxZTU5NGRhYTMzNCk7CgogICAgICAgICAgICAKICAgICAgICAKICAgIAogICAgICAgICAgICB2YXIgY2lyY2xlX21hcmtlcl83ZjBkZjJhYTQwZDE0ZjhmYWY0YmIxY2Q0NDM3NDM2OCA9IEwuY2lyY2xlTWFya2VyKAogICAgICAgICAgICAgICAgWy0zNC42MjQxMSwtNTguNDgzMzldLAogICAgICAgICAgICAgICAgewogICJidWJibGluZ01vdXNlRXZlbnRzIjogdHJ1ZSwKICAiY29sb3IiOiAiYmx1ZSIsCiAgImRhc2hBcnJheSI6IG51bGwsCiAgImRhc2hPZmZzZXQiOiBudWxsLAogICJmaWxsIjogdHJ1ZSwKICAiZmlsbENvbG9yIjogIiMzMTg2Y2MiLAogICJmaWxsT3BhY2l0eSI6IDAuNywKICAiZmlsbFJ1bGUiOiAiZXZlbm9kZCIsCiAgImxpbmVDYXAiOiAicm91bmQiLAogICJsaW5lSm9pbiI6ICJyb3VuZCIsCiAgIm9wYWNpdHkiOiAxLjAsCiAgInJhZGl1cyI6IDUsCiAgInN0cm9rZSI6IHRydWUsCiAgIndlaWdodCI6IDMKfQogICAgICAgICAgICAgICAgKS5hZGRUbyhtYXBfMjg0OGU1ZjExZTllNDQ1ZGI2MDhkZDU3NjE4YmRhMTApOwogICAgICAgICAgICAKICAgIAogICAgICAgICAgICB2YXIgcG9wdXBfODViOTNjOGVhNmQ1NDhmMDhjYTYzYjhkNTA4Nzk3MDUgPSBMLnBvcHVwKHttYXhXaWR0aDogJzMwMCd9KTsKCiAgICAgICAgICAgIAogICAgICAgICAgICAgICAgdmFyIGh0bWxfNDBmZDY5YWU3Zjg0NGVmMjkxODc5N2YzZTUyYTdhYTUgPSAkKCc8ZGl2IGlkPSJodG1sXzQwZmQ2OWFlN2Y4NDRlZjI5MTg3OTdmM2U1MmE3YWE1IiBzdHlsZT0id2lkdGg6IDEwMC4wJTsgaGVpZ2h0OiAxMDAuMCU7Ij5GTE9SRVNUQTwvZGl2PicpWzBdOwogICAgICAgICAgICAgICAgcG9wdXBfODViOTNjOGVhNmQ1NDhmMDhjYTYzYjhkNTA4Nzk3MDUuc2V0Q29udGVudChodG1sXzQwZmQ2OWFlN2Y4NDRlZjI5MTg3OTdmM2U1MmE3YWE1KTsKICAgICAgICAgICAgCgogICAgICAgICAgICBjaXJjbGVfbWFya2VyXzdmMGRmMmFhNDBkMTRmOGZhZjRiYjFjZDQ0Mzc0MzY4LmJpbmRQb3B1cChwb3B1cF84NWI5M2M4ZWE2ZDU0OGYwOGNhNjNiOGQ1MDg3OTcwNSk7CgogICAgICAgICAgICAKICAgICAgICAKICAgIAogICAgICAgICAgICB2YXIgY2lyY2xlX21hcmtlcl9iOTcyZjg3ZDllMmU0MzRmOTAwMDQ3MGRlNWE3NzA5NSA9IEwuY2lyY2xlTWFya2VyKAogICAgICAgICAgICAgICAgWy0zNC42MjczMDEsLTU4LjM3NTU3Ml0sCiAgICAgICAgICAgICAgICB7CiAgImJ1YmJsaW5nTW91c2VFdmVudHMiOiB0cnVlLAogICJjb2xvciI6ICJibHVlIiwKICAiZGFzaEFycmF5IjogbnVsbCwKICAiZGFzaE9mZnNldCI6IG51bGwsCiAgImZpbGwiOiB0cnVlLAogICJmaWxsQ29sb3IiOiAiIzMxODZjYyIsCiAgImZpbGxPcGFjaXR5IjogMC43LAogICJmaWxsUnVsZSI6ICJldmVub2RkIiwKICAibGluZUNhcCI6ICJyb3VuZCIsCiAgImxpbmVKb2luIjogInJvdW5kIiwKICAib3BhY2l0eSI6IDEuMCwKICAicmFkaXVzIjogNSwKICAic3Ryb2tlIjogdHJ1ZSwKICAid2VpZ2h0IjogMwp9CiAgICAgICAgICAgICAgICApLmFkZFRvKG1hcF8yODQ4ZTVmMTFlOWU0NDVkYjYwOGRkNTc2MThiZGExMCk7CiAgICAgICAgICAgIAogICAgCiAgICAgICAgICAgIHZhciBwb3B1cF8xZDdmMWJjNTk2OWQ0OGFkYWZmMjU0YTZmNWUyMWE5YSA9IEwucG9wdXAoe21heFdpZHRoOiAnMzAwJ30pOwoKICAgICAgICAgICAgCiAgICAgICAgICAgICAgICB2YXIgaHRtbF8xOGQ2YmNiMWRkNmI0YjBkYjBhYmI1NmY1MjcxNDQzYSA9ICQoJzxkaXYgaWQ9Imh0bWxfMThkNmJjYjFkZDZiNGIwZGIwYWJiNTZmNTI3MTQ0M2EiIHN0eWxlPSJ3aWR0aDogMTAwLjAlOyBoZWlnaHQ6IDEwMC4wJTsiPkNPTlNUSVRVQ0lPTjwvZGl2PicpWzBdOwogICAgICAgICAgICAgICAgcG9wdXBfMWQ3ZjFiYzU5NjlkNDhhZGFmZjI1NGE2ZjVlMjFhOWEuc2V0Q29udGVudChodG1sXzE4ZDZiY2IxZGQ2YjRiMGRiMGFiYjU2ZjUyNzE0NDNhKTsKICAgICAgICAgICAgCgogICAgICAgICAgICBjaXJjbGVfbWFya2VyX2I5NzJmODdkOWUyZTQzNGY5MDAwNDcwZGU1YTc3MDk1LmJpbmRQb3B1cChwb3B1cF8xZDdmMWJjNTk2OWQ0OGFkYWZmMjU0YTZmNWUyMWE5YSk7CgogICAgICAgICAgICAKICAgICAgICAKICAgIAogICAgICAgICAgICB2YXIgY2lyY2xlX21hcmtlcl9kZWRmOWJkNDlhYjg0ODFkYTc3OWYyYzJlNjY0OWRlZCA9IEwuY2lyY2xlTWFya2VyKAogICAgICAgICAgICAgICAgWy0zNC42MjE1NTksLTU4LjM5MTU1M10sCiAgICAgICAgICAgICAgICB7CiAgImJ1YmJsaW5nTW91c2VFdmVudHMiOiB0cnVlLAogICJjb2xvciI6ICJibHVlIiwKICAiZGFzaEFycmF5IjogbnVsbCwKICAiZGFzaE9mZnNldCI6IG51bGwsCiAgImZpbGwiOiB0cnVlLAogICJmaWxsQ29sb3IiOiAiIzMxODZjYyIsCiAgImZpbGxPcGFjaXR5IjogMC43LAogICJmaWxsUnVsZSI6ICJldmVub2RkIiwKICAibGluZUNhcCI6ICJyb3VuZCIsCiAgImxpbmVKb2luIjogInJvdW5kIiwKICAib3BhY2l0eSI6IDEuMCwKICAicmFkaXVzIjogNSwKICAic3Ryb2tlIjogdHJ1ZSwKICAid2VpZ2h0IjogMwp9CiAgICAgICAgICAgICAgICApLmFkZFRvKG1hcF8yODQ4ZTVmMTFlOWU0NDVkYjYwOGRkNTc2MThiZGExMCk7CiAgICAgICAgICAgIAogICAgCiAgICAgICAgICAgIHZhciBwb3B1cF8wYjEyZDczMDY4OTU0NzAzYmJhNThlNTQwNWY0MjI5YSA9IEwucG9wdXAoe21heFdpZHRoOiAnMzAwJ30pOwoKICAgICAgICAgICAgCiAgICAgICAgICAgICAgICB2YXIgaHRtbF8xMDNlMWFkZTZjNTI0MGVhYTJmYmJmMWE4N2QzZDI5MiA9ICQoJzxkaXYgaWQ9Imh0bWxfMTAzZTFhZGU2YzUyNDBlYWEyZmJiZjFhODdkM2QyOTIiIHN0eWxlPSJ3aWR0aDogMTAwLjAlOyBoZWlnaHQ6IDEwMC4wJTsiPlNBTiBDUklTVE9CQUw8L2Rpdj4nKVswXTsKICAgICAgICAgICAgICAgIHBvcHVwXzBiMTJkNzMwNjg5NTQ3MDNiYmE1OGU1NDA1ZjQyMjlhLnNldENvbnRlbnQoaHRtbF8xMDNlMWFkZTZjNTI0MGVhYTJmYmJmMWE4N2QzZDI5Mik7CiAgICAgICAgICAgIAoKICAgICAgICAgICAgY2lyY2xlX21hcmtlcl9kZWRmOWJkNDlhYjg0ODFkYTc3OWYyYzJlNjY0OWRlZC5iaW5kUG9wdXAocG9wdXBfMGIxMmQ3MzA2ODk1NDcwM2JiYTU4ZTU0MDVmNDIyOWEpOwoKICAgICAgICAgICAgCiAgICAgICAgCiAgICAKICAgICAgICAgICAgdmFyIGNpcmNsZV9tYXJrZXJfY2ZjN2I5ODA3MDI4NDU3YzhiMTg5YjBlMDIwOTk5NGIgPSBMLmNpcmNsZU1hcmtlcigKICAgICAgICAgICAgICAgIFszNC42MzAzNTU4LC01OC40MTE3NzldLAogICAgICAgICAgICAgICAgewogICJidWJibGluZ01vdXNlRXZlbnRzIjogdHJ1ZSwKICAiY29sb3IiOiAiYmx1ZSIsCiAgImRhc2hBcnJheSI6IG51bGwsCiAgImRhc2hPZmZzZXQiOiBudWxsLAogICJmaWxsIjogdHJ1ZSwKICAiZmlsbENvbG9yIjogIiMzMTg2Y2MiLAogICJmaWxsT3BhY2l0eSI6IDAuNywKICAiZmlsbFJ1bGUiOiAiZXZlbm9kZCIsCiAgImxpbmVDYXAiOiAicm91bmQiLAogICJsaW5lSm9pbiI6ICJyb3VuZCIsCiAgIm9wYWNpdHkiOiAxLjAsCiAgInJhZGl1cyI6IDUsCiAgInN0cm9rZSI6IHRydWUsCiAgIndlaWdodCI6IDMKfQogICAgICAgICAgICAgICAgKS5hZGRUbyhtYXBfMjg0OGU1ZjExZTllNDQ1ZGI2MDhkZDU3NjE4YmRhMTApOwogICAgICAgICAgICAKICAgIAogICAgICAgICAgICB2YXIgcG9wdXBfYmRiODY3NzhhYmM0NGE1ZGI1NmJmNzJiYWQ5MDMzZGUgPSBMLnBvcHVwKHttYXhXaWR0aDogJzMwMCd9KTsKCiAgICAgICAgICAgIAogICAgICAgICAgICAgICAgdmFyIGh0bWxfMTUwNTIxNDBmNDRkNDQxZDk2NDI1YmFmM2Q1NTk4NjggPSAkKCc8ZGl2IGlkPSJodG1sXzE1MDUyMTQwZjQ0ZDQ0MWQ5NjQyNWJhZjNkNTU5ODY4IiBzdHlsZT0id2lkdGg6IDEwMC4wJTsgaGVpZ2h0OiAxMDAuMCU7Ij5CT0VETzwvZGl2PicpWzBdOwogICAgICAgICAgICAgICAgcG9wdXBfYmRiODY3NzhhYmM0NGE1ZGI1NmJmNzJiYWQ5MDMzZGUuc2V0Q29udGVudChodG1sXzE1MDUyMTQwZjQ0ZDQ0MWQ5NjQyNWJhZjNkNTU5ODY4KTsKICAgICAgICAgICAgCgogICAgICAgICAgICBjaXJjbGVfbWFya2VyX2NmYzdiOTgwNzAyODQ1N2M4YjE4OWIwZTAyMDk5OTRiLmJpbmRQb3B1cChwb3B1cF9iZGI4Njc3OGFiYzQ0YTVkYjU2YmY3MmJhZDkwMzNkZSk7CgogICAgICAgICAgICAKICAgICAgICAKICAgIAogICAgICAgICAgICB2YXIgY2lyY2xlX21hcmtlcl9lZjljODVlODY3NDM0NDZlYjFlYWUyMzNhNDI5NGNmYSA9IEwuY2lyY2xlTWFya2VyKAogICAgICAgICAgICAgICAgWy0zNC42MzE0MDIsLTU4LjQ4NTU3M10sCiAgICAgICAgICAgICAgICB7CiAgImJ1YmJsaW5nTW91c2VFdmVudHMiOiB0cnVlLAogICJjb2xvciI6ICJibHVlIiwKICAiZGFzaEFycmF5IjogbnVsbCwKICAiZGFzaE9mZnNldCI6IG51bGwsCiAgImZpbGwiOiB0cnVlLAogICJmaWxsQ29sb3IiOiAiIzMxODZjYyIsCiAgImZpbGxPcGFjaXR5IjogMC43LAogICJmaWxsUnVsZSI6ICJldmVub2RkIiwKICAibGluZUNhcCI6ICJyb3VuZCIsCiAgImxpbmVKb2luIjogInJvdW5kIiwKICAib3BhY2l0eSI6IDEuMCwKICAicmFkaXVzIjogNSwKICAic3Ryb2tlIjogdHJ1ZSwKICAid2VpZ2h0IjogMwp9CiAgICAgICAgICAgICAgICApLmFkZFRvKG1hcF8yODQ4ZTVmMTFlOWU0NDVkYjYwOGRkNTc2MThiZGExMCk7CiAgICAgICAgICAgIAogICAgCiAgICAgICAgICAgIHZhciBwb3B1cF8wZmY3OTc1YWM5ODg0NzFlOWI0NGQ4YjA2YjU1Y2JlZiA9IEwucG9wdXAoe21heFdpZHRoOiAnMzAwJ30pOwoKICAgICAgICAgICAgCiAgICAgICAgICAgICAgICB2YXIgaHRtbF82MmZmZjNjYTZkNjA0NTE0YjhlMzM4YzUzZjNlNTkyMCA9ICQoJzxkaXYgaWQ9Imh0bWxfNjJmZmYzY2E2ZDYwNDUxNGI4ZTMzOGM1M2YzZTU5MjAiIHN0eWxlPSJ3aWR0aDogMTAwLjAlOyBoZWlnaHQ6IDEwMC4wJTsiPlZFTEVaIFNBUlNGSUVMRDwvZGl2PicpWzBdOwogICAgICAgICAgICAgICAgcG9wdXBfMGZmNzk3NWFjOTg4NDcxZTliNDRkOGIwNmI1NWNiZWYuc2V0Q29udGVudChodG1sXzYyZmZmM2NhNmQ2MDQ1MTRiOGUzMzhjNTNmM2U1OTIwKTsKICAgICAgICAgICAgCgogICAgICAgICAgICBjaXJjbGVfbWFya2VyX2VmOWM4NWU4Njc0MzQ0NmViMWVhZTIzM2E0Mjk0Y2ZhLmJpbmRQb3B1cChwb3B1cF8wZmY3OTc1YWM5ODg0NzFlOWI0NGQ4YjA2YjU1Y2JlZik7CgogICAgICAgICAgICAKICAgICAgICAKICAgIAogICAgICAgICAgICB2YXIgY2lyY2xlX21hcmtlcl8xNzJhNzE2YmQ0Mzc0YWQwOGQ3MTlmZTRlODE0MThjMCA9IEwuY2lyY2xlTWFya2VyKAogICAgICAgICAgICAgICAgWy0zNC42MzE4MzQsLTU4LjUwMTUzN10sCiAgICAgICAgICAgICAgICB7CiAgImJ1YmJsaW5nTW91c2VFdmVudHMiOiB0cnVlLAogICJjb2xvciI6ICJibHVlIiwKICAiZGFzaEFycmF5IjogbnVsbCwKICAiZGFzaE9mZnNldCI6IG51bGwsCiAgImZpbGwiOiB0cnVlLAogICJmaWxsQ29sb3IiOiAiIzMxODZjYyIsCiAgImZpbGxPcGFjaXR5IjogMC43LAogICJmaWxsUnVsZSI6ICJldmVub2RkIiwKICAibGluZUNhcCI6ICJyb3VuZCIsCiAgImxpbmVKb2luIjogInJvdW5kIiwKICAib3BhY2l0eSI6IDEuMCwKICAicmFkaXVzIjogNSwKICAic3Ryb2tlIjogdHJ1ZSwKICAid2VpZ2h0IjogMwp9CiAgICAgICAgICAgICAgICApLmFkZFRvKG1hcF8yODQ4ZTVmMTFlOWU0NDVkYjYwOGRkNTc2MThiZGExMCk7CiAgICAgICAgICAgIAogICAgCiAgICAgICAgICAgIHZhciBwb3B1cF83YmRhZGNhOGJjYjk0OTJhYWUwYTM0MWM3MzE1Y2E0MCA9IEwucG9wdXAoe21heFdpZHRoOiAnMzAwJ30pOwoKICAgICAgICAgICAgCiAgICAgICAgICAgICAgICB2YXIgaHRtbF9iYmRhYTRjNDFiNWM0MGQ5YTNjODFjZTM2NzVlMDViNCA9ICQoJzxkaXYgaWQ9Imh0bWxfYmJkYWE0YzQxYjVjNDBkOWEzYzgxY2UzNjc1ZTA1YjQiIHN0eWxlPSJ3aWR0aDogMTAwLjAlOyBoZWlnaHQ6IDEwMC4wJTsiPlZJTExBIExVUk88L2Rpdj4nKVswXTsKICAgICAgICAgICAgICAgIHBvcHVwXzdiZGFkY2E4YmNiOTQ5MmFhZTBhMzQxYzczMTVjYTQwLnNldENvbnRlbnQoaHRtbF9iYmRhYTRjNDFiNWM0MGQ5YTNjODFjZTM2NzVlMDViNCk7CiAgICAgICAgICAgIAoKICAgICAgICAgICAgY2lyY2xlX21hcmtlcl8xNzJhNzE2YmQ0Mzc0YWQwOGQ3MTlmZTRlODE0MThjMC5iaW5kUG9wdXAocG9wdXBfN2JkYWRjYThiY2I5NDkyYWFlMGEzNDFjNzMxNWNhNDApOwoKICAgICAgICAgICAgCiAgICAgICAgCiAgICAKICAgICAgICAgICAgdmFyIGNpcmNsZV9tYXJrZXJfMmQzODE1NzVlZWE3NGFmYjljZTc0Yjc3NTA2N2ZjMWEgPSBMLmNpcmNsZU1hcmtlcigKICAgICAgICAgICAgICAgIFstMzQuNjQ4MzAyLC01OC40MTAzNjldLAogICAgICAgICAgICAgICAgewogICJidWJibGluZ01vdXNlRXZlbnRzIjogdHJ1ZSwKICAiY29sb3IiOiAiYmx1ZSIsCiAgImRhc2hBcnJheSI6IG51bGwsCiAgImRhc2hPZmZzZXQiOiBudWxsLAogICJmaWxsIjogdHJ1ZSwKICAiZmlsbENvbG9yIjogIiMzMTg2Y2MiLAogICJmaWxsT3BhY2l0eSI6IDAuNywKICAiZmlsbFJ1bGUiOiAiZXZlbm9kZCIsCiAgImxpbmVDYXAiOiAicm91bmQiLAogICJsaW5lSm9pbiI6ICJyb3VuZCIsCiAgIm9wYWNpdHkiOiAxLjAsCiAgInJhZGl1cyI6IDUsCiAgInN0cm9rZSI6IHRydWUsCiAgIndlaWdodCI6IDMKfQogICAgICAgICAgICAgICAgKS5hZGRUbyhtYXBfMjg0OGU1ZjExZTllNDQ1ZGI2MDhkZDU3NjE4YmRhMTApOwogICAgICAgICAgICAKICAgIAogICAgICAgICAgICB2YXIgcG9wdXBfNDYyNjg1Y2ZkMTBjNGIzZjk2OGQ5NzliMmE0MzM1ZTggPSBMLnBvcHVwKHttYXhXaWR0aDogJzMwMCd9KTsKCiAgICAgICAgICAgIAogICAgICAgICAgICAgICAgdmFyIGh0bWxfMDRhYjQ3MDc3NDA0NDEzOWIwYzBlMzJiNTEzYTdkZjAgPSAkKCc8ZGl2IGlkPSJodG1sXzA0YWI0NzA3NzQwNDQxMzliMGMwZTMyYjUxM2E3ZGYwIiBzdHlsZT0id2lkdGg6IDEwMC4wJTsgaGVpZ2h0OiAxMDAuMCU7Ij5QQVJRVUUgUEFUUklDSU9TPC9kaXY+JylbMF07CiAgICAgICAgICAgICAgICBwb3B1cF80NjI2ODVjZmQxMGM0YjNmOTY4ZDk3OWIyYTQzMzVlOC5zZXRDb250ZW50KGh0bWxfMDRhYjQ3MDc3NDA0NDEzOWIwYzBlMzJiNTEzYTdkZjApOwogICAgICAgICAgICAKCiAgICAgICAgICAgIGNpcmNsZV9tYXJrZXJfMmQzODE1NzVlZWE3NGFmYjljZTc0Yjc3NTA2N2ZjMWEuYmluZFBvcHVwKHBvcHVwXzQ2MjY4NWNmZDEwYzRiM2Y5NjhkOTc5YjJhNDMzNWU4KTsKCiAgICAgICAgICAgIAogICAgICAgIAogICAgCiAgICAgICAgICAgIHZhciBjaXJjbGVfbWFya2VyXzUwMjliMTViYjUxYTQwYjRhYTZhMjNjZWU1ZWQ3ZTZlID0gTC5jaXJjbGVNYXJrZXIoCiAgICAgICAgICAgICAgICBbLTM0LjY3NDUwNSwtNTguNTAyNTE5XSwKICAgICAgICAgICAgICAgIHsKICAiYnViYmxpbmdNb3VzZUV2ZW50cyI6IHRydWUsCiAgImNvbG9yIjogImJsdWUiLAogICJkYXNoQXJyYXkiOiBudWxsLAogICJkYXNoT2Zmc2V0IjogbnVsbCwKICAiZmlsbCI6IHRydWUsCiAgImZpbGxDb2xvciI6ICIjMzE4NmNjIiwKICAiZmlsbE9wYWNpdHkiOiAwLjcsCiAgImZpbGxSdWxlIjogImV2ZW5vZGQiLAogICJsaW5lQ2FwIjogInJvdW5kIiwKICAibGluZUpvaW4iOiAicm91bmQiLAogICJvcGFjaXR5IjogMS4wLAogICJyYWRpdXMiOiA1LAogICJzdHJva2UiOiB0cnVlLAogICJ3ZWlnaHQiOiAzCn0KICAgICAgICAgICAgICAgICkuYWRkVG8obWFwXzI4NDhlNWYxMWU5ZTQ0NWRiNjA4ZGQ1NzYxOGJkYTEwKTsKICAgICAgICAgICAgCiAgICAKICAgICAgICAgICAgdmFyIHBvcHVwX2QzOGE0ZWRlYTA2YjRhZDM5MzZkYWY2M2Y1NjNjYTU1ID0gTC5wb3B1cCh7bWF4V2lkdGg6ICczMDAnfSk7CgogICAgICAgICAgICAKICAgICAgICAgICAgICAgIHZhciBodG1sXzg5NTZlMTM5YTM4ZTQyOThiM2RkODI4YWRiMGFmYzU5ID0gJCgnPGRpdiBpZD0iaHRtbF84OTU2ZTEzOWEzOGU0Mjk4YjNkZDgyOGFkYjBhZmM1OSIgc3R5bGU9IndpZHRoOiAxMDAuMCU7IGhlaWdodDogMTAwLjAlOyI+TUFUQURFUk9TPC9kaXY+JylbMF07CiAgICAgICAgICAgICAgICBwb3B1cF9kMzhhNGVkZWEwNmI0YWQzOTM2ZGFmNjNmNTYzY2E1NS5zZXRDb250ZW50KGh0bWxfODk1NmUxMzlhMzhlNDI5OGIzZGQ4MjhhZGIwYWZjNTkpOwogICAgICAgICAgICAKCiAgICAgICAgICAgIGNpcmNsZV9tYXJrZXJfNTAyOWIxNWJiNTFhNDBiNGFhNmEyM2NlZTVlZDdlNmUuYmluZFBvcHVwKHBvcHVwX2QzOGE0ZWRlYTA2YjRhZDM5MzZkYWY2M2Y1NjNjYTU1KTsKCiAgICAgICAgICAgIAogICAgICAgIAogICAgCiAgICAgICAgICAgIHZhciBjaXJjbGVfbWFya2VyX2Y1OGVhYWYxN2VlYjRmYjhiOTFiY2ZmMDc3YzE3OTJlID0gTC5jaXJjbGVNYXJrZXIoCiAgICAgICAgICAgICAgICBbLTM0LjY1OTAyNSwtNTguNDY1NzEzXSwKICAgICAgICAgICAgICAgIHsKICAiYnViYmxpbmdNb3VzZUV2ZW50cyI6IHRydWUsCiAgImNvbG9yIjogImJsdWUiLAogICJkYXNoQXJyYXkiOiBudWxsLAogICJkYXNoT2Zmc2V0IjogbnVsbCwKICAiZmlsbCI6IHRydWUsCiAgImZpbGxDb2xvciI6ICIjMzE4NmNjIiwKICAiZmlsbE9wYWNpdHkiOiAwLjcsCiAgImZpbGxSdWxlIjogImV2ZW5vZGQiLAogICJsaW5lQ2FwIjogInJvdW5kIiwKICAibGluZUpvaW4iOiAicm91bmQiLAogICJvcGFjaXR5IjogMS4wLAogICJyYWRpdXMiOiA1LAogICJzdHJva2UiOiB0cnVlLAogICJ3ZWlnaHQiOiAzCn0KICAgICAgICAgICAgICAgICkuYWRkVG8obWFwXzI4NDhlNWYxMWU5ZTQ0NWRiNjA4ZGQ1NzYxOGJkYTEwKTsKICAgICAgICAgICAgCiAgICAKICAgICAgICAgICAgdmFyIHBvcHVwXzVkNWYyMGU3OGNjMTQzYjBiN2MxOTRjOTBkNWViMzQ4ID0gTC5wb3B1cCh7bWF4V2lkdGg6ICczMDAnfSk7CgogICAgICAgICAgICAKICAgICAgICAgICAgICAgIHZhciBodG1sXzFlMTliZDFkN2FkNDQxNGM5MzA0M2VmYmYwYWM3M2RiID0gJCgnPGRpdiBpZD0iaHRtbF8xZTE5YmQxZDdhZDQ0MTRjOTMwNDNlZmJmMGFjNzNkYiIgc3R5bGU9IndpZHRoOiAxMDAuMCU7IGhlaWdodDogMTAwLjAlOyI+VklMTEEgTFVHQU5PPC9kaXY+JylbMF07CiAgICAgICAgICAgICAgICBwb3B1cF81ZDVmMjBlNzhjYzE0M2IwYjdjMTk0YzkwZDVlYjM0OC5zZXRDb250ZW50KGh0bWxfMWUxOWJkMWQ3YWQ0NDE0YzkzMDQzZWZiZjBhYzczZGIpOwogICAgICAgICAgICAKCiAgICAgICAgICAgIGNpcmNsZV9tYXJrZXJfZjU4ZWFhZjE3ZWViNGZiOGI5MWJjZmYwNzdjMTc5MmUuYmluZFBvcHVwKHBvcHVwXzVkNWYyMGU3OGNjMTQzYjBiN2MxOTRjOTBkNWViMzQ4KTsKCiAgICAgICAgICAgIAogICAgICAgIAogICAgCiAgICAgICAgICAgIHZhciBjaXJjbGVfbWFya2VyXzRkOTY4MzhmNzhjODQzM2Q4NGVhNzk0YWNlNjQxMjczID0gTC5jaXJjbGVNYXJrZXIoCiAgICAgICAgICAgICAgICBbLTM0LjYyNTEyMSwtNTguMzYzNDU0XSwKICAgICAgICAgICAgICAgIHsKICAiYnViYmxpbmdNb3VzZUV2ZW50cyI6IHRydWUsCiAgImNvbG9yIjogImJsdWUiLAogICJkYXNoQXJyYXkiOiBudWxsLAogICJkYXNoT2Zmc2V0IjogbnVsbCwKICAiZmlsbCI6IHRydWUsCiAgImZpbGxDb2xvciI6ICIjMzE4NmNjIiwKICAiZmlsbE9wYWNpdHkiOiAwLjcsCiAgImZpbGxSdWxlIjogImV2ZW5vZGQiLAogICJsaW5lQ2FwIjogInJvdW5kIiwKICAibGluZUpvaW4iOiAicm91bmQiLAogICJvcGFjaXR5IjogMS4wLAogICJyYWRpdXMiOiA1LAogICJzdHJva2UiOiB0cnVlLAogICJ3ZWlnaHQiOiAzCn0KICAgICAgICAgICAgICAgICkuYWRkVG8obWFwXzI4NDhlNWYxMWU5ZTQ0NWRiNjA4ZGQ1NzYxOGJkYTEwKTsKICAgICAgICAgICAgCiAgICAKICAgICAgICAgICAgdmFyIHBvcHVwXzc0YjExOTE3YmY5MDRlOGZiYmUxNGI1MjM0MmFkOGU1ID0gTC5wb3B1cCh7bWF4V2lkdGg6ICczMDAnfSk7CgogICAgICAgICAgICAKICAgICAgICAgICAgICAgIHZhciBodG1sX2M4ZGE1MGFkNjJjODQzMzQ4YWU4NmNmMjNjMDhlNWYyID0gJCgnPGRpdiBpZD0iaHRtbF9jOGRhNTBhZDYyYzg0MzM0OGFlODZjZjIzYzA4ZTVmMiIgc3R5bGU9IndpZHRoOiAxMDAuMCU7IGhlaWdodDogMTAwLjAlOyI+U0FOIFRFTE1PPC9kaXY+JylbMF07CiAgICAgICAgICAgICAgICBwb3B1cF83NGIxMTkxN2JmOTA0ZThmYmJlMTRiNTIzNDJhZDhlNS5zZXRDb250ZW50KGh0bWxfYzhkYTUwYWQ2MmM4NDMzNDhhZTg2Y2YyM2MwOGU1ZjIpOwogICAgICAgICAgICAKCiAgICAgICAgICAgIGNpcmNsZV9tYXJrZXJfNGQ5NjgzOGY3OGM4NDMzZDg0ZWE3OTRhY2U2NDEyNzMuYmluZFBvcHVwKHBvcHVwXzc0YjExOTE3YmY5MDRlOGZiYmUxNGI1MjM0MmFkOGU1KTsKCiAgICAgICAgICAgIAogICAgICAgIAogICAgCiAgICAgICAgICAgIHZhciBjaXJjbGVfbWFya2VyX2RjNmE2ZGQwZjk5YjQzNWI4ZmNlMDVmNjRlZDZhNjMxID0gTC5jaXJjbGVNYXJrZXIoCiAgICAgICAgICAgICAgICBbLTM0LjU2MTI4NiwtNTguNDg4MTMxXSwKICAgICAgICAgICAgICAgIHsKICAiYnViYmxpbmdNb3VzZUV2ZW50cyI6IHRydWUsCiAgImNvbG9yIjogImJsdWUiLAogICJkYXNoQXJyYXkiOiBudWxsLAogICJkYXNoT2Zmc2V0IjogbnVsbCwKICAiZmlsbCI6IHRydWUsCiAgImZpbGxDb2xvciI6ICIjMzE4NmNjIiwKICAiZmlsbE9wYWNpdHkiOiAwLjcsCiAgImZpbGxSdWxlIjogImV2ZW5vZGQiLAogICJsaW5lQ2FwIjogInJvdW5kIiwKICAibGluZUpvaW4iOiAicm91bmQiLAogICJvcGFjaXR5IjogMS4wLAogICJyYWRpdXMiOiA1LAogICJzdHJva2UiOiB0cnVlLAogICJ3ZWlnaHQiOiAzCn0KICAgICAgICAgICAgICAgICkuYWRkVG8obWFwXzI4NDhlNWYxMWU5ZTQ0NWRiNjA4ZGQ1NzYxOGJkYTEwKTsKICAgICAgICAgICAgCiAgICAKICAgICAgICAgICAgdmFyIHBvcHVwXzQxM2MyZmQ1ODYxZjQ1YThiYzBjMDA2MTA3YTU1NDE4ID0gTC5wb3B1cCh7bWF4V2lkdGg6ICczMDAnfSk7CgogICAgICAgICAgICAKICAgICAgICAgICAgICAgIHZhciBodG1sXzY5MmI0MzQzNGQyZjRmYTZhNmNlMGJkZDk5MjE1NTNmID0gJCgnPGRpdiBpZD0iaHRtbF82OTJiNDM0MzRkMmY0ZmE2YTZjZTBiZGQ5OTIxNTUzZiIgc3R5bGU9IndpZHRoOiAxMDAuMCU7IGhlaWdodDogMTAwLjAlOyI+U0FBVkVEUkE8L2Rpdj4nKVswXTsKICAgICAgICAgICAgICAgIHBvcHVwXzQxM2MyZmQ1ODYxZjQ1YThiYzBjMDA2MTA3YTU1NDE4LnNldENvbnRlbnQoaHRtbF82OTJiNDM0MzRkMmY0ZmE2YTZjZTBiZGQ5OTIxNTUzZik7CiAgICAgICAgICAgIAoKICAgICAgICAgICAgY2lyY2xlX21hcmtlcl9kYzZhNmRkMGY5OWI0MzViOGZjZTA1ZjY0ZWQ2YTYzMS5iaW5kUG9wdXAocG9wdXBfNDEzYzJmZDU4NjFmNDVhOGJjMGMwMDYxMDdhNTU0MTgpOwoKICAgICAgICAgICAgCiAgICAgICAgCiAgICAKICAgICAgICAgICAgdmFyIGNpcmNsZV9tYXJrZXJfMWZmNTNjODM2M2NkNDdlMDkyYzgyNTMxZDIyODJjNDggPSBMLmNpcmNsZU1hcmtlcigKICAgICAgICAgICAgICAgIFstMzQuNTY2MDk3LC01OC40NzI0Ml0sCiAgICAgICAgICAgICAgICB7CiAgImJ1YmJsaW5nTW91c2VFdmVudHMiOiB0cnVlLAogICJjb2xvciI6ICJibHVlIiwKICAiZGFzaEFycmF5IjogbnVsbCwKICAiZGFzaE9mZnNldCI6IG51bGwsCiAgImZpbGwiOiB0cnVlLAogICJmaWxsQ29sb3IiOiAiIzMxODZjYyIsCiAgImZpbGxPcGFjaXR5IjogMC43LAogICJmaWxsUnVsZSI6ICJldmVub2RkIiwKICAibGluZUNhcCI6ICJyb3VuZCIsCiAgImxpbmVKb2luIjogInJvdW5kIiwKICAib3BhY2l0eSI6IDEuMCwKICAicmFkaXVzIjogNSwKICAic3Ryb2tlIjogdHJ1ZSwKICAid2VpZ2h0IjogMwp9CiAgICAgICAgICAgICAgICApLmFkZFRvKG1hcF8yODQ4ZTVmMTFlOWU0NDVkYjYwOGRkNTc2MThiZGExMCk7CiAgICAgICAgICAgIAogICAgCiAgICAgICAgICAgIHZhciBwb3B1cF83Y2FiYzNhZTQ5M2M0OWFhYTk2OTU4MTViZTNlOGQ3YiA9IEwucG9wdXAoe21heFdpZHRoOiAnMzAwJ30pOwoKICAgICAgICAgICAgCiAgICAgICAgICAgICAgICB2YXIgaHRtbF9jMWQwYjMxMmMzYjM0MTdlYmZlOTJiNDY4MDgxOTQ0NyA9ICQoJzxkaXYgaWQ9Imh0bWxfYzFkMGIzMTJjM2IzNDE3ZWJmZTkyYjQ2ODA4MTk0NDciIHN0eWxlPSJ3aWR0aDogMTAwLjAlOyBoZWlnaHQ6IDEwMC4wJTsiPkNPR0hMQU48L2Rpdj4nKVswXTsKICAgICAgICAgICAgICAgIHBvcHVwXzdjYWJjM2FlNDkzYzQ5YWFhOTY5NTgxNWJlM2U4ZDdiLnNldENvbnRlbnQoaHRtbF9jMWQwYjMxMmMzYjM0MTdlYmZlOTJiNDY4MDgxOTQ0Nyk7CiAgICAgICAgICAgIAoKICAgICAgICAgICAgY2lyY2xlX21hcmtlcl8xZmY1M2M4MzYzY2Q0N2UwOTJjODI1MzFkMjI4MmM0OC5iaW5kUG9wdXAocG9wdXBfN2NhYmMzYWU0OTNjNDlhYWE5Njk1ODE1YmUzZThkN2IpOwoKICAgICAgICAgICAgCiAgICAgICAgCiAgICAKICAgICAgICAgICAgdmFyIGNpcmNsZV9tYXJrZXJfYzAyYjgzZTA4Zjk3NDFkMWJmOWNlNDJiZThmZGYzNzMgPSBMLmNpcmNsZU1hcmtlcigKICAgICAgICAgICAgICAgIFstMzQuNTYyNjQyLC01OC40ODA5NzZdLAogICAgICAgICAgICAgICAgewogICJidWJibGluZ01vdXNlRXZlbnRzIjogdHJ1ZSwKICAiY29sb3IiOiAiYmx1ZSIsCiAgImRhc2hBcnJheSI6IG51bGwsCiAgImRhc2hPZmZzZXQiOiBudWxsLAogICJmaWxsIjogdHJ1ZSwKICAiZmlsbENvbG9yIjogIiMzMTg2Y2MiLAogICJmaWxsT3BhY2l0eSI6IDAuNywKICAiZmlsbFJ1bGUiOiAiZXZlbm9kZCIsCiAgImxpbmVDYXAiOiAicm91bmQiLAogICJsaW5lSm9pbiI6ICJyb3VuZCIsCiAgIm9wYWNpdHkiOiAxLjAsCiAgInJhZGl1cyI6IDUsCiAgInN0cm9rZSI6IHRydWUsCiAgIndlaWdodCI6IDMKfQogICAgICAgICAgICAgICAgKS5hZGRUbyhtYXBfMjg0OGU1ZjExZTllNDQ1ZGI2MDhkZDU3NjE4YmRhMTApOwogICAgICAgICAgICAKICAgIAogICAgICAgICAgICB2YXIgcG9wdXBfMjg4NWEwYmNkYjRlNDBlNWIxODhjOWMyZjBmNTY3M2YgPSBMLnBvcHVwKHttYXhXaWR0aDogJzMwMCd9KTsKCiAgICAgICAgICAgIAogICAgICAgICAgICAgICAgdmFyIGh0bWxfN2Q3NjQzNTk1MjQwNGVhMmJjOTcyMGEwNDg1YTJkNjYgPSAkKCc8ZGl2IGlkPSJodG1sXzdkNzY0MzU5NTI0MDRlYTJiYzk3MjBhMDQ4NWEyZDY2IiBzdHlsZT0id2lkdGg6IDEwMC4wJTsgaGVpZ2h0OiAxMDAuMCU7Ij5WSUxMQSBVUlFVSVpBPC9kaXY+JylbMF07CiAgICAgICAgICAgICAgICBwb3B1cF8yODg1YTBiY2RiNGU0MGU1YjE4OGM5YzJmMGY1NjczZi5zZXRDb250ZW50KGh0bWxfN2Q3NjQzNTk1MjQwNGVhMmJjOTcyMGEwNDg1YTJkNjYpOwogICAgICAgICAgICAKCiAgICAgICAgICAgIGNpcmNsZV9tYXJrZXJfYzAyYjgzZTA4Zjk3NDFkMWJmOWNlNDJiZThmZGYzNzMuYmluZFBvcHVwKHBvcHVwXzI4ODVhMGJjZGI0ZTQwZTViMTg4YzljMmYwZjU2NzNmKTsKCiAgICAgICAgICAgIAogICAgICAgIAogICAgCiAgICAgICAgICAgIHZhciBjaXJjbGVfbWFya2VyXzljZTA4ZWJlNzM5ZDRhN2NhM2I1ZDg2MzNmOGZiNDFkID0gTC5jaXJjbGVNYXJrZXIoCiAgICAgICAgICAgICAgICBbLTM0LjU2OTA2NSwtNTguNDQ2NjkxXSwKICAgICAgICAgICAgICAgIHsKICAiYnViYmxpbmdNb3VzZUV2ZW50cyI6IHRydWUsCiAgImNvbG9yIjogImJsdWUiLAogICJkYXNoQXJyYXkiOiBudWxsLAogICJkYXNoT2Zmc2V0IjogbnVsbCwKICAiZmlsbCI6IHRydWUsCiAgImZpbGxDb2xvciI6ICIjMzE4NmNjIiwKICAiZmlsbE9wYWNpdHkiOiAwLjcsCiAgImZpbGxSdWxlIjogImV2ZW5vZGQiLAogICJsaW5lQ2FwIjogInJvdW5kIiwKICAibGluZUpvaW4iOiAicm91bmQiLAogICJvcGFjaXR5IjogMS4wLAogICJyYWRpdXMiOiA1LAogICJzdHJva2UiOiB0cnVlLAogICJ3ZWlnaHQiOiAzCn0KICAgICAgICAgICAgICAgICkuYWRkVG8obWFwXzI4NDhlNWYxMWU5ZTQ0NWRiNjA4ZGQ1NzYxOGJkYTEwKTsKICAgICAgICAgICAgCiAgICAKICAgICAgICAgICAgdmFyIHBvcHVwXzJjZGJlNzRhYTY1NTRlNmU4MjY0Mjc1NzkwOTA1ZDE5ID0gTC5wb3B1cCh7bWF4V2lkdGg6ICczMDAnfSk7CgogICAgICAgICAgICAKICAgICAgICAgICAgICAgIHZhciBodG1sXzYxNDM5MTdkNDQzMzQxN2FiZWU0ZGE2M2QxOWE4YmU0ID0gJCgnPGRpdiBpZD0iaHRtbF82MTQzOTE3ZDQ0MzM0MTdhYmVlNGRhNjNkMTlhOGJlNCIgc3R5bGU9IndpZHRoOiAxMDAuMCU7IGhlaWdodDogMTAwLjAlOyI+Q09MRUdJQUxFUzwvZGl2PicpWzBdOwogICAgICAgICAgICAgICAgcG9wdXBfMmNkYmU3NGFhNjU1NGU2ZTgyNjQyNzU3OTA5MDVkMTkuc2V0Q29udGVudChodG1sXzYxNDM5MTdkNDQzMzQxN2FiZWU0ZGE2M2QxOWE4YmU0KTsKICAgICAgICAgICAgCgogICAgICAgICAgICBjaXJjbGVfbWFya2VyXzljZTA4ZWJlNzM5ZDRhN2NhM2I1ZDg2MzNmOGZiNDFkLmJpbmRQb3B1cChwb3B1cF8yY2RiZTc0YWE2NTU0ZTZlODI2NDI3NTc5MDkwNWQxOSk7CgogICAgICAgICAgICAKICAgICAgICAKICAgIAogICAgICAgICAgICB2YXIgY2lyY2xlX21hcmtlcl85ZTE1MGIzZDhjYmM0YmUxYjFjNDg2YmJlOTFjYTQ0NiA9IEwuY2lyY2xlTWFya2VyKAogICAgICAgICAgICAgICAgWy0zNC41OTgwMDMsLTU4LjQxMTkxOF0sCiAgICAgICAgICAgICAgICB7CiAgImJ1YmJsaW5nTW91c2VFdmVudHMiOiB0cnVlLAogICJjb2xvciI6ICJibHVlIiwKICAiZGFzaEFycmF5IjogbnVsbCwKICAiZGFzaE9mZnNldCI6IG51bGwsCiAgImZpbGwiOiB0cnVlLAogICJmaWxsQ29sb3IiOiAiIzMxODZjYyIsCiAgImZpbGxPcGFjaXR5IjogMC43LAogICJmaWxsUnVsZSI6ICJldmVub2RkIiwKICAibGluZUNhcCI6ICJyb3VuZCIsCiAgImxpbmVKb2luIjogInJvdW5kIiwKICAib3BhY2l0eSI6IDEuMCwKICAicmFkaXVzIjogNSwKICAic3Ryb2tlIjogdHJ1ZSwKICAid2VpZ2h0IjogMwp9CiAgICAgICAgICAgICAgICApLmFkZFRvKG1hcF8yODQ4ZTVmMTFlOWU0NDVkYjYwOGRkNTc2MThiZGExMCk7CiAgICAgICAgICAgIAogICAgCiAgICAgICAgICAgIHZhciBwb3B1cF83NWVkMWRmZDIyNTE0NTJiYmMzMzkyMmMzYmNkNTc5ZSA9IEwucG9wdXAoe21heFdpZHRoOiAnMzAwJ30pOwoKICAgICAgICAgICAgCiAgICAgICAgICAgICAgICB2YXIgaHRtbF82YmU5MWU5NzhhODM0MDBiYjgyNGJjNGI3ZGMxNDE5YiA9ICQoJzxkaXYgaWQ9Imh0bWxfNmJlOTFlOTc4YTgzNDAwYmI4MjRiYzRiN2RjMTQxOWIiIHN0eWxlPSJ3aWR0aDogMTAwLjAlOyBoZWlnaHQ6IDEwMC4wJTsiPkJBTFZBTkVSQTwvZGl2PicpWzBdOwogICAgICAgICAgICAgICAgcG9wdXBfNzVlZDFkZmQyMjUxNDUyYmJjMzM5MjJjM2JjZDU3OWUuc2V0Q29udGVudChodG1sXzZiZTkxZTk3OGE4MzQwMGJiODI0YmM0YjdkYzE0MTliKTsKICAgICAgICAgICAgCgogICAgICAgICAgICBjaXJjbGVfbWFya2VyXzllMTUwYjNkOGNiYzRiZTFiMWM0ODZiYmU5MWNhNDQ2LmJpbmRQb3B1cChwb3B1cF83NWVkMWRmZDIyNTE0NTJiYmMzMzkyMmMzYmNkNTc5ZSk7CgogICAgICAgICAgICAKICAgICAgICAKICAgIAogICAgICAgICAgICB2YXIgY2lyY2xlX21hcmtlcl8wOWMwNDJhOWMyYmU0YmE2YmI2ZjgxMjViM2FiYzAzNSA9IEwuY2lyY2xlTWFya2VyKAogICAgICAgICAgICAgICAgWy0zNC42MTkwMzgsLTU4LjQ3MTM5OV0sCiAgICAgICAgICAgICAgICB7CiAgImJ1YmJsaW5nTW91c2VFdmVudHMiOiB0cnVlLAogICJjb2xvciI6ICJibHVlIiwKICAiZGFzaEFycmF5IjogbnVsbCwKICAiZGFzaE9mZnNldCI6IG51bGwsCiAgImZpbGwiOiB0cnVlLAogICJmaWxsQ29sb3IiOiAiIzMxODZjYyIsCiAgImZpbGxPcGFjaXR5IjogMC43LAogICJmaWxsUnVsZSI6ICJldmVub2RkIiwKICAibGluZUNhcCI6ICJyb3VuZCIsCiAgImxpbmVKb2luIjogInJvdW5kIiwKICAib3BhY2l0eSI6IDEuMCwKICAicmFkaXVzIjogNSwKICAic3Ryb2tlIjogdHJ1ZSwKICAid2VpZ2h0IjogMwp9CiAgICAgICAgICAgICAgICApLmFkZFRvKG1hcF8yODQ4ZTVmMTFlOWU0NDVkYjYwOGRkNTc2MThiZGExMCk7CiAgICAgICAgICAgIAogICAgCiAgICAgICAgICAgIHZhciBwb3B1cF9lZTJlYWM0MTI2ODc0MDM3OGExM2Q5MjMxMGM5ZGFmZiA9IEwucG9wdXAoe21heFdpZHRoOiAnMzAwJ30pOwoKICAgICAgICAgICAgCiAgICAgICAgICAgICAgICB2YXIgaHRtbF9lNGYyNWQ2MWIwNzI0MGRmYmNkMjI5YjlhNzgwZjRlZiA9ICQoJzxkaXYgaWQ9Imh0bWxfZTRmMjVkNjFiMDcyNDBkZmJjZDIyOWI5YTc4MGY0ZWYiIHN0eWxlPSJ3aWR0aDogMTAwLjAlOyBoZWlnaHQ6IDEwMC4wJTsiPlZJTExBIEdSQUwuIE1JVFJFPC9kaXY+JylbMF07CiAgICAgICAgICAgICAgICBwb3B1cF9lZTJlYWM0MTI2ODc0MDM3OGExM2Q5MjMxMGM5ZGFmZi5zZXRDb250ZW50KGh0bWxfZTRmMjVkNjFiMDcyNDBkZmJjZDIyOWI5YTc4MGY0ZWYpOwogICAgICAgICAgICAKCiAgICAgICAgICAgIGNpcmNsZV9tYXJrZXJfMDljMDQyYTljMmJlNGJhNmJiNmY4MTI1YjNhYmMwMzUuYmluZFBvcHVwKHBvcHVwX2VlMmVhYzQxMjY4NzQwMzc4YTEzZDkyMzEwYzlkYWZmKTsKCiAgICAgICAgICAgIAogICAgICAgIAogICAgCiAgICAgICAgICAgIHZhciBjaXJjbGVfbWFya2VyXzRhNjY0ZjgzMmE3NTRhZTc4ZGFiNTU3ZjNiYzBhYzExID0gTC5jaXJjbGVNYXJrZXIoCiAgICAgICAgICAgICAgICBbLTM0LjU4NzQ0NSwtNTguNDcwODE1XSwKICAgICAgICAgICAgICAgIHsKICAiYnViYmxpbmdNb3VzZUV2ZW50cyI6IHRydWUsCiAgImNvbG9yIjogImJsdWUiLAogICJkYXNoQXJyYXkiOiBudWxsLAogICJkYXNoT2Zmc2V0IjogbnVsbCwKICAiZmlsbCI6IHRydWUsCiAgImZpbGxDb2xvciI6ICIjMzE4NmNjIiwKICAiZmlsbE9wYWNpdHkiOiAwLjcsCiAgImZpbGxSdWxlIjogImV2ZW5vZGQiLAogICJsaW5lQ2FwIjogInJvdW5kIiwKICAibGluZUpvaW4iOiAicm91bmQiLAogICJvcGFjaXR5IjogMS4wLAogICJyYWRpdXMiOiA1LAogICJzdHJva2UiOiB0cnVlLAogICJ3ZWlnaHQiOiAzCn0KICAgICAgICAgICAgICAgICkuYWRkVG8obWFwXzI4NDhlNWYxMWU5ZTQ0NWRiNjA4ZGQ1NzYxOGJkYTEwKTsKICAgICAgICAgICAgCiAgICAKICAgICAgICAgICAgdmFyIHBvcHVwX2QzNjBmNWI2NTkzMDQ5MTNhMmVmOWM2YTI4MTBmYzBkID0gTC5wb3B1cCh7bWF4V2lkdGg6ICczMDAnfSk7CgogICAgICAgICAgICAKICAgICAgICAgICAgICAgIHZhciBodG1sXzc5MmE0YzYxYWFlZjQxODY4NzFiZGVjNmYyZmQ3Zjg5ID0gJCgnPGRpdiBpZD0iaHRtbF83OTJhNGM2MWFhZWY0MTg2ODcxYmRlYzZmMmZkN2Y4OSIgc3R5bGU9IndpZHRoOiAxMDAuMCU7IGhlaWdodDogMTAwLjAlOyI+UEFSUVVFIENIQVM8L2Rpdj4nKVswXTsKICAgICAgICAgICAgICAgIHBvcHVwX2QzNjBmNWI2NTkzMDQ5MTNhMmVmOWM2YTI4MTBmYzBkLnNldENvbnRlbnQoaHRtbF83OTJhNGM2MWFhZWY0MTg2ODcxYmRlYzZmMmZkN2Y4OSk7CiAgICAgICAgICAgIAoKICAgICAgICAgICAgY2lyY2xlX21hcmtlcl80YTY2NGY4MzJhNzU0YWU3OGRhYjU1N2YzYmMwYWMxMS5iaW5kUG9wdXAocG9wdXBfZDM2MGY1YjY1OTMwNDkxM2EyZWY5YzZhMjgxMGZjMGQpOwoKICAgICAgICAgICAgCiAgICAgICAgCiAgICAKICAgICAgICAgICAgdmFyIGNpcmNsZV9tYXJrZXJfY2U5NDBmNWIyMjcyNDc0NzkyOTRkMzVhYWExOWEzNWEgPSBMLmNpcmNsZU1hcmtlcigKICAgICAgICAgICAgICAgIFstMzQuNTk1MTE0LC01OC40NzcxMTVdLAogICAgICAgICAgICAgICAgewogICJidWJibGluZ01vdXNlRXZlbnRzIjogdHJ1ZSwKICAiY29sb3IiOiAiYmx1ZSIsCiAgImRhc2hBcnJheSI6IG51bGwsCiAgImRhc2hPZmZzZXQiOiBudWxsLAogICJmaWxsIjogdHJ1ZSwKICAiZmlsbENvbG9yIjogIiMzMTg2Y2MiLAogICJmaWxsT3BhY2l0eSI6IDAuNywKICAiZmlsbFJ1bGUiOiAiZXZlbm9kZCIsCiAgImxpbmVDYXAiOiAicm91bmQiLAogICJsaW5lSm9pbiI6ICJyb3VuZCIsCiAgIm9wYWNpdHkiOiAxLjAsCiAgInJhZGl1cyI6IDUsCiAgInN0cm9rZSI6IHRydWUsCiAgIndlaWdodCI6IDMKfQogICAgICAgICAgICAgICAgKS5hZGRUbyhtYXBfMjg0OGU1ZjExZTllNDQ1ZGI2MDhkZDU3NjE4YmRhMTApOwogICAgICAgICAgICAKICAgIAogICAgICAgICAgICB2YXIgcG9wdXBfMGQzNDczMGRlODY0NGZlM2EzZDcwNDAwYWI0MGRkYmEgPSBMLnBvcHVwKHttYXhXaWR0aDogJzMwMCd9KTsKCiAgICAgICAgICAgIAogICAgICAgICAgICAgICAgdmFyIGh0bWxfNGZlY2NlYzViNDAwNDIyMWFjNmE3M2M2MmRjM2FjNmYgPSAkKCc8ZGl2IGlkPSJodG1sXzRmZWNjZWM1YjQwMDQyMjFhYzZhNzNjNjJkYzNhYzZmIiBzdHlsZT0id2lkdGg6IDEwMC4wJTsgaGVpZ2h0OiAxMDAuMCU7Ij5BR1JPTk9NSUE8L2Rpdj4nKVswXTsKICAgICAgICAgICAgICAgIHBvcHVwXzBkMzQ3MzBkZTg2NDRmZTNhM2Q3MDQwMGFiNDBkZGJhLnNldENvbnRlbnQoaHRtbF80ZmVjY2VjNWI0MDA0MjIxYWM2YTczYzYyZGMzYWM2Zik7CiAgICAgICAgICAgIAoKICAgICAgICAgICAgY2lyY2xlX21hcmtlcl9jZTk0MGY1YjIyNzI0NzQ3OTI5NGQzNWFhYTE5YTM1YS5iaW5kUG9wdXAocG9wdXBfMGQzNDczMGRlODY0NGZlM2EzZDcwNDAwYWI0MGRkYmEpOwoKICAgICAgICAgICAgCiAgICAgICAgCiAgICAKICAgICAgICAgICAgdmFyIGNpcmNsZV9tYXJrZXJfYzA1Y2FhM2QyOWEyNDFmMWFhODcwMWIxMjVhYTc4NzMgPSBMLmNpcmNsZU1hcmtlcigKICAgICAgICAgICAgICAgIFstMzQuNTc3OTQyLC01OC40NjA1NDZdLAogICAgICAgICAgICAgICAgewogICJidWJibGluZ01vdXNlRXZlbnRzIjogdHJ1ZSwKICAiY29sb3IiOiAiYmx1ZSIsCiAgImRhc2hBcnJheSI6IG51bGwsCiAgImRhc2hPZmZzZXQiOiBudWxsLAogICJmaWxsIjogdHJ1ZSwKICAiZmlsbENvbG9yIjogIiMzMTg2Y2MiLAogICJmaWxsT3BhY2l0eSI6IDAuNywKICAiZmlsbFJ1bGUiOiAiZXZlbm9kZCIsCiAgImxpbmVDYXAiOiAicm91bmQiLAogICJsaW5lSm9pbiI6ICJyb3VuZCIsCiAgIm9wYWNpdHkiOiAxLjAsCiAgInJhZGl1cyI6IDUsCiAgInN0cm9rZSI6IHRydWUsCiAgIndlaWdodCI6IDMKfQogICAgICAgICAgICAgICAgKS5hZGRUbyhtYXBfMjg0OGU1ZjExZTllNDQ1ZGI2MDhkZDU3NjE4YmRhMTApOwogICAgICAgICAgICAKICAgIAogICAgICAgICAgICB2YXIgcG9wdXBfYTVlNDRjYWQ0Y2E4NGU4YThkZDY4MTBmNTc2NTc1NGIgPSBMLnBvcHVwKHttYXhXaWR0aDogJzMwMCd9KTsKCiAgICAgICAgICAgIAogICAgICAgICAgICAgICAgdmFyIGh0bWxfZjEwOGJjMzYyOTk3NDhmZTgzYTMzYzQ2MDJiYmVkMmIgPSAkKCc8ZGl2IGlkPSJodG1sX2YxMDhiYzM2Mjk5NzQ4ZmU4M2EzM2M0NjAyYmJlZDJiIiBzdHlsZT0id2lkdGg6IDEwMC4wJTsgaGVpZ2h0OiAxMDAuMCU7Ij5WSUxMQSBPUlRVWkFSPC9kaXY+JylbMF07CiAgICAgICAgICAgICAgICBwb3B1cF9hNWU0NGNhZDRjYTg0ZThhOGRkNjgxMGY1NzY1NzU0Yi5zZXRDb250ZW50KGh0bWxfZjEwOGJjMzYyOTk3NDhmZTgzYTMzYzQ2MDJiYmVkMmIpOwogICAgICAgICAgICAKCiAgICAgICAgICAgIGNpcmNsZV9tYXJrZXJfYzA1Y2FhM2QyOWEyNDFmMWFhODcwMWIxMjVhYTc4NzMuYmluZFBvcHVwKHBvcHVwX2E1ZTQ0Y2FkNGNhODRlOGE4ZGQ2ODEwZjU3NjU3NTRiKTsKCiAgICAgICAgICAgIAogICAgICAgIAogICAgCiAgICAgICAgICAgIHZhciBjaXJjbGVfbWFya2VyXzZkZGM1YzczNjBlYzRiYmE5MzkzNTNhN2FiZmEzZDU0ID0gTC5jaXJjbGVNYXJrZXIoCiAgICAgICAgICAgICAgICBbLTM0LjYzMjkyNSwtNTguMzcwMzM1XSwKICAgICAgICAgICAgICAgIHsKICAiYnViYmxpbmdNb3VzZUV2ZW50cyI6IHRydWUsCiAgImNvbG9yIjogImJsdWUiLAogICJkYXNoQXJyYXkiOiBudWxsLAogICJkYXNoT2Zmc2V0IjogbnVsbCwKICAiZmlsbCI6IHRydWUsCiAgImZpbGxDb2xvciI6ICIjMzE4NmNjIiwKICAiZmlsbE9wYWNpdHkiOiAwLjcsCiAgImZpbGxSdWxlIjogImV2ZW5vZGQiLAogICJsaW5lQ2FwIjogInJvdW5kIiwKICAibGluZUpvaW4iOiAicm91bmQiLAogICJvcGFjaXR5IjogMS4wLAogICJyYWRpdXMiOiA1LAogICJzdHJva2UiOiB0cnVlLAogICJ3ZWlnaHQiOiAzCn0KICAgICAgICAgICAgICAgICkuYWRkVG8obWFwXzI4NDhlNWYxMWU5ZTQ0NWRiNjA4ZGQ1NzYxOGJkYTEwKTsKICAgICAgICAgICAgCiAgICAKICAgICAgICAgICAgdmFyIHBvcHVwX2Q4MGY1MzkzYTliODRlNDFhYWE4ODhkODcyNTEzNjE3ID0gTC5wb3B1cCh7bWF4V2lkdGg6ICczMDAnfSk7CgogICAgICAgICAgICAKICAgICAgICAgICAgICAgIHZhciBodG1sX2MzZTkxYzBlZjQ2NzQ3OGU4NTFlMjRhMTA3NzNhOGE3ID0gJCgnPGRpdiBpZD0iaHRtbF9jM2U5MWMwZWY0Njc0NzhlODUxZTI0YTEwNzczYThhNyIgc3R5bGU9IndpZHRoOiAxMDAuMCU7IGhlaWdodDogMTAwLjAlOyI+QkFSUkFDQVM8L2Rpdj4nKVswXTsKICAgICAgICAgICAgICAgIHBvcHVwX2Q4MGY1MzkzYTliODRlNDFhYWE4ODhkODcyNTEzNjE3LnNldENvbnRlbnQoaHRtbF9jM2U5MWMwZWY0Njc0NzhlODUxZTI0YTEwNzczYThhNyk7CiAgICAgICAgICAgIAoKICAgICAgICAgICAgY2lyY2xlX21hcmtlcl82ZGRjNWM3MzYwZWM0YmJhOTM5MzUzYTdhYmZhM2Q1NC5iaW5kUG9wdXAocG9wdXBfZDgwZjUzOTNhOWI4NGU0MWFhYTg4OGQ4NzI1MTM2MTcpOwoKICAgICAgICAgICAgCiAgICAgICAgCiAgICAKICAgICAgICAgICAgdmFyIGNpcmNsZV9tYXJrZXJfOTRhZTRkZTI3N2VkNDZjMWJiNDZmMTkxZmM5YTRmY2MgPSBMLmNpcmNsZU1hcmtlcigKICAgICAgICAgICAgICAgIFstMzQuNjM4Nzg2LC01OC40NzAzNzVdLAogICAgICAgICAgICAgICAgewogICJidWJibGluZ01vdXNlRXZlbnRzIjogdHJ1ZSwKICAiY29sb3IiOiAiYmx1ZSIsCiAgImRhc2hBcnJheSI6IG51bGwsCiAgImRhc2hPZmZzZXQiOiBudWxsLAogICJmaWxsIjogdHJ1ZSwKICAiZmlsbENvbG9yIjogIiMzMTg2Y2MiLAogICJmaWxsT3BhY2l0eSI6IDAuNywKICAiZmlsbFJ1bGUiOiAiZXZlbm9kZCIsCiAgImxpbmVDYXAiOiAicm91bmQiLAogICJsaW5lSm9pbiI6ICJyb3VuZCIsCiAgIm9wYWNpdHkiOiAxLjAsCiAgInJhZGl1cyI6IDUsCiAgInN0cm9rZSI6IHRydWUsCiAgIndlaWdodCI6IDMKfQogICAgICAgICAgICAgICAgKS5hZGRUbyhtYXBfMjg0OGU1ZjExZTllNDQ1ZGI2MDhkZDU3NjE4YmRhMTApOwogICAgICAgICAgICAKICAgIAogICAgICAgICAgICB2YXIgcG9wdXBfNGM3MmIxODA5NWE2NGVmM2I5MTcxMmU4NWY5NzdlY2QgPSBMLnBvcHVwKHttYXhXaWR0aDogJzMwMCd9KTsKCiAgICAgICAgICAgIAogICAgICAgICAgICAgICAgdmFyIGh0bWxfOGY2MTkwOGQwYzQ3NGZjM2E2OTRlZmUyOGEzOTU2M2YgPSAkKCc8ZGl2IGlkPSJodG1sXzhmNjE5MDhkMGM0NzRmYzNhNjk0ZWZlMjhhMzk1NjNmIiBzdHlsZT0id2lkdGg6IDEwMC4wJTsgaGVpZ2h0OiAxMDAuMCU7Ij5QQVJRVUUgQVZFTExBTkVEQTwvZGl2PicpWzBdOwogICAgICAgICAgICAgICAgcG9wdXBfNGM3MmIxODA5NWE2NGVmM2I5MTcxMmU4NWY5NzdlY2Quc2V0Q29udGVudChodG1sXzhmNjE5MDhkMGM0NzRmYzNhNjk0ZWZlMjhhMzk1NjNmKTsKICAgICAgICAgICAgCgogICAgICAgICAgICBjaXJjbGVfbWFya2VyXzk0YWU0ZGUyNzdlZDQ2YzFiYjQ2ZjE5MWZjOWE0ZmNjLmJpbmRQb3B1cChwb3B1cF80YzcyYjE4MDk1YTY0ZWYzYjkxNzEyZTg1Zjk3N2VjZCk7CgogICAgICAgICAgICAKICAgICAgICAKICAgIAogICAgICAgICAgICB2YXIgY2lyY2xlX21hcmtlcl85ZDdlNjliYTJhZjE0MWUzYjM4ZmVlYjBjMDUwODAxYyA9IEwuY2lyY2xlTWFya2VyKAogICAgICAgICAgICAgICAgWy0zNC42NDE3NDEsLTU4LjQzMjM0NF0sCiAgICAgICAgICAgICAgICB7CiAgImJ1YmJsaW5nTW91c2VFdmVudHMiOiB0cnVlLAogICJjb2xvciI6ICJibHVlIiwKICAiZGFzaEFycmF5IjogbnVsbCwKICAiZGFzaE9mZnNldCI6IG51bGwsCiAgImZpbGwiOiB0cnVlLAogICJmaWxsQ29sb3IiOiAiIzMxODZjYyIsCiAgImZpbGxPcGFjaXR5IjogMC43LAogICJmaWxsUnVsZSI6ICJldmVub2RkIiwKICAibGluZUNhcCI6ICJyb3VuZCIsCiAgImxpbmVKb2luIjogInJvdW5kIiwKICAib3BhY2l0eSI6IDEuMCwKICAicmFkaXVzIjogNSwKICAic3Ryb2tlIjogdHJ1ZSwKICAid2VpZ2h0IjogMwp9CiAgICAgICAgICAgICAgICApLmFkZFRvKG1hcF8yODQ4ZTVmMTFlOWU0NDVkYjYwOGRkNTc2MThiZGExMCk7CiAgICAgICAgICAgIAogICAgCiAgICAgICAgICAgIHZhciBwb3B1cF8zYjRhY2ZiNWVlMDM0NTk2YTU3ZDNlNzIxYWFiMDc1MiA9IEwucG9wdXAoe21heFdpZHRoOiAnMzAwJ30pOwoKICAgICAgICAgICAgCiAgICAgICAgICAgICAgICB2YXIgaHRtbF9hOWM0ODJjOWZlYTM0NWY4ODJlMmZjOWYyYTZiMTk2OCA9ICQoJzxkaXYgaWQ9Imh0bWxfYTljNDgyYzlmZWEzNDVmODgyZTJmYzlmMmE2YjE5NjgiIHN0eWxlPSJ3aWR0aDogMTAwLjAlOyBoZWlnaHQ6IDEwMC4wJTsiPlBBUlFVRSBDSEFDQUJVQ088L2Rpdj4nKVswXTsKICAgICAgICAgICAgICAgIHBvcHVwXzNiNGFjZmI1ZWUwMzQ1OTZhNTdkM2U3MjFhYWIwNzUyLnNldENvbnRlbnQoaHRtbF9hOWM0ODJjOWZlYTM0NWY4ODJlMmZjOWYyYTZiMTk2OCk7CiAgICAgICAgICAgIAoKICAgICAgICAgICAgY2lyY2xlX21hcmtlcl85ZDdlNjliYTJhZjE0MWUzYjM4ZmVlYjBjMDUwODAxYy5iaW5kUG9wdXAocG9wdXBfM2I0YWNmYjVlZTAzNDU5NmE1N2QzZTcyMWFhYjA3NTIpOwoKICAgICAgICAgICAgCiAgICAgICAgCiAgICAKICAgICAgICAgICAgdmFyIGNpcmNsZV9tYXJrZXJfNmMzZjlkOTFjOGQwNGQ0N2I4YjA0MmQzNzEwNWJjYWIgPSBMLmNpcmNsZU1hcmtlcigKICAgICAgICAgICAgICAgIFstMzQuNjQ4MTM0LC01OC40MTIyMDhdLAogICAgICAgICAgICAgICAgewogICJidWJibGluZ01vdXNlRXZlbnRzIjogdHJ1ZSwKICAiY29sb3IiOiAiYmx1ZSIsCiAgImRhc2hBcnJheSI6IG51bGwsCiAgImRhc2hPZmZzZXQiOiBudWxsLAogICJmaWxsIjogdHJ1ZSwKICAiZmlsbENvbG9yIjogIiMzMTg2Y2MiLAogICJmaWxsT3BhY2l0eSI6IDAuNywKICAiZmlsbFJ1bGUiOiAiZXZlbm9kZCIsCiAgImxpbmVDYXAiOiAicm91bmQiLAogICJsaW5lSm9pbiI6ICJyb3VuZCIsCiAgIm9wYWNpdHkiOiAxLjAsCiAgInJhZGl1cyI6IDUsCiAgInN0cm9rZSI6IHRydWUsCiAgIndlaWdodCI6IDMKfQogICAgICAgICAgICAgICAgKS5hZGRUbyhtYXBfMjg0OGU1ZjExZTllNDQ1ZGI2MDhkZDU3NjE4YmRhMTApOwogICAgICAgICAgICAKICAgIAogICAgICAgICAgICB2YXIgcG9wdXBfMTgzN2E0YzYzNWQyNGRmZGE5ZTgzNjlmNzIyMmIzZTMgPSBMLnBvcHVwKHttYXhXaWR0aDogJzMwMCd9KTsKCiAgICAgICAgICAgIAogICAgICAgICAgICAgICAgdmFyIGh0bWxfOGU5YTY3YTljMWE5NGM1Y2EzYjFjYTdmODM1YjZlNjQgPSAkKCc8ZGl2IGlkPSJodG1sXzhlOWE2N2E5YzFhOTRjNWNhM2IxY2E3ZjgzNWI2ZTY0IiBzdHlsZT0id2lkdGg6IDEwMC4wJTsgaGVpZ2h0OiAxMDAuMCU7Ij5OVUVWQSBQT01QRVlBPC9kaXY+JylbMF07CiAgICAgICAgICAgICAgICBwb3B1cF8xODM3YTRjNjM1ZDI0ZGZkYTllODM2OWY3MjIyYjNlMy5zZXRDb250ZW50KGh0bWxfOGU5YTY3YTljMWE5NGM1Y2EzYjFjYTdmODM1YjZlNjQpOwogICAgICAgICAgICAKCiAgICAgICAgICAgIGNpcmNsZV9tYXJrZXJfNmMzZjlkOTFjOGQwNGQ0N2I4YjA0MmQzNzEwNWJjYWIuYmluZFBvcHVwKHBvcHVwXzE4MzdhNGM2MzVkMjRkZmRhOWU4MzY5ZjcyMjJiM2UzKTsKCiAgICAgICAgICAgIAogICAgICAgIAogICAgCiAgICAgICAgICAgIHZhciBjaXJjbGVfbWFya2VyXzFkOGRhY2JkOTI5OTRjNjQ5ZDQyZDhjNzJlYjQyMzI3ID0gTC5jaXJjbGVNYXJrZXIoCiAgICAgICAgICAgICAgICBbLTM0LjU1MjAyMywtNTguNDI2NzU5XSwKICAgICAgICAgICAgICAgIHsKICAiYnViYmxpbmdNb3VzZUV2ZW50cyI6IHRydWUsCiAgImNvbG9yIjogImJsdWUiLAogICJkYXNoQXJyYXkiOiBudWxsLAogICJkYXNoT2Zmc2V0IjogbnVsbCwKICAiZmlsbCI6IHRydWUsCiAgImZpbGxDb2xvciI6ICIjMzE4NmNjIiwKICAiZmlsbE9wYWNpdHkiOiAwLjcsCiAgImZpbGxSdWxlIjogImV2ZW5vZGQiLAogICJsaW5lQ2FwIjogInJvdW5kIiwKICAibGluZUpvaW4iOiAicm91bmQiLAogICJvcGFjaXR5IjogMS4wLAogICJyYWRpdXMiOiA1LAogICJzdHJva2UiOiB0cnVlLAogICJ3ZWlnaHQiOiAzCn0KICAgICAgICAgICAgICAgICkuYWRkVG8obWFwXzI4NDhlNWYxMWU5ZTQ0NWRiNjA4ZGQ1NzYxOGJkYTEwKTsKICAgICAgICAgICAgCiAgICAKICAgICAgICAgICAgdmFyIHBvcHVwXzAzYmZjYmEzM2EwNzRkNDFiNDdkMzVkYjc2YzEzMWExID0gTC5wb3B1cCh7bWF4V2lkdGg6ICczMDAnfSk7CgogICAgICAgICAgICAKICAgICAgICAgICAgICAgIHZhciBodG1sXzIzYzI3ZDc1NDFmZDQxMTZhMmU5Nzk4NWI4NTJmNDZhID0gJCgnPGRpdiBpZD0iaHRtbF8yM2MyN2Q3NTQxZmQ0MTE2YTJlOTc5ODViODUyZjQ2YSIgc3R5bGU9IndpZHRoOiAxMDAuMCU7IGhlaWdodDogMTAwLjAlOyI+UEFMRVJNTzwvZGl2PicpWzBdOwogICAgICAgICAgICAgICAgcG9wdXBfMDNiZmNiYTMzYTA3NGQ0MWI0N2QzNWRiNzZjMTMxYTEuc2V0Q29udGVudChodG1sXzIzYzI3ZDc1NDFmZDQxMTZhMmU5Nzk4NWI4NTJmNDZhKTsKICAgICAgICAgICAgCgogICAgICAgICAgICBjaXJjbGVfbWFya2VyXzFkOGRhY2JkOTI5OTRjNjQ5ZDQyZDhjNzJlYjQyMzI3LmJpbmRQb3B1cChwb3B1cF8wM2JmY2JhMzNhMDc0ZDQxYjQ3ZDM1ZGI3NmMxMzFhMSk7CgogICAgICAgICAgICAKICAgICAgICAKICAgIAogICAgICAgICAgICB2YXIgY2lyY2xlX21hcmtlcl8wYTUzODA3OWQ4NDA0MmExYTEzZTA3ZGRkOTYzMDM3ZSA9IEwuY2lyY2xlTWFya2VyKAogICAgICAgICAgICAgICAgWy0zNC42ODA2MSwtNTguNDQ5NzgzXSwKICAgICAgICAgICAgICAgIHsKICAiYnViYmxpbmdNb3VzZUV2ZW50cyI6IHRydWUsCiAgImNvbG9yIjogImJsdWUiLAogICJkYXNoQXJyYXkiOiBudWxsLAogICJkYXNoT2Zmc2V0IjogbnVsbCwKICAiZmlsbCI6IHRydWUsCiAgImZpbGxDb2xvciI6ICIjMzE4NmNjIiwKICAiZmlsbE9wYWNpdHkiOiAwLjcsCiAgImZpbGxSdWxlIjogImV2ZW5vZGQiLAogICJsaW5lQ2FwIjogInJvdW5kIiwKICAibGluZUpvaW4iOiAicm91bmQiLAogICJvcGFjaXR5IjogMS4wLAogICJyYWRpdXMiOiA1LAogICJzdHJva2UiOiB0cnVlLAogICJ3ZWlnaHQiOiAzCn0KICAgICAgICAgICAgICAgICkuYWRkVG8obWFwXzI4NDhlNWYxMWU5ZTQ0NWRiNjA4ZGQ1NzYxOGJkYTEwKTsKICAgICAgICAgICAgCiAgICAKICAgICAgICAgICAgdmFyIHBvcHVwXzBmMmJkM2EzYWY2YjQxMDM5MmI2NjA0MjdkMzI5MzlmID0gTC5wb3B1cCh7bWF4V2lkdGg6ICczMDAnfSk7CgogICAgICAgICAgICAKICAgICAgICAgICAgICAgIHZhciBodG1sX2VhMDExMzMyMzcyOTQyNmI5ZmExMGIxYTc3OTFjZTE3ID0gJCgnPGRpdiBpZD0iaHRtbF9lYTAxMTMzMjM3Mjk0MjZiOWZhMTBiMWE3NzkxY2UxNyIgc3R5bGU9IndpZHRoOiAxMDAuMCU7IGhlaWdodDogMTAwLjAlOyI+VklMTEEgUklBQ0hVRUxPPC9kaXY+JylbMF07CiAgICAgICAgICAgICAgICBwb3B1cF8wZjJiZDNhM2FmNmI0MTAzOTJiNjYwNDI3ZDMyOTM5Zi5zZXRDb250ZW50KGh0bWxfZWEwMTEzMzIzNzI5NDI2YjlmYTEwYjFhNzc5MWNlMTcpOwogICAgICAgICAgICAKCiAgICAgICAgICAgIGNpcmNsZV9tYXJrZXJfMGE1MzgwNzlkODQwNDJhMWExM2UwN2RkZDk2MzAzN2UuYmluZFBvcHVwKHBvcHVwXzBmMmJkM2EzYWY2YjQxMDM5MmI2NjA0MjdkMzI5MzlmKTsKCiAgICAgICAgICAgIAogICAgICAgIAogICAgCiAgICAgICAgICAgIHZhciBjaXJjbGVfbWFya2VyXzIzZDQzYTE4NGFhZDRkNjdiZjExMGUyNTU3YzJkYTdiID0gTC5jaXJjbGVNYXJrZXIoCiAgICAgICAgICAgICAgICBbLTM0LjY1MTE2NSwtNTguNDQ5MTMyXSwKICAgICAgICAgICAgICAgIHsKICAiYnViYmxpbmdNb3VzZUV2ZW50cyI6IHRydWUsCiAgImNvbG9yIjogImJsdWUiLAogICJkYXNoQXJyYXkiOiBudWxsLAogICJkYXNoT2Zmc2V0IjogbnVsbCwKICAiZmlsbCI6IHRydWUsCiAgImZpbGxDb2xvciI6ICIjMzE4NmNjIiwKICAiZmlsbE9wYWNpdHkiOiAwLjcsCiAgImZpbGxSdWxlIjogImV2ZW5vZGQiLAogICJsaW5lQ2FwIjogInJvdW5kIiwKICAibGluZUpvaW4iOiAicm91bmQiLAogICJvcGFjaXR5IjogMS4wLAogICJyYWRpdXMiOiA1LAogICJzdHJva2UiOiB0cnVlLAogICJ3ZWlnaHQiOiAzCn0KICAgICAgICAgICAgICAgICkuYWRkVG8obWFwXzI4NDhlNWYxMWU5ZTQ0NWRiNjA4ZGQ1NzYxOGJkYTEwKTsKICAgICAgICAgICAgCiAgICAKICAgICAgICAgICAgdmFyIHBvcHVwXzNkYjdkNGNhMjUzYTQxZjA4MjFmODg1ZTkxYzdlMDBiID0gTC5wb3B1cCh7bWF4V2lkdGg6ICczMDAnfSk7CgogICAgICAgICAgICAKICAgICAgICAgICAgICAgIHZhciBodG1sXzAwMTk0ZjMzNTM1ODRhYTE4ODFiMjU1YWIyMTMxZjhkID0gJCgnPGRpdiBpZD0iaHRtbF8wMDE5NGYzMzUzNTg0YWExODgxYjI1NWFiMjEzMWY4ZCIgc3R5bGU9IndpZHRoOiAxMDAuMCU7IGhlaWdodDogMTAwLjAlOyI+VklMTEEgU09MREFUSTwvZGl2PicpWzBdOwogICAgICAgICAgICAgICAgcG9wdXBfM2RiN2Q0Y2EyNTNhNDFmMDgyMWY4ODVlOTFjN2UwMGIuc2V0Q29udGVudChodG1sXzAwMTk0ZjMzNTM1ODRhYTE4ODFiMjU1YWIyMTMxZjhkKTsKICAgICAgICAgICAgCgogICAgICAgICAgICBjaXJjbGVfbWFya2VyXzIzZDQzYTE4NGFhZDRkNjdiZjExMGUyNTU3YzJkYTdiLmJpbmRQb3B1cChwb3B1cF8zZGI3ZDRjYTI1M2E0MWYwODIxZjg4NWU5MWM3ZTAwYik7CgogICAgICAgICAgICAKICAgICAgICAKICAgIAogICAgICAgICAgICB2YXIgY2lyY2xlX21hcmtlcl8xMDRkYjBlNzgzMzY0M2VhOTc4YTZhYzVjODBiNjI0YiA9IEwuY2lyY2xlTWFya2VyKAogICAgICAgICAgICAgICAgWy0zNC41OTM4NTYsLTU4LjUwMzMxMV0sCiAgICAgICAgICAgICAgICB7CiAgImJ1YmJsaW5nTW91c2VFdmVudHMiOiB0cnVlLAogICJjb2xvciI6ICJibHVlIiwKICAiZGFzaEFycmF5IjogbnVsbCwKICAiZGFzaE9mZnNldCI6IG51bGwsCiAgImZpbGwiOiB0cnVlLAogICJmaWxsQ29sb3IiOiAiIzMxODZjYyIsCiAgImZpbGxPcGFjaXR5IjogMC43LAogICJmaWxsUnVsZSI6ICJldmVub2RkIiwKICAibGluZUNhcCI6ICJyb3VuZCIsCiAgImxpbmVKb2luIjogInJvdW5kIiwKICAib3BhY2l0eSI6IDEuMCwKICAicmFkaXVzIjogNSwKICAic3Ryb2tlIjogdHJ1ZSwKICAid2VpZ2h0IjogMwp9CiAgICAgICAgICAgICAgICApLmFkZFRvKG1hcF8yODQ4ZTVmMTFlOWU0NDVkYjYwOGRkNTc2MThiZGExMCk7CiAgICAgICAgICAgIAogICAgCiAgICAgICAgICAgIHZhciBwb3B1cF9hMDhmMjY0NDg5ZDI0MzlkYjc5NTdlMGJlNzI1NjM0NyA9IEwucG9wdXAoe21heFdpZHRoOiAnMzAwJ30pOwoKICAgICAgICAgICAgCiAgICAgICAgICAgICAgICB2YXIgaHRtbF8wZGQxNWRjODliNTU0MjFmOWUwZDg3NDQ1MzQxMzUzNSA9ICQoJzxkaXYgaWQ9Imh0bWxfMGRkMTVkYzg5YjU1NDIxZjllMGQ4NzQ0NTM0MTM1MzUiIHN0eWxlPSJ3aWR0aDogMTAwLjAlOyBoZWlnaHQ6IDEwMC4wJTsiPlZJTExBIFBVRVlSUkVET048L2Rpdj4nKVswXTsKICAgICAgICAgICAgICAgIHBvcHVwX2EwOGYyNjQ0ODlkMjQzOWRiNzk1N2UwYmU3MjU2MzQ3LnNldENvbnRlbnQoaHRtbF8wZGQxNWRjODliNTU0MjFmOWUwZDg3NDQ1MzQxMzUzNSk7CiAgICAgICAgICAgIAoKICAgICAgICAgICAgY2lyY2xlX21hcmtlcl8xMDRkYjBlNzgzMzY0M2VhOTc4YTZhYzVjODBiNjI0Yi5iaW5kUG9wdXAocG9wdXBfYTA4ZjI2NDQ4OWQyNDM5ZGI3OTU3ZTBiZTcyNTYzNDcpOwoKICAgICAgICAgICAgCiAgICAgICAgCiAgICAKICAgICAgICAgICAgdmFyIGNpcmNsZV9tYXJrZXJfMzAyMDczMDk4NTE1NDJkNzgyMTBmMjJiMzZlNWJlMzIgPSBMLmNpcmNsZU1hcmtlcigKICAgICAgICAgICAgICAgIFstMzQuNjEzOTE5LC01OC41MDgzMDhdLAogICAgICAgICAgICAgICAgewogICJidWJibGluZ01vdXNlRXZlbnRzIjogdHJ1ZSwKICAiY29sb3IiOiAiYmx1ZSIsCiAgImRhc2hBcnJheSI6IG51bGwsCiAgImRhc2hPZmZzZXQiOiBudWxsLAogICJmaWxsIjogdHJ1ZSwKICAiZmlsbENvbG9yIjogIiMzMTg2Y2MiLAogICJmaWxsT3BhY2l0eSI6IDAuNywKICAiZmlsbFJ1bGUiOiAiZXZlbm9kZCIsCiAgImxpbmVDYXAiOiAicm91bmQiLAogICJsaW5lSm9pbiI6ICJyb3VuZCIsCiAgIm9wYWNpdHkiOiAxLjAsCiAgInJhZGl1cyI6IDUsCiAgInN0cm9rZSI6IHRydWUsCiAgIndlaWdodCI6IDMKfQogICAgICAgICAgICAgICAgKS5hZGRUbyhtYXBfMjg0OGU1ZjExZTllNDQ1ZGI2MDhkZDU3NjE4YmRhMTApOwogICAgICAgICAgICAKICAgIAogICAgICAgICAgICB2YXIgcG9wdXBfNGM3OTE5N2Y2Y2NjNGFhZTgxZDNmNDJjZjkxZjNlNTUgPSBMLnBvcHVwKHttYXhXaWR0aDogJzMwMCd9KTsKCiAgICAgICAgICAgIAogICAgICAgICAgICAgICAgdmFyIGh0bWxfNTlhN2UyY2M3YjAzNDkyMzk4Njg2ZGE5NTUwMWVkMTUgPSAkKCc8ZGl2IGlkPSJodG1sXzU5YTdlMmNjN2IwMzQ5MjM5ODY4NmRhOTU1MDFlZDE1IiBzdHlsZT0id2lkdGg6IDEwMC4wJTsgaGVpZ2h0OiAxMDAuMCU7Ij5WSUxMQSBERVZPVE88L2Rpdj4nKVswXTsKICAgICAgICAgICAgICAgIHBvcHVwXzRjNzkxOTdmNmNjYzRhYWU4MWQzZjQyY2Y5MWYzZTU1LnNldENvbnRlbnQoaHRtbF81OWE3ZTJjYzdiMDM0OTIzOTg2ODZkYTk1NTAxZWQxNSk7CiAgICAgICAgICAgIAoKICAgICAgICAgICAgY2lyY2xlX21hcmtlcl8zMDIwNzMwOTg1MTU0MmQ3ODIxMGYyMmIzNmU1YmUzMi5iaW5kUG9wdXAocG9wdXBfNGM3OTE5N2Y2Y2NjNGFhZTgxZDNmNDJjZjkxZjNlNTUpOwoKICAgICAgICAgICAgCiAgICAgICAgCiAgICAKICAgICAgICAgICAgdmFyIGNpcmNsZV9tYXJrZXJfYzQwYjkzOWZhMDg1NGQzMzlhNTg2Y2JiNDRiZTRmNjYgPSBMLmNpcmNsZU1hcmtlcigKICAgICAgICAgICAgICAgIFstMzQuNjMzMDEsLTU4LjUxOTI1NF0sCiAgICAgICAgICAgICAgICB7CiAgImJ1YmJsaW5nTW91c2VFdmVudHMiOiB0cnVlLAogICJjb2xvciI6ICJibHVlIiwKICAiZGFzaEFycmF5IjogbnVsbCwKICAiZGFzaE9mZnNldCI6IG51bGwsCiAgImZpbGwiOiB0cnVlLAogICJmaWxsQ29sb3IiOiAiIzMxODZjYyIsCiAgImZpbGxPcGFjaXR5IjogMC43LAogICJmaWxsUnVsZSI6ICJldmVub2RkIiwKICAibGluZUNhcCI6ICJyb3VuZCIsCiAgImxpbmVKb2luIjogInJvdW5kIiwKICAib3BhY2l0eSI6IDEuMCwKICAicmFkaXVzIjogNSwKICAic3Ryb2tlIjogdHJ1ZSwKICAid2VpZ2h0IjogMwp9CiAgICAgICAgICAgICAgICApLmFkZFRvKG1hcF8yODQ4ZTVmMTFlOWU0NDVkYjYwOGRkNTc2MThiZGExMCk7CiAgICAgICAgICAgIAogICAgCiAgICAgICAgICAgIHZhciBwb3B1cF84Njk2YjY3M2U5OTg0MjcxOGI1MWIwZDc2NjJmNmY3NiA9IEwucG9wdXAoe21heFdpZHRoOiAnMzAwJ30pOwoKICAgICAgICAgICAgCiAgICAgICAgICAgICAgICB2YXIgaHRtbF82ZWIzMDJlNzYzOWE0ZDliODU0MmFmMjU3YzQ2MWI0NCA9ICQoJzxkaXYgaWQ9Imh0bWxfNmViMzAyZTc2MzlhNGQ5Yjg1NDJhZjI1N2M0NjFiNDQiIHN0eWxlPSJ3aWR0aDogMTAwLjAlOyBoZWlnaHQ6IDEwMC4wJTsiPkxJTklFUlM8L2Rpdj4nKVswXTsKICAgICAgICAgICAgICAgIHBvcHVwXzg2OTZiNjczZTk5ODQyNzE4YjUxYjBkNzY2MmY2Zjc2LnNldENvbnRlbnQoaHRtbF82ZWIzMDJlNzYzOWE0ZDliODU0MmFmMjU3YzQ2MWI0NCk7CiAgICAgICAgICAgIAoKICAgICAgICAgICAgY2lyY2xlX21hcmtlcl9jNDBiOTM5ZmEwODU0ZDMzOWE1ODZjYmI0NGJlNGY2Ni5iaW5kUG9wdXAocG9wdXBfODY5NmI2NzNlOTk4NDI3MThiNTFiMGQ3NjYyZjZmNzYpOwoKICAgICAgICAgICAgCiAgICAgICAgCiAgICAKICAgICAgICAgICAgdmFyIGNpcmNsZV9tYXJrZXJfMWVkNGY4OGU1NzdjNGU2M2IyOGM2YzBiOWMxMGRhMzkgPSBMLmNpcmNsZU1hcmtlcigKICAgICAgICAgICAgICAgIFstMzQuNjMyNTYsLTU4LjUxMTA0Ml0sCiAgICAgICAgICAgICAgICB7CiAgImJ1YmJsaW5nTW91c2VFdmVudHMiOiB0cnVlLAogICJjb2xvciI6ICJibHVlIiwKICAiZGFzaEFycmF5IjogbnVsbCwKICAiZGFzaE9mZnNldCI6IG51bGwsCiAgImZpbGwiOiB0cnVlLAogICJmaWxsQ29sb3IiOiAiIzMxODZjYyIsCiAgImZpbGxPcGFjaXR5IjogMC43LAogICJmaWxsUnVsZSI6ICJldmVub2RkIiwKICAibGluZUNhcCI6ICJyb3VuZCIsCiAgImxpbmVKb2luIjogInJvdW5kIiwKICAib3BhY2l0eSI6IDEuMCwKICAicmFkaXVzIjogNSwKICAic3Ryb2tlIjogdHJ1ZSwKICAid2VpZ2h0IjogMwp9CiAgICAgICAgICAgICAgICApLmFkZFRvKG1hcF8yODQ4ZTVmMTFlOWU0NDVkYjYwOGRkNTc2MThiZGExMCk7CiAgICAgICAgICAgIAogICAgCiAgICAgICAgICAgIHZhciBwb3B1cF8wMWFiY2UyZDFlOTg0ZWRiODBlNmNmMjM5ZDZmMTE0NiA9IEwucG9wdXAoe21heFdpZHRoOiAnMzAwJ30pOwoKICAgICAgICAgICAgCiAgICAgICAgICAgICAgICB2YXIgaHRtbF9iYzNjZDIyZWM2YWI0NWExYjE3NDg3ODJhYmRlN2EwMiA9ICQoJzxkaXYgaWQ9Imh0bWxfYmMzY2QyMmVjNmFiNDVhMWIxNzQ4NzgyYWJkZTdhMDIiIHN0eWxlPSJ3aWR0aDogMTAwLjAlOyBoZWlnaHQ6IDEwMC4wJTsiPlZFUlNBTExFUzwvZGl2PicpWzBdOwogICAgICAgICAgICAgICAgcG9wdXBfMDFhYmNlMmQxZTk4NGVkYjgwZTZjZjIzOWQ2ZjExNDYuc2V0Q29udGVudChodG1sX2JjM2NkMjJlYzZhYjQ1YTFiMTc0ODc4MmFiZGU3YTAyKTsKICAgICAgICAgICAgCgogICAgICAgICAgICBjaXJjbGVfbWFya2VyXzFlZDRmODhlNTc3YzRlNjNiMjhjNmMwYjljMTBkYTM5LmJpbmRQb3B1cChwb3B1cF8wMWFiY2UyZDFlOTg0ZWRiODBlNmNmMjM5ZDZmMTE0Nik7CgogICAgICAgICAgICAKICAgICAgICAKICAgIAogICAgICAgICAgICB2YXIgY2lyY2xlX21hcmtlcl8yMWNlNDE1NTdjZDg0MGUzOGI1OGUxYzA3NmQwMzE0ZiA9IEwuY2lyY2xlTWFya2VyKAogICAgICAgICAgICAgICAgWy0zNC41OTgxNjcsLTU4LjM1MTk1N10sCiAgICAgICAgICAgICAgICB7CiAgImJ1YmJsaW5nTW91c2VFdmVudHMiOiB0cnVlLAogICJjb2xvciI6ICJibHVlIiwKICAiZGFzaEFycmF5IjogbnVsbCwKICAiZGFzaE9mZnNldCI6IG51bGwsCiAgImZpbGwiOiB0cnVlLAogICJmaWxsQ29sb3IiOiAiIzMxODZjYyIsCiAgImZpbGxPcGFjaXR5IjogMC43LAogICJmaWxsUnVsZSI6ICJldmVub2RkIiwKICAibGluZUNhcCI6ICJyb3VuZCIsCiAgImxpbmVKb2luIjogInJvdW5kIiwKICAib3BhY2l0eSI6IDEuMCwKICAicmFkaXVzIjogNSwKICAic3Ryb2tlIjogdHJ1ZSwKICAid2VpZ2h0IjogMwp9CiAgICAgICAgICAgICAgICApLmFkZFRvKG1hcF8yODQ4ZTVmMTFlOWU0NDVkYjYwOGRkNTc2MThiZGExMCk7CiAgICAgICAgICAgIAogICAgCiAgICAgICAgICAgIHZhciBwb3B1cF84YmUwMDU4ZjcyOTM0N2Q0OWVlMWYwZWMyZDc4YTk2MSA9IEwucG9wdXAoe21heFdpZHRoOiAnMzAwJ30pOwoKICAgICAgICAgICAgCiAgICAgICAgICAgICAgICB2YXIgaHRtbF8zYjg0MTUwNGQxMzk0ZjUwYmRkZWQzODc1ODk2OTIxMyA9ICQoJzxkaXYgaWQ9Imh0bWxfM2I4NDE1MDRkMTM5NGY1MGJkZGVkMzg3NTg5NjkyMTMiIHN0eWxlPSJ3aWR0aDogMTAwLjAlOyBoZWlnaHQ6IDEwMC4wJTsiPlBVRVJUTyBNQURFUk88L2Rpdj4nKVswXTsKICAgICAgICAgICAgICAgIHBvcHVwXzhiZTAwNThmNzI5MzQ3ZDQ5ZWUxZjBlYzJkNzhhOTYxLnNldENvbnRlbnQoaHRtbF8zYjg0MTUwNGQxMzk0ZjUwYmRkZWQzODc1ODk2OTIxMyk7CiAgICAgICAgICAgIAoKICAgICAgICAgICAgY2lyY2xlX21hcmtlcl8yMWNlNDE1NTdjZDg0MGUzOGI1OGUxYzA3NmQwMzE0Zi5iaW5kUG9wdXAocG9wdXBfOGJlMDA1OGY3MjkzNDdkNDllZTFmMGVjMmQ3OGE5NjEpOwoKICAgICAgICAgICAgCiAgICAgICAgCiAgICAKICAgICAgICAgICAgdmFyIGNpcmNsZV9tYXJrZXJfYzZmYjgyZjdkYTVmNDEzNGFkNDliZjk4MGEyN2M5Y2YgPSBMLmNpcmNsZU1hcmtlcigKICAgICAgICAgICAgICAgIFstMzQuNjA2ODI2LC01OC4zNjg3OTldLAogICAgICAgICAgICAgICAgewogICJidWJibGluZ01vdXNlRXZlbnRzIjogdHJ1ZSwKICAiY29sb3IiOiAiYmx1ZSIsCiAgImRhc2hBcnJheSI6IG51bGwsCiAgImRhc2hPZmZzZXQiOiBudWxsLAogICJmaWxsIjogdHJ1ZSwKICAiZmlsbENvbG9yIjogIiMzMTg2Y2MiLAogICJmaWxsT3BhY2l0eSI6IDAuNywKICAiZmlsbFJ1bGUiOiAiZXZlbm9kZCIsCiAgImxpbmVDYXAiOiAicm91bmQiLAogICJsaW5lSm9pbiI6ICJyb3VuZCIsCiAgIm9wYWNpdHkiOiAxLjAsCiAgInJhZGl1cyI6IDUsCiAgInN0cm9rZSI6IHRydWUsCiAgIndlaWdodCI6IDMKfQogICAgICAgICAgICAgICAgKS5hZGRUbyhtYXBfMjg0OGU1ZjExZTllNDQ1ZGI2MDhkZDU3NjE4YmRhMTApOwogICAgICAgICAgICAKICAgIAogICAgICAgICAgICB2YXIgcG9wdXBfMzNkOTVmYzcyYjAxNDYyYWFlYTFjYmNmZjc4YTAxYjUgPSBMLnBvcHVwKHttYXhXaWR0aDogJzMwMCd9KTsKCiAgICAgICAgICAgIAogICAgICAgICAgICAgICAgdmFyIGh0bWxfMDQwNGM4ZGFhMTJlNDc4Yzg4YWFhNTNkMWUwMGQ5ZTUgPSAkKCc8ZGl2IGlkPSJodG1sXzA0MDRjOGRhYTEyZTQ3OGM4OGFhYTUzZDFlMDBkOWU1IiBzdHlsZT0id2lkdGg6IDEwMC4wJTsgaGVpZ2h0OiAxMDAuMCU7Ij5NT05TRVJSQVQ8L2Rpdj4nKVswXTsKICAgICAgICAgICAgICAgIHBvcHVwXzMzZDk1ZmM3MmIwMTQ2MmFhZWExY2JjZmY3OGEwMWI1LnNldENvbnRlbnQoaHRtbF8wNDA0YzhkYWExMmU0NzhjODhhYWE1M2QxZTAwZDllNSk7CiAgICAgICAgICAgIAoKICAgICAgICAgICAgY2lyY2xlX21hcmtlcl9jNmZiODJmN2RhNWY0MTM0YWQ0OWJmOTgwYTI3YzljZi5iaW5kUG9wdXAocG9wdXBfMzNkOTVmYzcyYjAxNDYyYWFlYTFjYmNmZjc4YTAxYjUpOwoKICAgICAgICAgICAgCiAgICAgICAgCiAgICAKICAgICAgICAgICAgdmFyIGNpcmNsZV9tYXJrZXJfZmRiNGMzZWI3N2E2NGIxODgyNmMwYmE1MzcwNjA1OGMgPSBMLmNpcmNsZU1hcmtlcigKICAgICAgICAgICAgICAgIFstMzQuNjA1MTc0LC01OC4zNjc5MjFdLAogICAgICAgICAgICAgICAgewogICJidWJibGluZ01vdXNlRXZlbnRzIjogdHJ1ZSwKICAiY29sb3IiOiAiYmx1ZSIsCiAgImRhc2hBcnJheSI6IG51bGwsCiAgImRhc2hPZmZzZXQiOiBudWxsLAogICJmaWxsIjogdHJ1ZSwKICAiZmlsbENvbG9yIjogIiMzMTg2Y2MiLAogICJmaWxsT3BhY2l0eSI6IDAuNywKICAiZmlsbFJ1bGUiOiAiZXZlbm9kZCIsCiAgImxpbmVDYXAiOiAicm91bmQiLAogICJsaW5lSm9pbiI6ICJyb3VuZCIsCiAgIm9wYWNpdHkiOiAxLjAsCiAgInJhZGl1cyI6IDUsCiAgInN0cm9rZSI6IHRydWUsCiAgIndlaWdodCI6IDMKfQogICAgICAgICAgICAgICAgKS5hZGRUbyhtYXBfMjg0OGU1ZjExZTllNDQ1ZGI2MDhkZDU3NjE4YmRhMTApOwogICAgICAgICAgICAKICAgIAogICAgICAgICAgICB2YXIgcG9wdXBfYzBiNzMwMGRkN2MwNGM3OGEzMjc0YTdlMTg2YzU4YzUgPSBMLnBvcHVwKHttYXhXaWR0aDogJzMwMCd9KTsKCiAgICAgICAgICAgIAogICAgICAgICAgICAgICAgdmFyIGh0bWxfNDIxNzcwOGZkZGNiNDk0NDlhYjY5N2Q0OGIwYjVjMjAgPSAkKCc8ZGl2IGlkPSJodG1sXzQyMTc3MDhmZGRjYjQ5NDQ5YWI2OTdkNDhiMGI1YzIwIiBzdHlsZT0id2lkdGg6IDEwMC4wJTsgaGVpZ2h0OiAxMDAuMCU7Ij5TQU4gTklDT0xBUzwvZGl2PicpWzBdOwogICAgICAgICAgICAgICAgcG9wdXBfYzBiNzMwMGRkN2MwNGM3OGEzMjc0YTdlMTg2YzU4YzUuc2V0Q29udGVudChodG1sXzQyMTc3MDhmZGRjYjQ5NDQ5YWI2OTdkNDhiMGI1YzIwKTsKICAgICAgICAgICAgCgogICAgICAgICAgICBjaXJjbGVfbWFya2VyX2ZkYjRjM2ViNzdhNjRiMTg4MjZjMGJhNTM3MDYwNThjLmJpbmRQb3B1cChwb3B1cF9jMGI3MzAwZGQ3YzA0Yzc4YTMyNzRhN2UxODZjNThjNSk7CgogICAgICAgICAgICAKICAgICAgICAKICAgIAogICAgICAgICAgICB2YXIgY2lyY2xlX21hcmtlcl8xMDNhZGFhMjgzMzQ0N2ExODE3NzYxNDUwZDQ4NTUwOSA9IEwuY2lyY2xlTWFya2VyKAogICAgICAgICAgICAgICAgWy0zNC41MzU2MSwtNTguNDUwNTY2XSwKICAgICAgICAgICAgICAgIHsKICAiYnViYmxpbmdNb3VzZUV2ZW50cyI6IHRydWUsCiAgImNvbG9yIjogImJsdWUiLAogICJkYXNoQXJyYXkiOiBudWxsLAogICJkYXNoT2Zmc2V0IjogbnVsbCwKICAiZmlsbCI6IHRydWUsCiAgImZpbGxDb2xvciI6ICIjMzE4NmNjIiwKICAiZmlsbE9wYWNpdHkiOiAwLjcsCiAgImZpbGxSdWxlIjogImV2ZW5vZGQiLAogICJsaW5lQ2FwIjogInJvdW5kIiwKICAibGluZUpvaW4iOiAicm91bmQiLAogICJvcGFjaXR5IjogMS4wLAogICJyYWRpdXMiOiA1LAogICJzdHJva2UiOiB0cnVlLAogICJ3ZWlnaHQiOiAzCn0KICAgICAgICAgICAgICAgICkuYWRkVG8obWFwXzI4NDhlNWYxMWU5ZTQ0NWRiNjA4ZGQ1NzYxOGJkYTEwKTsKICAgICAgICAgICAgCiAgICAKICAgICAgICAgICAgdmFyIHBvcHVwXzU3YTcwYmJmNzliYzRmMmY4ZjdkNWFmMDM3ZjFjOWRjID0gTC5wb3B1cCh7bWF4V2lkdGg6ICczMDAnfSk7CgogICAgICAgICAgICAKICAgICAgICAgICAgICAgIHZhciBodG1sXzEzYmJmMTdiYWJkNDRhM2NiMTNjZGQ5ZjA3ZDc2NTdkID0gJCgnPGRpdiBpZD0iaHRtbF8xM2JiZjE3YmFiZDQ0YTNjYjEzY2RkOWYwN2Q3NjU3ZCIgc3R5bGU9IndpZHRoOiAxMDAuMCU7IGhlaWdodDogMTAwLjAlOyI+QkVMR1JBTk88L2Rpdj4nKVswXTsKICAgICAgICAgICAgICAgIHBvcHVwXzU3YTcwYmJmNzliYzRmMmY4ZjdkNWFmMDM3ZjFjOWRjLnNldENvbnRlbnQoaHRtbF8xM2JiZjE3YmFiZDQ0YTNjYjEzY2RkOWYwN2Q3NjU3ZCk7CiAgICAgICAgICAgIAoKICAgICAgICAgICAgY2lyY2xlX21hcmtlcl8xMDNhZGFhMjgzMzQ0N2ExODE3NzYxNDUwZDQ4NTUwOS5iaW5kUG9wdXAocG9wdXBfNTdhNzBiYmY3OWJjNGYyZjhmN2Q1YWYwMzdmMWM5ZGMpOwoKICAgICAgICAgICAgCiAgICAgICAgCiAgICAKICAgICAgICAgICAgdmFyIGNpcmNsZV9tYXJrZXJfZmVjMDRjYTY1YWQ1NDc3ODhjNzJhMWI3NWU2Y2FjNDUgPSBMLmNpcmNsZU1hcmtlcigKICAgICAgICAgICAgICAgIFstMzQuNTcwMDIzLC01OC4zODAwMDNdLAogICAgICAgICAgICAgICAgewogICJidWJibGluZ01vdXNlRXZlbnRzIjogdHJ1ZSwKICAiY29sb3IiOiAiYmx1ZSIsCiAgImRhc2hBcnJheSI6IG51bGwsCiAgImRhc2hPZmZzZXQiOiBudWxsLAogICJmaWxsIjogdHJ1ZSwKICAiZmlsbENvbG9yIjogIiMzMTg2Y2MiLAogICJmaWxsT3BhY2l0eSI6IDAuNywKICAiZmlsbFJ1bGUiOiAiZXZlbm9kZCIsCiAgImxpbmVDYXAiOiAicm91bmQiLAogICJsaW5lSm9pbiI6ICJyb3VuZCIsCiAgIm9wYWNpdHkiOiAxLjAsCiAgInJhZGl1cyI6IDUsCiAgInN0cm9rZSI6IHRydWUsCiAgIndlaWdodCI6IDMKfQogICAgICAgICAgICAgICAgKS5hZGRUbyhtYXBfMjg0OGU1ZjExZTllNDQ1ZGI2MDhkZDU3NjE4YmRhMTApOwogICAgICAgICAgICAKICAgIAogICAgICAgICAgICB2YXIgcG9wdXBfOTMxNWY2MzFmZjcwNDg2YjkyMzYyY2JhZjFiMWU3MDkgPSBMLnBvcHVwKHttYXhXaWR0aDogJzMwMCd9KTsKCiAgICAgICAgICAgIAogICAgICAgICAgICAgICAgdmFyIGh0bWxfNGI2NmE0ZDIwZDc0NDkxZTk4ODhlMTM5ZDNhYWZkNzkgPSAkKCc8ZGl2IGlkPSJodG1sXzRiNjZhNGQyMGQ3NDQ5MWU5ODg4ZTEzOWQzYWFmZDc5IiBzdHlsZT0id2lkdGg6IDEwMC4wJTsgaGVpZ2h0OiAxMDAuMCU7Ij5SRUNPTEVUQTwvZGl2PicpWzBdOwogICAgICAgICAgICAgICAgcG9wdXBfOTMxNWY2MzFmZjcwNDg2YjkyMzYyY2JhZjFiMWU3MDkuc2V0Q29udGVudChodG1sXzRiNjZhNGQyMGQ3NDQ5MWU5ODg4ZTEzOWQzYWFmZDc5KTsKICAgICAgICAgICAgCgogICAgICAgICAgICBjaXJjbGVfbWFya2VyX2ZlYzA0Y2E2NWFkNTQ3Nzg4YzcyYTFiNzVlNmNhYzQ1LmJpbmRQb3B1cChwb3B1cF85MzE1ZjYzMWZmNzA0ODZiOTIzNjJjYmFmMWIxZTcwOSk7CgogICAgICAgICAgICAKICAgICAgICAKICAgIAogICAgICAgICAgICB2YXIgY2lyY2xlX21hcmtlcl9mZmUzYTUzNTMxYjY0N2IwYWRjYjU2ODA4ZGZmOGNhMiA9IEwuY2lyY2xlTWFya2VyKAogICAgICAgICAgICAgICAgWy0zNC41Nzg3MDQsLTU4LjM3NDI3Ml0sCiAgICAgICAgICAgICAgICB7CiAgImJ1YmJsaW5nTW91c2VFdmVudHMiOiB0cnVlLAogICJjb2xvciI6ICJibHVlIiwKICAiZGFzaEFycmF5IjogbnVsbCwKICAiZGFzaE9mZnNldCI6IG51bGwsCiAgImZpbGwiOiB0cnVlLAogICJmaWxsQ29sb3IiOiAiIzMxODZjYyIsCiAgImZpbGxPcGFjaXR5IjogMC43LAogICJmaWxsUnVsZSI6ICJldmVub2RkIiwKICAibGluZUNhcCI6ICJyb3VuZCIsCiAgImxpbmVKb2luIjogInJvdW5kIiwKICAib3BhY2l0eSI6IDEuMCwKICAicmFkaXVzIjogNSwKICAic3Ryb2tlIjogdHJ1ZSwKICAid2VpZ2h0IjogMwp9CiAgICAgICAgICAgICAgICApLmFkZFRvKG1hcF8yODQ4ZTVmMTFlOWU0NDVkYjYwOGRkNTc2MThiZGExMCk7CiAgICAgICAgICAgIAogICAgCiAgICAgICAgICAgIHZhciBwb3B1cF84ZjljMGIzMjU3YzQ0MWJlYjcxNGM2Njg0NzY0MzYwNCA9IEwucG9wdXAoe21heFdpZHRoOiAnMzAwJ30pOwoKICAgICAgICAgICAgCiAgICAgICAgICAgICAgICB2YXIgaHRtbF9jMDdkYzQzYWUyZGY0YmIzYTE0MDQ3NDk2ZjMwN2I4MyA9ICQoJzxkaXYgaWQ9Imh0bWxfYzA3ZGM0M2FlMmRmNGJiM2ExNDA0NzQ5NmYzMDdiODMiIHN0eWxlPSJ3aWR0aDogMTAwLjAlOyBoZWlnaHQ6IDEwMC4wJTsiPlJFVElSTzwvZGl2PicpWzBdOwogICAgICAgICAgICAgICAgcG9wdXBfOGY5YzBiMzI1N2M0NDFiZWI3MTRjNjY4NDc2NDM2MDQuc2V0Q29udGVudChodG1sX2MwN2RjNDNhZTJkZjRiYjNhMTQwNDc0OTZmMzA3YjgzKTsKICAgICAgICAgICAgCgogICAgICAgICAgICBjaXJjbGVfbWFya2VyX2ZmZTNhNTM1MzFiNjQ3YjBhZGNiNTY4MDhkZmY4Y2EyLmJpbmRQb3B1cChwb3B1cF84ZjljMGIzMjU3YzQ0MWJlYjcxNGM2Njg0NzY0MzYwNCk7CgogICAgICAgICAgICAKICAgICAgICAKICAgIAogICAgICAgICAgICB2YXIgY2lyY2xlX21hcmtlcl8zZmY2ZDQ2MWE5Y2U0ZDBjOThmN2Q4NzMxN2M5ZmJhZCA9IEwuY2lyY2xlTWFya2VyKAogICAgICAgICAgICAgICAgWy0zNC41MzcyMSwtNTguNDU4NzE1XSwKICAgICAgICAgICAgICAgIHsKICAiYnViYmxpbmdNb3VzZUV2ZW50cyI6IHRydWUsCiAgImNvbG9yIjogImJsdWUiLAogICJkYXNoQXJyYXkiOiBudWxsLAogICJkYXNoT2Zmc2V0IjogbnVsbCwKICAiZmlsbCI6IHRydWUsCiAgImZpbGxDb2xvciI6ICIjMzE4NmNjIiwKICAiZmlsbE9wYWNpdHkiOiAwLjcsCiAgImZpbGxSdWxlIjogImV2ZW5vZGQiLAogICJsaW5lQ2FwIjogInJvdW5kIiwKICAibGluZUpvaW4iOiAicm91bmQiLAogICJvcGFjaXR5IjogMS4wLAogICJyYWRpdXMiOiA1LAogICJzdHJva2UiOiB0cnVlLAogICJ3ZWlnaHQiOiAzCn0KICAgICAgICAgICAgICAgICkuYWRkVG8obWFwXzI4NDhlNWYxMWU5ZTQ0NWRiNjA4ZGQ1NzYxOGJkYTEwKTsKICAgICAgICAgICAgCiAgICAKICAgICAgICAgICAgdmFyIHBvcHVwX2MxMDA0YmQwYmY3OTQ1OWU4ZWE5NmU5MTMxZDhlOWNiID0gTC5wb3B1cCh7bWF4V2lkdGg6ICczMDAnfSk7CgogICAgICAgICAgICAKICAgICAgICAgICAgICAgIHZhciBodG1sXzJkNTkzZjQ0NjdjYzRmZGI5MTAzNGQ1MjE3MTZkMmYwID0gJCgnPGRpdiBpZD0iaHRtbF8yZDU5M2Y0NDY3Y2M0ZmRiOTEwMzRkNTIxNzE2ZDJmMCIgc3R5bGU9IndpZHRoOiAxMDAuMCU7IGhlaWdodDogMTAwLjAlOyI+TlXDkUVaPC9kaXY+JylbMF07CiAgICAgICAgICAgICAgICBwb3B1cF9jMTAwNGJkMGJmNzk0NTllOGVhOTZlOTEzMWQ4ZTljYi5zZXRDb250ZW50KGh0bWxfMmQ1OTNmNDQ2N2NjNGZkYjkxMDM0ZDUyMTcxNmQyZjApOwogICAgICAgICAgICAKCiAgICAgICAgICAgIGNpcmNsZV9tYXJrZXJfM2ZmNmQ0NjFhOWNlNGQwYzk4ZjdkODczMTdjOWZiYWQuYmluZFBvcHVwKHBvcHVwX2MxMDA0YmQwYmY3OTQ1OWU4ZWE5NmU5MTMxZDhlOWNiKTsKCiAgICAgICAgICAgIAogICAgICAgIAogICAgCiAgICAgICAgICAgIHZhciBjaXJjbGVfbWFya2VyXzU5ZDEwOTE0ZGQ0NTQxMDE4YzY0YzhjNGQ0ZjcxMDIzID0gTC5jaXJjbGVNYXJrZXIoCiAgICAgICAgICAgICAgICBbLTM0LjYyOTc3MywtNTguMzU0Mjg4XSwKICAgICAgICAgICAgICAgIHsKICAiYnViYmxpbmdNb3VzZUV2ZW50cyI6IHRydWUsCiAgImNvbG9yIjogImJsdWUiLAogICJkYXNoQXJyYXkiOiBudWxsLAogICJkYXNoT2Zmc2V0IjogbnVsbCwKICAiZmlsbCI6IHRydWUsCiAgImZpbGxDb2xvciI6ICIjMzE4NmNjIiwKICAiZmlsbE9wYWNpdHkiOiAwLjcsCiAgImZpbGxSdWxlIjogImV2ZW5vZGQiLAogICJsaW5lQ2FwIjogInJvdW5kIiwKICAibGluZUpvaW4iOiAicm91bmQiLAogICJvcGFjaXR5IjogMS4wLAogICJyYWRpdXMiOiA1LAogICJzdHJva2UiOiB0cnVlLAogICJ3ZWlnaHQiOiAzCn0KICAgICAgICAgICAgICAgICkuYWRkVG8obWFwXzI4NDhlNWYxMWU5ZTQ0NWRiNjA4ZGQ1NzYxOGJkYTEwKTsKICAgICAgICAgICAgCiAgICAKICAgICAgICAgICAgdmFyIHBvcHVwX2FiNDVhNDE3ZjdlZjQ0N2M4YzgwODRkMWNhYzNiMGM3ID0gTC5wb3B1cCh7bWF4V2lkdGg6ICczMDAnfSk7CgogICAgICAgICAgICAKICAgICAgICAgICAgICAgIHZhciBodG1sXzBhY2MyYmZlNjRhYTRkY2RhZjM5MmQ1NTg3YjI2NGFiID0gJCgnPGRpdiBpZD0iaHRtbF8wYWNjMmJmZTY0YWE0ZGNkYWYzOTJkNTU4N2IyNjRhYiIgc3R5bGU9IndpZHRoOiAxMDAuMCU7IGhlaWdodDogMTAwLjAlOyI+Qk9DQTwvZGl2PicpWzBdOwogICAgICAgICAgICAgICAgcG9wdXBfYWI0NWE0MTdmN2VmNDQ3YzhjODA4NGQxY2FjM2IwYzcuc2V0Q29udGVudChodG1sXzBhY2MyYmZlNjRhYTRkY2RhZjM5MmQ1NTg3YjI2NGFiKTsKICAgICAgICAgICAgCgogICAgICAgICAgICBjaXJjbGVfbWFya2VyXzU5ZDEwOTE0ZGQ0NTQxMDE4YzY0YzhjNGQ0ZjcxMDIzLmJpbmRQb3B1cChwb3B1cF9hYjQ1YTQxN2Y3ZWY0NDdjOGM4MDg0ZDFjYWMzYjBjNyk7CgogICAgICAgICAgICAKICAgICAgICAKPC9zY3JpcHQ+ onload=\"this.contentDocument.open();this.contentDocument.write(atob(this.getAttribute('data-html')));this.contentDocument.close();\" allowfullscreen webkitallowfullscreen mozallowfullscreen></iframe></div></div>"
      ],
      "text/plain": [
       "<folium.folium.Map at 0x7fe35b1e68d0>"
      ]
     },
     "execution_count": 132,
     "metadata": {},
     "output_type": "execute_result"
    }
   ],
   "source": [
    "map_bs = folium.Map(location=[-34.6131516, -58.3772316], zoom_start=10)\n",
    "\n",
    "for lat, lng, neighborhood in zip(neigh_bs['Latitude'], neigh_bs['Longitude'], neigh_bs['Neighborhood']):\n",
    "    label = '{}'.format(neighborhood)\n",
    "    label = folium.Popup(label, parse_html=True)\n",
    "    folium.CircleMarker(\n",
    "        [lat, lng],\n",
    "        radius=5,\n",
    "        popup=label,\n",
    "        color='blue',\n",
    "        fill=True,\n",
    "        fill_color='#3186cc',\n",
    "        fill_opacity=0.7,\n",
    "        parse_html=False).add_to(map_bs)  \n",
    "    \n",
    "map_bs"
   ]
  },
  {
   "cell_type": "markdown",
   "metadata": {},
   "source": [
    "## Get the number of venues for each neighborhood"
   ]
  },
  {
   "cell_type": "code",
   "execution_count": 136,
   "metadata": {},
   "outputs": [],
   "source": [
    "CLIENT_ID = 'E251QN2CRIXCPQUWZZJS3PNUPM2XSMWHTW4KPOQ0VF11E1WG' # your Foursquare ID\n",
    "CLIENT_SECRET = 'AFC1LVRBBMAKFXHUI0KKJJZXSZFHH1LRW4S0OUX1ICBVEHEX' # your Foursquare Secret\n",
    "VERSION = '20180605' # Foursquare API version"
   ]
  },
  {
   "cell_type": "markdown",
   "metadata": {},
   "source": [
    "Function the get the venues for each neighborhood"
   ]
  },
  {
   "cell_type": "code",
   "execution_count": 137,
   "metadata": {},
   "outputs": [],
   "source": [
    "LIMIT = 100 # limit of number of venues returned by Foursquare API\n",
    "\n",
    "radius = 500 # define radius\n",
    "\n",
    "def getNearbyVenues(names, latitudes, longitudes, radius=500):\n",
    "    \n",
    "    venues_list=[]\n",
    "    for name, lat, lng in zip(names, latitudes, longitudes):            \n",
    "        # create the API request URL\n",
    "        url = 'https://api.foursquare.com/v2/venues/explore?&client_id={}&client_secret={}&v={}&ll={},{}&radius={}&limit={}'.format(\n",
    "            CLIENT_ID, \n",
    "            CLIENT_SECRET, \n",
    "            VERSION, \n",
    "            lat, \n",
    "            lng, \n",
    "            radius, \n",
    "            LIMIT)\n",
    "            \n",
    "        # make the GET request\n",
    "        results = requests.get(url).json()[\"response\"]['groups'][0]['items']\n",
    "        \n",
    "        # return only relevant information for each nearby venue\n",
    "        venues_list.append([(\n",
    "            name, \n",
    "            lat, \n",
    "            lng, \n",
    "            v['venue']['name'], \n",
    "            v['venue']['location']['lat'], \n",
    "            v['venue']['location']['lng'],  \n",
    "            v['venue']['categories'][0]['name']) for v in results])\n",
    "\n",
    "    nearby_venues = pd.DataFrame([item for venue_list in venues_list for item in venue_list])\n",
    "    nearby_venues.columns = ['Neighborhood', \n",
    "                  'Neighborhood Latitude', \n",
    "                  'Neighborhood Longitude', \n",
    "                  'Venue', \n",
    "                  'Venue Latitude', \n",
    "                  'Venue Longitude', \n",
    "                  'Venue Category']\n",
    "    \n",
    "    return(nearby_venues)"
   ]
  },
  {
   "cell_type": "code",
   "execution_count": 138,
   "metadata": {},
   "outputs": [
    {
     "data": {
      "text/html": [
       "<div>\n",
       "<style scoped>\n",
       "    .dataframe tbody tr th:only-of-type {\n",
       "        vertical-align: middle;\n",
       "    }\n",
       "\n",
       "    .dataframe tbody tr th {\n",
       "        vertical-align: top;\n",
       "    }\n",
       "\n",
       "    .dataframe thead th {\n",
       "        text-align: right;\n",
       "    }\n",
       "</style>\n",
       "<table border=\"1\" class=\"dataframe\">\n",
       "  <thead>\n",
       "    <tr style=\"text-align: right;\">\n",
       "      <th></th>\n",
       "      <th>Neighborhood</th>\n",
       "      <th>Neighborhood Latitude</th>\n",
       "      <th>Neighborhood Longitude</th>\n",
       "      <th>Venue</th>\n",
       "      <th>Venue Latitude</th>\n",
       "      <th>Venue Longitude</th>\n",
       "      <th>Venue Category</th>\n",
       "    </tr>\n",
       "  </thead>\n",
       "  <tbody>\n",
       "    <tr>\n",
       "      <th>0</th>\n",
       "      <td>CHACARITA</td>\n",
       "      <td>-34.595988</td>\n",
       "      <td>-58.45282</td>\n",
       "      <td>Yeite</td>\n",
       "      <td>-34.596012</td>\n",
       "      <td>-58.449280</td>\n",
       "      <td>Deli / Bodega</td>\n",
       "    </tr>\n",
       "    <tr>\n",
       "      <th>1</th>\n",
       "      <td>CHACARITA</td>\n",
       "      <td>-34.595988</td>\n",
       "      <td>-58.45282</td>\n",
       "      <td>Movistar Arena</td>\n",
       "      <td>-34.594348</td>\n",
       "      <td>-58.448033</td>\n",
       "      <td>Stadium</td>\n",
       "    </tr>\n",
       "    <tr>\n",
       "      <th>2</th>\n",
       "      <td>CHACARITA</td>\n",
       "      <td>-34.595988</td>\n",
       "      <td>-58.45282</td>\n",
       "      <td>Margen del Mundo</td>\n",
       "      <td>-34.596987</td>\n",
       "      <td>-58.456835</td>\n",
       "      <td>Museum</td>\n",
       "    </tr>\n",
       "    <tr>\n",
       "      <th>3</th>\n",
       "      <td>CHACARITA</td>\n",
       "      <td>-34.595988</td>\n",
       "      <td>-58.45282</td>\n",
       "      <td>Tiro Loco</td>\n",
       "      <td>-34.598935</td>\n",
       "      <td>-58.452126</td>\n",
       "      <td>Café</td>\n",
       "    </tr>\n",
       "    <tr>\n",
       "      <th>4</th>\n",
       "      <td>CHACARITA</td>\n",
       "      <td>-34.595988</td>\n",
       "      <td>-58.45282</td>\n",
       "      <td>Alumni Fútbol 5</td>\n",
       "      <td>-34.597889</td>\n",
       "      <td>-58.451936</td>\n",
       "      <td>Soccer Field</td>\n",
       "    </tr>\n",
       "  </tbody>\n",
       "</table>\n",
       "</div>"
      ],
      "text/plain": [
       "  Neighborhood  Neighborhood Latitude  Neighborhood Longitude  \\\n",
       "0    CHACARITA             -34.595988               -58.45282   \n",
       "1    CHACARITA             -34.595988               -58.45282   \n",
       "2    CHACARITA             -34.595988               -58.45282   \n",
       "3    CHACARITA             -34.595988               -58.45282   \n",
       "4    CHACARITA             -34.595988               -58.45282   \n",
       "\n",
       "              Venue  Venue Latitude  Venue Longitude Venue Category  \n",
       "0             Yeite      -34.596012       -58.449280  Deli / Bodega  \n",
       "1    Movistar Arena      -34.594348       -58.448033        Stadium  \n",
       "2  Margen del Mundo      -34.596987       -58.456835         Museum  \n",
       "3         Tiro Loco      -34.598935       -58.452126           Café  \n",
       "4   Alumni Fútbol 5      -34.597889       -58.451936   Soccer Field  "
      ]
     },
     "execution_count": 138,
     "metadata": {},
     "output_type": "execute_result"
    }
   ],
   "source": [
    "bs_venues = getNearbyVenues(names=neigh_bs['Neighborhood'],\n",
    "                            latitudes=neigh_bs['Latitude'],\n",
    "                            longitudes=neigh_bs['Longitude'])\n",
    "bs_venues.head()"
   ]
  },
  {
   "cell_type": "markdown",
   "metadata": {},
   "source": [
    "Count venues for neighborhood and atach it to neigh_bs dataframe"
   ]
  },
  {
   "cell_type": "code",
   "execution_count": 139,
   "metadata": {},
   "outputs": [
    {
     "data": {
      "text/html": [
       "<div>\n",
       "<style scoped>\n",
       "    .dataframe tbody tr th:only-of-type {\n",
       "        vertical-align: middle;\n",
       "    }\n",
       "\n",
       "    .dataframe tbody tr th {\n",
       "        vertical-align: top;\n",
       "    }\n",
       "\n",
       "    .dataframe thead th {\n",
       "        text-align: right;\n",
       "    }\n",
       "</style>\n",
       "<table border=\"1\" class=\"dataframe\">\n",
       "  <thead>\n",
       "    <tr style=\"text-align: right;\">\n",
       "      <th></th>\n",
       "      <th>Neighborhood</th>\n",
       "      <th>Latitude</th>\n",
       "      <th>Longitude</th>\n",
       "      <th>Number of Venues</th>\n",
       "    </tr>\n",
       "  </thead>\n",
       "  <tbody>\n",
       "    <tr>\n",
       "      <th>0</th>\n",
       "      <td>CHACARITA</td>\n",
       "      <td>-34.595988</td>\n",
       "      <td>-58.452820</td>\n",
       "      <td>9</td>\n",
       "    </tr>\n",
       "    <tr>\n",
       "      <th>1</th>\n",
       "      <td>PATERNAL</td>\n",
       "      <td>-34.596557</td>\n",
       "      <td>-58.465576</td>\n",
       "      <td>5</td>\n",
       "    </tr>\n",
       "    <tr>\n",
       "      <th>2</th>\n",
       "      <td>VILLA CRESPO</td>\n",
       "      <td>-34.597827</td>\n",
       "      <td>-58.423752</td>\n",
       "      <td>26</td>\n",
       "    </tr>\n",
       "    <tr>\n",
       "      <th>3</th>\n",
       "      <td>VILLA DEL PARQUE</td>\n",
       "      <td>-34.614865</td>\n",
       "      <td>-58.494609</td>\n",
       "      <td>7</td>\n",
       "    </tr>\n",
       "    <tr>\n",
       "      <th>4</th>\n",
       "      <td>ALMAGRO</td>\n",
       "      <td>-34.614116</td>\n",
       "      <td>-58.412870</td>\n",
       "      <td>16</td>\n",
       "    </tr>\n",
       "  </tbody>\n",
       "</table>\n",
       "</div>"
      ],
      "text/plain": [
       "       Neighborhood   Latitude  Longitude  Number of Venues\n",
       "0         CHACARITA -34.595988 -58.452820                 9\n",
       "1          PATERNAL -34.596557 -58.465576                 5\n",
       "2      VILLA CRESPO -34.597827 -58.423752                26\n",
       "3  VILLA DEL PARQUE -34.614865 -58.494609                 7\n",
       "4           ALMAGRO -34.614116 -58.412870                16"
      ]
     },
     "execution_count": 139,
     "metadata": {},
     "output_type": "execute_result"
    }
   ],
   "source": [
    "venues_for_neighborhood = bs_venues.groupby(['Neighborhood']).count()['Venue']\n",
    "# there are some neighborhoods without venues (forsquare doesn't work so good for south america)\n",
    "# so will use this method that will check if the key exists in venues_for_neighborhood\n",
    "def get_venues_count(x):\n",
    "    if x in venues_for_neighborhood:\n",
    "        return venues_for_neighborhood[x]\n",
    "    else:\n",
    "        return 0\n",
    "\n",
    "neigh_bs['Number of Venues'] = neigh_bs['Neighborhood'].apply(lambda x:get_venues_count(x))\n",
    "neigh_bs.head()"
   ]
  },
  {
   "cell_type": "markdown",
   "metadata": {},
   "source": [
    "## Standarize the data and perform cluster the neighborhoods"
   ]
  },
  {
   "cell_type": "markdown",
   "metadata": {},
   "source": [
    "Implement the scandard scaler for the number of venues attribute"
   ]
  },
  {
   "cell_type": "code",
   "execution_count": 140,
   "metadata": {},
   "outputs": [
    {
     "data": {
      "text/html": [
       "<div>\n",
       "<style scoped>\n",
       "    .dataframe tbody tr th:only-of-type {\n",
       "        vertical-align: middle;\n",
       "    }\n",
       "\n",
       "    .dataframe tbody tr th {\n",
       "        vertical-align: top;\n",
       "    }\n",
       "\n",
       "    .dataframe thead th {\n",
       "        text-align: right;\n",
       "    }\n",
       "</style>\n",
       "<table border=\"1\" class=\"dataframe\">\n",
       "  <thead>\n",
       "    <tr style=\"text-align: right;\">\n",
       "      <th></th>\n",
       "      <th>Neighborhood</th>\n",
       "      <th>Latitude</th>\n",
       "      <th>Longitude</th>\n",
       "      <th>Number of Venues</th>\n",
       "    </tr>\n",
       "  </thead>\n",
       "  <tbody>\n",
       "    <tr>\n",
       "      <th>0</th>\n",
       "      <td>CHACARITA</td>\n",
       "      <td>-34.595988</td>\n",
       "      <td>-58.452820</td>\n",
       "      <td>-0.314691</td>\n",
       "    </tr>\n",
       "    <tr>\n",
       "      <th>1</th>\n",
       "      <td>PATERNAL</td>\n",
       "      <td>-34.596557</td>\n",
       "      <td>-58.465576</td>\n",
       "      <td>-0.661936</td>\n",
       "    </tr>\n",
       "    <tr>\n",
       "      <th>2</th>\n",
       "      <td>VILLA CRESPO</td>\n",
       "      <td>-34.597827</td>\n",
       "      <td>-58.423752</td>\n",
       "      <td>1.161102</td>\n",
       "    </tr>\n",
       "    <tr>\n",
       "      <th>3</th>\n",
       "      <td>VILLA DEL PARQUE</td>\n",
       "      <td>-34.614865</td>\n",
       "      <td>-58.494609</td>\n",
       "      <td>-0.488314</td>\n",
       "    </tr>\n",
       "    <tr>\n",
       "      <th>4</th>\n",
       "      <td>ALMAGRO</td>\n",
       "      <td>-34.614116</td>\n",
       "      <td>-58.412870</td>\n",
       "      <td>0.292988</td>\n",
       "    </tr>\n",
       "  </tbody>\n",
       "</table>\n",
       "</div>"
      ],
      "text/plain": [
       "       Neighborhood   Latitude  Longitude  Number of Venues\n",
       "0         CHACARITA -34.595988 -58.452820         -0.314691\n",
       "1          PATERNAL -34.596557 -58.465576         -0.661936\n",
       "2      VILLA CRESPO -34.597827 -58.423752          1.161102\n",
       "3  VILLA DEL PARQUE -34.614865 -58.494609         -0.488314\n",
       "4           ALMAGRO -34.614116 -58.412870          0.292988"
      ]
     },
     "execution_count": 140,
     "metadata": {},
     "output_type": "execute_result"
    }
   ],
   "source": [
    "sc_X = StandardScaler()\n",
    "neigh_bs['Number of Venues'] = sc_X.fit_transform(neigh_bs[['Number of Venues']])\n",
    "neigh_bs.head()"
   ]
  },
  {
   "cell_type": "markdown",
   "metadata": {},
   "source": [
    "Perform K-means"
   ]
  },
  {
   "cell_type": "code",
   "execution_count": 141,
   "metadata": {},
   "outputs": [
    {
     "data": {
      "text/plain": [
       "array([3, 0, 4, 3, 2, 2, 3, 0, 0, 0], dtype=int32)"
      ]
     },
     "execution_count": 141,
     "metadata": {},
     "output_type": "execute_result"
    }
   ],
   "source": [
    "# set number of clusters\n",
    "kclusters = 5\n",
    "\n",
    "neigh_bs_clustering = neigh_bs.drop(['Neighborhood','Latitude','Longitude'], 1)\n",
    "\n",
    "# run k-means clustering\n",
    "kmeans = KMeans(n_clusters=kclusters, random_state=0).fit(neigh_bs_clustering)\n",
    "\n",
    "# check cluster labels generated for each row in the dataframe\n",
    "kmeans.labels_[0:10] "
   ]
  },
  {
   "cell_type": "markdown",
   "metadata": {},
   "source": [
    "Add clusters to neigh_bs dataframe and change names"
   ]
  },
  {
   "cell_type": "code",
   "execution_count": 142,
   "metadata": {},
   "outputs": [
    {
     "data": {
      "text/html": [
       "<div>\n",
       "<style scoped>\n",
       "    .dataframe tbody tr th:only-of-type {\n",
       "        vertical-align: middle;\n",
       "    }\n",
       "\n",
       "    .dataframe tbody tr th {\n",
       "        vertical-align: top;\n",
       "    }\n",
       "\n",
       "    .dataframe thead th {\n",
       "        text-align: right;\n",
       "    }\n",
       "</style>\n",
       "<table border=\"1\" class=\"dataframe\">\n",
       "  <thead>\n",
       "    <tr style=\"text-align: right;\">\n",
       "      <th></th>\n",
       "      <th>Neighborhood</th>\n",
       "      <th>Latitude</th>\n",
       "      <th>Longitude</th>\n",
       "      <th>Number of Venues</th>\n",
       "      <th>Cluster</th>\n",
       "      <th>Cluster Label</th>\n",
       "    </tr>\n",
       "  </thead>\n",
       "  <tbody>\n",
       "    <tr>\n",
       "      <th>0</th>\n",
       "      <td>CHACARITA</td>\n",
       "      <td>-34.595988</td>\n",
       "      <td>-58.452820</td>\n",
       "      <td>-0.314691</td>\n",
       "      <td>3</td>\n",
       "      <td>Low Shopping Area</td>\n",
       "    </tr>\n",
       "    <tr>\n",
       "      <th>1</th>\n",
       "      <td>PATERNAL</td>\n",
       "      <td>-34.596557</td>\n",
       "      <td>-58.465576</td>\n",
       "      <td>-0.661936</td>\n",
       "      <td>0</td>\n",
       "      <td>Very High shopping Area</td>\n",
       "    </tr>\n",
       "    <tr>\n",
       "      <th>2</th>\n",
       "      <td>VILLA CRESPO</td>\n",
       "      <td>-34.597827</td>\n",
       "      <td>-58.423752</td>\n",
       "      <td>1.161102</td>\n",
       "      <td>4</td>\n",
       "      <td>Very Low Shopping Area</td>\n",
       "    </tr>\n",
       "    <tr>\n",
       "      <th>3</th>\n",
       "      <td>VILLA DEL PARQUE</td>\n",
       "      <td>-34.614865</td>\n",
       "      <td>-58.494609</td>\n",
       "      <td>-0.488314</td>\n",
       "      <td>3</td>\n",
       "      <td>Low Shopping Area</td>\n",
       "    </tr>\n",
       "    <tr>\n",
       "      <th>4</th>\n",
       "      <td>ALMAGRO</td>\n",
       "      <td>-34.614116</td>\n",
       "      <td>-58.412870</td>\n",
       "      <td>0.292988</td>\n",
       "      <td>2</td>\n",
       "      <td>Mid Level Shopping Area</td>\n",
       "    </tr>\n",
       "  </tbody>\n",
       "</table>\n",
       "</div>"
      ],
      "text/plain": [
       "       Neighborhood   Latitude  Longitude  Number of Venues  Cluster  \\\n",
       "0         CHACARITA -34.595988 -58.452820         -0.314691        3   \n",
       "1          PATERNAL -34.596557 -58.465576         -0.661936        0   \n",
       "2      VILLA CRESPO -34.597827 -58.423752          1.161102        4   \n",
       "3  VILLA DEL PARQUE -34.614865 -58.494609         -0.488314        3   \n",
       "4           ALMAGRO -34.614116 -58.412870          0.292988        2   \n",
       "\n",
       "             Cluster Label  \n",
       "0        Low Shopping Area  \n",
       "1  Very High shopping Area  \n",
       "2   Very Low Shopping Area  \n",
       "3        Low Shopping Area  \n",
       "4  Mid Level Shopping Area  "
      ]
     },
     "execution_count": 142,
     "metadata": {},
     "output_type": "execute_result"
    }
   ],
   "source": [
    "neigh_bs['Cluster'] = kmeans.labels_\n",
    "\n",
    "def assign_cluster_label(cluster):\n",
    "    if cluster == 0:\n",
    "        return \"Very High shopping Area\"\n",
    "    if cluster == 1:\n",
    "        return \"High Shopping Area\"\n",
    "    if cluster == 2:\n",
    "        return \"Mid Level Shopping Area\"\n",
    "    if cluster == 3:\n",
    "        return \"Low Shopping Area\"\n",
    "    if cluster == 4:\n",
    "        return \"Very Low Shopping Area\"\n",
    "\n",
    "    \n",
    "neigh_bs['Cluster Label'] = neigh_bs['Cluster'].apply(lambda x:assign_cluster_label(x))\n",
    "neigh_bs.head()"
   ]
  },
  {
   "cell_type": "markdown",
   "metadata": {},
   "source": [
    "Display results in a map"
   ]
  },
  {
   "cell_type": "code",
   "execution_count": 143,
   "metadata": {},
   "outputs": [
    {
     "data": {
      "text/html": [
       "<div style=\"width:100%;\"><div style=\"position:relative;width:100%;height:0;padding-bottom:60%;\"><span style=\"color:#565656\">Make this Notebook Trusted to load map: File -> Trust Notebook</span><iframe src=\"about:blank\" style=\"position:absolute;width:100%;height:100%;left:0;top:0;border:none !important;\" data-html=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 onload=\"this.contentDocument.open();this.contentDocument.write(atob(this.getAttribute('data-html')));this.contentDocument.close();\" allowfullscreen webkitallowfullscreen mozallowfullscreen></iframe></div></div>"
      ],
      "text/plain": [
       "<folium.folium.Map at 0x7fe35be99550>"
      ]
     },
     "execution_count": 143,
     "metadata": {},
     "output_type": "execute_result"
    }
   ],
   "source": [
    "map_clusters = folium.Map(location=[-34.6131516, -58.3772316], zoom_start=10)\n",
    "\n",
    "x = np.arange(kclusters)\n",
    "ys = [i + x + (i*x)**2 for i in range(kclusters)]\n",
    "colors_array = cm.rainbow(np.linspace(0, 1, len(ys)))\n",
    "rainbow = [colors.rgb2hex(i) for i in colors_array]\n",
    "\n",
    "# add markers to the map\n",
    "markers_colors = []\n",
    "for lat, lon, poi, cluster, cluster_label in zip(neigh_bs['Latitude'], neigh_bs['Longitude'], neigh_bs['Neighborhood'], neigh_bs['Cluster'], neigh_bs['Cluster Label']):\n",
    "    label = folium.Popup(str(poi) + ' ' + cluster_label, parse_html=True)\n",
    "    folium.CircleMarker(\n",
    "        [lat, lon],\n",
    "        radius=5,\n",
    "        popup=label,\n",
    "        color=rainbow[cluster-1],\n",
    "        fill=True,\n",
    "        fill_color=rainbow[cluster-1],\n",
    "        fill_opacity=0.7).add_to(map_clusters)\n",
    "       \n",
    "map_clusters"
   ]
  },
  {
   "cell_type": "code",
   "execution_count": null,
   "metadata": {},
   "outputs": [],
   "source": []
  }
 ],
 "metadata": {
  "kernelspec": {
   "display_name": "Python 3",
   "language": "python",
   "name": "python3"
  },
  "language_info": {
   "codemirror_mode": {
    "name": "ipython",
    "version": 3
   },
   "file_extension": ".py",
   "mimetype": "text/x-python",
   "name": "python",
   "nbconvert_exporter": "python",
   "pygments_lexer": "ipython3",
   "version": "3.7.6"
  }
 },
 "nbformat": 4,
 "nbformat_minor": 4
}
